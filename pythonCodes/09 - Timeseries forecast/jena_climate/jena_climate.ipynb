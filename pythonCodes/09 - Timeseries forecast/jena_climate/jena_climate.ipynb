{
  "nbformat": 4,
  "nbformat_minor": 0,
  "metadata": {
    "kernelspec": {
      "display_name": "Python 3",
      "language": "python",
      "name": "python3"
    },
    "language_info": {
      "codemirror_mode": {
        "name": "ipython",
        "version": 3
      },
      "file_extension": ".py",
      "mimetype": "text/x-python",
      "name": "python",
      "nbconvert_exporter": "python",
      "pygments_lexer": "ipython3",
      "version": "3.7.1"
    },
    "colab": {
      "name": "jena_climate.ipynb",
      "version": "0.3.2",
      "provenance": []
    }
  },
  "cells": [
    {
      "cell_type": "code",
      "metadata": {
        "id": "wjnYk5Zo8IZR",
        "colab_type": "code",
        "outputId": "a7bfb766-bf08-4880-92f4-5894399979d7",
        "colab": {
          "base_uri": "https://localhost:8080/",
          "height": 54
        }
      },
      "source": [
        "import keras\n",
        "keras.__version__"
      ],
      "execution_count": 0,
      "outputs": [
        {
          "output_type": "stream",
          "text": [
            "Using TensorFlow backend.\n"
          ],
          "name": "stderr"
        },
        {
          "output_type": "execute_result",
          "data": {
            "text/plain": [
              "'2.2.4'"
            ]
          },
          "metadata": {
            "tags": []
          },
          "execution_count": 1
        }
      ]
    },
    {
      "cell_type": "code",
      "metadata": {
        "id": "cpNswWBtMfJj",
        "colab_type": "code",
        "outputId": "b6633402-7365-431d-ac4f-d2ed3ed2d65a",
        "colab": {
          "base_uri": "https://localhost:8080/",
          "height": 35
        }
      },
      "source": [
        "!wget https://s3.amazonaws.com/keras-datasets/jena_climate_2009_2016.csv.zip\n",
        "!unzip jena_climate_2009_2016.csv.zip\n",
        "!ls"
      ],
      "execution_count": 0,
      "outputs": [
        {
          "output_type": "stream",
          "text": [
            "jena_climate_2009_2016.csv  jena_climate_2009_2016.csv.zip  sample_data\n"
          ],
          "name": "stdout"
        }
      ]
    },
    {
      "cell_type": "code",
      "metadata": {
        "id": "hQdqV5hoLkKU",
        "colab_type": "code",
        "colab": {}
      },
      "source": [
        "import os\n",
        "\n",
        "data_dir = './'\n",
        "fname = os.path.join(data_dir, 'jena_climate_2009_2016.csv')\n",
        "\n",
        "f = open(fname)\n",
        "data = f.read()\n",
        "f.close()"
      ],
      "execution_count": 0,
      "outputs": []
    },
    {
      "cell_type": "code",
      "metadata": {
        "id": "FTpEUaMn8IZm",
        "colab_type": "code",
        "outputId": "298811d1-1ad6-46fe-bb49-48429cc6d712",
        "colab": {
          "base_uri": "https://localhost:8080/",
          "height": 74
        }
      },
      "source": [
        "\n",
        "lines = data.split('\\n')\n",
        "header = lines[0].split(',')\n",
        "lines = lines[1:]\n",
        "\n",
        "print(header)\n",
        "print(len(lines))"
      ],
      "execution_count": 0,
      "outputs": [
        {
          "output_type": "stream",
          "text": [
            "['\"Date Time\"', '\"p (mbar)\"', '\"T (degC)\"', '\"Tpot (K)\"', '\"Tdew (degC)\"', '\"rh (%)\"', '\"VPmax (mbar)\"', '\"VPact (mbar)\"', '\"VPdef (mbar)\"', '\"sh (g/kg)\"', '\"H2OC (mmol/mol)\"', '\"rho (g/m**3)\"', '\"wv (m/s)\"', '\"max. wv (m/s)\"', '\"wd (deg)\"']\n",
            "420551\n"
          ],
          "name": "stdout"
        }
      ]
    },
    {
      "cell_type": "code",
      "metadata": {
        "id": "e0kg92WC8IZu",
        "colab_type": "code",
        "outputId": "f85210ef-d9a2-410f-f777-d7a3bca0d158",
        "colab": {
          "base_uri": "https://localhost:8080/",
          "height": 293
        }
      },
      "source": [
        "header\n"
      ],
      "execution_count": 0,
      "outputs": [
        {
          "output_type": "execute_result",
          "data": {
            "text/plain": [
              "['\"Date Time\"',\n",
              " '\"p (mbar)\"',\n",
              " '\"T (degC)\"',\n",
              " '\"Tpot (K)\"',\n",
              " '\"Tdew (degC)\"',\n",
              " '\"rh (%)\"',\n",
              " '\"VPmax (mbar)\"',\n",
              " '\"VPact (mbar)\"',\n",
              " '\"VPdef (mbar)\"',\n",
              " '\"sh (g/kg)\"',\n",
              " '\"H2OC (mmol/mol)\"',\n",
              " '\"rho (g/m**3)\"',\n",
              " '\"wv (m/s)\"',\n",
              " '\"max. wv (m/s)\"',\n",
              " '\"wd (deg)\"']"
            ]
          },
          "metadata": {
            "tags": []
          },
          "execution_count": 5
        }
      ]
    },
    {
      "cell_type": "markdown",
      "metadata": {
        "id": "1PsLAEFJ8IZ2",
        "colab_type": "text"
      },
      "source": [
        "Let's convert all of these 420,551 lines of data into a Numpy array:"
      ]
    },
    {
      "cell_type": "code",
      "metadata": {
        "id": "__9MDeAn8IZ4",
        "colab_type": "code",
        "colab": {}
      },
      "source": [
        "import numpy as np\n",
        "\n",
        "float_data = np.zeros((len(lines), len(header) - 1))\n",
        "for i, line in enumerate(lines):\n",
        "    values = [float(x) for x in line.split(',')[1:]]\n",
        "    float_data[i, :] = values"
      ],
      "execution_count": 0,
      "outputs": []
    },
    {
      "cell_type": "code",
      "metadata": {
        "id": "wZp_gIUiNnzG",
        "colab_type": "code",
        "outputId": "3772009c-7a9f-4326-96a4-488e06f36d94",
        "colab": {
          "base_uri": "https://localhost:8080/",
          "height": 35
        }
      },
      "source": [
        "float_data.shape"
      ],
      "execution_count": 0,
      "outputs": [
        {
          "output_type": "execute_result",
          "data": {
            "text/plain": [
              "(420551, 14)"
            ]
          },
          "metadata": {
            "tags": []
          },
          "execution_count": 15
        }
      ]
    },
    {
      "cell_type": "code",
      "metadata": {
        "id": "GWwqBVez8IaB",
        "colab_type": "code",
        "outputId": "ec295a3d-8450-4220-83eb-af5d0f9c25ee",
        "colab": {
          "base_uri": "https://localhost:8080/",
          "height": 269
        }
      },
      "source": [
        "from matplotlib import pyplot as plt\n",
        "\n",
        "temp = float_data[:, 1]  # temperature (in degrees Celsius)\n",
        "plt.plot(range(len(temp)), temp)\n",
        "plt.show()"
      ],
      "execution_count": 0,
      "outputs": [
        {
          "output_type": "display_data",
          "data": {
            "image/png": "[encoded data removed]",
            "text/plain": [
              "<Figure size 432x288 with 1 Axes>"
            ]
          },
          "metadata": {
            "tags": []
          }
        }
      ]
    },
    {
      "cell_type": "markdown",
      "metadata": {
        "id": "E-0M2xev8IaI",
        "colab_type": "text"
      },
      "source": [
        "\n",
        "On this plot, you can clearly see the yearly periodicity of temperature.\n",
        "\n",
        "Here is a more narrow plot of the first ten days of temperature data (since the data is recorded every ten minutes, we get 144 data points \n",
        "per day):"
      ]
    },
    {
      "cell_type": "code",
      "metadata": {
        "id": "wowb6zfq8IaL",
        "colab_type": "code",
        "outputId": "1247be4a-c6cd-4da5-e08e-a5084fec9030",
        "colab": {
          "base_uri": "https://localhost:8080/",
          "height": 269
        }
      },
      "source": [
        "plt.plot(range(1440), temp[:1440])\n",
        "plt.show()"
      ],
      "execution_count": 0,
      "outputs": [
        {
          "output_type": "display_data",
          "data": {
            "image/png": "[encoded data removed]",
            "text/plain": [
              "<Figure size 432x288 with 1 Axes>"
            ]
          },
          "metadata": {
            "tags": []
          }
        }
      ]
    },
    {
      "cell_type": "markdown",
      "metadata": {
        "id": "aY-RBiHM8IaU",
        "colab_type": "text"
      },
      "source": [
        "## Preparing the data\n",
        "\n",
        "\n",
        "The exact formulation of our problem will be the following: given data going as far back as `lookback` timesteps (a timestep is 10 minutes) \n",
        "and sampled every `steps` timesteps, can we predict the temperature in `delay` timesteps?\n",
        "\n",
        "We will use the following parameter values:\n",
        "\n",
        "* `lookback = 720`, i.e. our observations will go back 5 days.\n",
        "* `steps = 6`, i.e. our observations will be sampled at one data point per hour.\n",
        "* `delay = 144`, i.e. our targets will be 24 hours in the future.\n",
        "\n",
        "To get started, we need to do two things:\n",
        "\n",
        "* Preprocess the data to a format a neural network can ingest. This is easy: the data is already numerical, so we don't need to do any \n",
        "vectorization. However each timeseries in the data is on a different scale (e.g. temperature is typically between -20 and +30, but \n",
        "pressure, measured in mbar, is around 1000). So we will normalize each timeseries independently so that they all take small values on a \n",
        "similar scale.\n",
        "* Write a Python generator that takes our current array of float data and yields batches of data from the recent past, alongside with a \n",
        "target temperature in the future. Since the samples in our dataset are highly redundant (e.g. sample `N` and sample `N + 1` will have most \n",
        "of their timesteps in common), it would be very wasteful to explicitly allocate every sample. Instead, we will generate the samples on the \n",
        "fly using the original data.\n",
        "\n",
        "We preprocess the data by subtracting the mean of each timeseries and dividing by the standard deviation. We plan on using the first \n",
        "200,000 timesteps as training data, so we compute the mean and standard deviation only on this fraction of the data:"
      ]
    },
    {
      "cell_type": "code",
      "metadata": {
        "id": "jHxuotOh8IaX",
        "colab_type": "code",
        "colab": {}
      },
      "source": [
        "mean = float_data[:200000].mean(axis=0)\n",
        "float_data -= mean\n",
        "std = float_data[:200000].std(axis=0)\n",
        "float_data /= std"
      ],
      "execution_count": 0,
      "outputs": []
    },
    {
      "cell_type": "markdown",
      "metadata": {
        "id": "MzF-vxWH8Iad",
        "colab_type": "text"
      },
      "source": [
        "\n",
        "Now here is the data generator that we will use. It yields a tuple `(samples, targets)` where `samples` is one batch of input data and \n",
        "`targets` is the corresponding array of target temperatures. It takes the following arguments:\n",
        "\n",
        "* `data`: The original array of floating point data, which we just normalized in the code snippet above.\n",
        "* `lookback`: How many timesteps back should our input data go.\n",
        "* `delay`: How many timesteps in the future should our target be.\n",
        "* `min_index` and `max_index`: Indices in the `data` array that delimit which timesteps to draw from. This is useful for keeping a segment \n",
        "of the data for validation and another one for testing.\n",
        "* `shuffle`: Whether to shuffle our samples or draw them in chronological order.\n",
        "* `batch_size`: The number of samples per batch.\n",
        "* `step`: The period, in timesteps, at which we sample data. We will set it 6 in order to draw one data point every hour."
      ]
    },
    {
      "cell_type": "code",
      "metadata": {
        "id": "blI1SBzu8Iaf",
        "colab_type": "code",
        "colab": {}
      },
      "source": [
        "def generator(data, lookback, delay, min_index, max_index,\n",
        "              shuffle=False, batch_size=128, step=6):\n",
        "    if max_index is None:\n",
        "        max_index = len(data) - delay - 1\n",
        "    i = min_index + lookback\n",
        "    while 1:\n",
        "        if shuffle:\n",
        "            rows = np.random.randint(\n",
        "                min_index + lookback, max_index, size=batch_size)\n",
        "        else:\n",
        "            if i + batch_size >= max_index:\n",
        "                i = min_index + lookback\n",
        "            rows = np.arange(i, min(i + batch_size, max_index))\n",
        "            i += len(rows)\n",
        "\n",
        "        samples = np.zeros((len(rows),\n",
        "                           lookback // step,\n",
        "                           data.shape[-1]))\n",
        "        targets = np.zeros((len(rows),))\n",
        "        for j, row in enumerate(rows):\n",
        "            indices = range(rows[j] - lookback, rows[j], step)\n",
        "            samples[j] = data[indices]\n",
        "            targets[j] = data[rows[j] + delay][1]\n",
        "        yield samples, targets"
      ],
      "execution_count": 0,
      "outputs": []
    },
    {
      "cell_type": "markdown",
      "metadata": {
        "id": "Vwx1fPvb8Iam",
        "colab_type": "text"
      },
      "source": [
        "\n",
        "Now let's use our abstract generator function to instantiate three generators, one for training, one for validation and one for testing. \n",
        "Each will look at different temporal segments of the original data: the training generator looks at the first 200,000 timesteps, the \n",
        "validation generator looks at the following 100,000, and the test generator looks at the remainder."
      ]
    },
    {
      "cell_type": "code",
      "metadata": {
        "id": "HNIgTEUd8Iaq",
        "colab_type": "code",
        "colab": {}
      },
      "source": [
        "lookback = 1440\n",
        "step = 6\n",
        "delay = 144\n",
        "batch_size = 128\n",
        "\n",
        "train_gen = generator(float_data,\n",
        "                      lookback=lookback,\n",
        "                      delay=delay,\n",
        "                      min_index=0,\n",
        "                      max_index=200000,\n",
        "                      shuffle=True,\n",
        "                      step=step, \n",
        "                      batch_size=batch_size)\n",
        "val_gen = generator(float_data,\n",
        "                    lookback=lookback,\n",
        "                    delay=delay,\n",
        "                    min_index=200001,\n",
        "                    max_index=300000,\n",
        "                    step=step,\n",
        "                    batch_size=batch_size)\n",
        "test_gen = generator(float_data,\n",
        "                     lookback=lookback,\n",
        "                     delay=delay,\n",
        "                     min_index=300001,\n",
        "                     max_index=None,\n",
        "                     step=step,\n",
        "                     batch_size=batch_size)\n",
        "\n",
        "# This is how many steps to draw from `val_gen`\n",
        "# in order to see the whole validation set:\n",
        "val_steps = (300000 - 200001 - lookback) // batch_size\n",
        "\n",
        "# This is how many steps to draw from `test_gen`\n",
        "# in order to see the whole test set:\n",
        "test_steps = (len(float_data) - 300001 - lookback) // batch_size"
      ],
      "execution_count": 0,
      "outputs": []
    },
    {
      "cell_type": "code",
      "metadata": {
        "id": "eS-OdfrRSz-o",
        "colab_type": "code",
        "outputId": "fb43872f-db55-4b94-b675-3151df5e0248",
        "colab": {
          "base_uri": "https://localhost:8080/",
          "height": 35
        }
      },
      "source": [
        "next(train_gen)[1].mean()"
      ],
      "execution_count": 0,
      "outputs": [
        {
          "output_type": "execute_result",
          "data": {
            "text/plain": [
              "0.10637827140733622"
            ]
          },
          "metadata": {
            "tags": []
          },
          "execution_count": 54
        }
      ]
    },
    {
      "cell_type": "markdown",
      "metadata": {
        "id": "56zuHr4d8Iaw",
        "colab_type": "text"
      },
      "source": [
        "## A common sense, non-machine learning baseline"
      ]
    },
    {
      "cell_type": "code",
      "metadata": {
        "id": "4_qxrloX8Ia5",
        "colab_type": "code",
        "outputId": "53c4c5d6-d177-4304-97b9-2dd209831028",
        "colab": {
          "base_uri": "https://localhost:8080/",
          "height": 35
        }
      },
      "source": [
        "def evaluate_naive_method():\n",
        "    batch_maes = []\n",
        "    for step in range(val_steps):\n",
        "        samples, targets = next(val_gen)\n",
        "        preds = samples[:, -1, 1]\n",
        "        mae = np.mean(np.abs(preds - targets))\n",
        "        batch_maes.append(mae)\n",
        "    print(np.mean(batch_maes))\n",
        "    \n",
        "evaluate_naive_method()"
      ],
      "execution_count": 0,
      "outputs": [
        {
          "output_type": "stream",
          "text": [
            "0.2897359729905486\n"
          ],
          "name": "stdout"
        }
      ]
    },
    {
      "cell_type": "markdown",
      "metadata": {
        "id": "7a2F7FEh8IbB",
        "colab_type": "text"
      },
      "source": [
        "It yields a MAE of 0.29. Since our temperature data has been normalized to be centered on 0 and have a standard deviation of one, this \n",
        "number is not immediately interpretable. It translates to an average absolute error of `0.29 * temperature_std` degrees Celsius, i.e. \n",
        "2.57˚C. That's a fairly large average absolute error -- now the game is to leverage our knowledge of deep learning to do better. "
      ]
    },
    {
      "cell_type": "markdown",
      "metadata": {
        "id": "FyNxL7a-8IbC",
        "colab_type": "text"
      },
      "source": [
        "## A first recurrent baseline"
      ]
    },
    {
      "cell_type": "code",
      "metadata": {
        "id": "Fy0KH5jm8IbE",
        "colab_type": "code",
        "outputId": "08269d1a-5f6e-48a7-a554-79eb1c44a0e2",
        "colab": {
          "base_uri": "https://localhost:8080/",
          "height": 201
        }
      },
      "source": [
        "from keras.models import Sequential\n",
        "from keras import layers\n",
        "from keras.optimizers import RMSprop\n",
        "\n",
        "model = Sequential()\n",
        "model.add(layers.GRU(32, input_shape=(None, float_data.shape[-1])))\n",
        "model.add(layers.Dense(1))\n",
        "\n",
        "model.compile(optimizer=RMSprop(), loss='mae')\n",
        "history = model.fit_generator(train_gen,\n",
        "                              steps_per_epoch=100,\n",
        "                              epochs=5,\n",
        "                              validation_data=val_gen,\n",
        "                              validation_steps=val_steps)"
      ],
      "execution_count": 0,
      "outputs": [
        {
          "output_type": "stream",
          "text": [
            "Epoch 1/5\n",
            "100/100 [==============================] - 40s 402ms/step - loss: 0.3353 - val_loss: 0.2833\n",
            "Epoch 2/5\n",
            "100/100 [==============================] - 39s 388ms/step - loss: 0.3044 - val_loss: 0.2809\n",
            "Epoch 3/5\n",
            "100/100 [==============================] - 39s 390ms/step - loss: 0.2970 - val_loss: 0.2778\n",
            "Epoch 4/5\n",
            "100/100 [==============================] - 39s 391ms/step - loss: 0.2876 - val_loss: 0.2734\n",
            "Epoch 5/5\n",
            "100/100 [==============================] - 39s 387ms/step - loss: 0.2899 - val_loss: 0.2721\n"
          ],
          "name": "stdout"
        }
      ]
    },
    {
      "cell_type": "markdown",
      "metadata": {
        "id": "JjR8f4qg8IbK",
        "colab_type": "text"
      },
      "source": [
        "Let look at our results:"
      ]
    },
    {
      "cell_type": "code",
      "metadata": {
        "id": "GfEQ_tcP8IbL",
        "colab_type": "code",
        "outputId": "4719eeb2-4710-4d0a-de20-63cd8af7fc88",
        "colab": {
          "base_uri": "https://localhost:8080/",
          "height": 281
        }
      },
      "source": [
        "loss = history.history['loss']\n",
        "val_loss = history.history['val_loss']\n",
        "\n",
        "epochs = range(len(loss))\n",
        "\n",
        "plt.figure()\n",
        "\n",
        "plt.plot(epochs, loss, 'bo', label='Training loss')\n",
        "plt.plot(epochs, val_loss, 'b', label='Validation loss')\n",
        "plt.title('Training and validation loss')\n",
        "plt.legend()\n",
        "\n",
        "plt.show()"
      ],
      "execution_count": 0,
      "outputs": [
        {
          "output_type": "display_data",
          "data": {
            "image/png": "[encoded data removed]",
            "text/plain": [
              "<Figure size 432x288 with 1 Axes>"
            ]
          },
          "metadata": {
            "tags": []
          }
        }
      ]
    },
    {
      "cell_type": "markdown",
      "metadata": {
        "id": "cWpPWsCm8IbR",
        "colab_type": "text"
      },
      "source": [
        "\n",
        "Much better! We are able to significantly beat the common sense baseline, such demonstrating the value of machine learning here, as well as \n",
        "the superiority of recurrent networks compared to sequence-flattening dense networks on this type of task.\n",
        "\n",
        "Our new validation MAE of ~0.265 (before we start significantly overfitting) translates to a mean absolute error of 2.35˚C after \n",
        "de-normalization. That's a solid gain on our initial error of 2.57˚C, but we probably still have a bit of margin for improvement."
      ]
    },
    {
      "cell_type": "markdown",
      "metadata": {
        "id": "5gE7z3Rb8IbT",
        "colab_type": "text"
      },
      "source": [
        "## Using recurrent dropout to fight overfitting"
      ]
    },
    {
      "cell_type": "code",
      "metadata": {
        "scrolled": true,
        "id": "NExxnGfu8IbV",
        "colab_type": "code",
        "outputId": "30d78db3-1bdb-45a4-8188-8eeb577359e1",
        "colab": {}
      },
      "source": [
        "from keras.models import Sequential\n",
        "from keras import layers\n",
        "from keras.optimizers import RMSprop\n",
        "\n",
        "model = Sequential()\n",
        "model.add(layers.GRU(32,\n",
        "                     dropout=0.2,\n",
        "                     recurrent_dropout=0.2,\n",
        "                     input_shape=(None, float_data.shape[-1])))\n",
        "model.add(layers.Dense(1))\n",
        "\n",
        "model.compile(optimizer=RMSprop(), loss='mae')\n",
        "history = model.fit_generator(train_gen,\n",
        "                              steps_per_epoch=500,\n",
        "                              epochs=40,\n",
        "                              validation_data=val_gen,\n",
        "                              validation_steps=val_steps)"
      ],
      "execution_count": 0,
      "outputs": [
        {
          "output_type": "stream",
          "text": [
            "Epoch 1/40\n",
            "500/500 [==============================] - 171s - loss: 0.3526 - val_loss: 0.2740\n",
            "Epoch 2/40\n",
            "500/500 [==============================] - 170s - loss: 0.3138 - val_loss: 0.2742\n",
            "Epoch 3/40\n",
            "500/500 [==============================] - 170s - loss: 0.3065 - val_loss: 0.2692\n",
            "Epoch 4/40\n",
            "500/500 [==============================] - 170s - loss: 0.3033 - val_loss: 0.2694\n",
            "Epoch 5/40\n",
            "500/500 [==============================] - 170s - loss: 0.3006 - val_loss: 0.2695\n",
            "Epoch 6/40\n",
            "500/500 [==============================] - 170s - loss: 0.2990 - val_loss: 0.2709\n",
            "Epoch 7/40\n",
            "500/500 [==============================] - 170s - loss: 0.2955 - val_loss: 0.2667\n",
            "Epoch 8/40\n",
            "500/500 [==============================] - 170s - loss: 0.2942 - val_loss: 0.2671\n",
            "Epoch 9/40\n",
            "500/500 [==============================] - 171s - loss: 0.2940 - val_loss: 0.2649\n",
            "Epoch 10/40\n",
            "500/500 [==============================] - 170s - loss: 0.2923 - val_loss: 0.2673\n",
            "Epoch 11/40\n",
            "500/500 [==============================] - 170s - loss: 0.2894 - val_loss: 0.2695\n",
            "Epoch 12/40\n",
            "500/500 [==============================] - 170s - loss: 0.2899 - val_loss: 0.2648\n",
            "Epoch 13/40\n",
            "500/500 [==============================] - 170s - loss: 0.2879 - val_loss: 0.2634\n",
            "Epoch 14/40\n",
            "500/500 [==============================] - 170s - loss: 0.2884 - val_loss: 0.2666\n",
            "Epoch 15/40\n",
            "500/500 [==============================] - 170s - loss: 0.2863 - val_loss: 0.2695\n",
            "Epoch 16/40\n",
            "500/500 [==============================] - 170s - loss: 0.2852 - val_loss: 0.2705\n",
            "Epoch 17/40\n",
            "500/500 [==============================] - 170s - loss: 0.2843 - val_loss: 0.2739\n",
            "Epoch 18/40\n",
            "500/500 [==============================] - 170s - loss: 0.2844 - val_loss: 0.2646\n",
            "Epoch 19/40\n",
            "500/500 [==============================] - 170s - loss: 0.2827 - val_loss: 0.2661\n",
            "Epoch 20/40\n",
            "500/500 [==============================] - 170s - loss: 0.2813 - val_loss: 0.2637\n",
            "Epoch 21/40\n",
            "500/500 [==============================] - 170s - loss: 0.2805 - val_loss: 0.2663\n",
            "Epoch 22/40\n",
            "500/500 [==============================] - 170s - loss: 0.2786 - val_loss: 0.2662\n",
            "Epoch 23/40\n",
            "500/500 [==============================] - 170s - loss: 0.2795 - val_loss: 0.2637\n",
            "Epoch 24/40\n",
            "500/500 [==============================] - 170s - loss: 0.2801 - val_loss: 0.2649\n",
            "Epoch 25/40\n",
            "500/500 [==============================] - 170s - loss: 0.2774 - val_loss: 0.2723\n",
            "Epoch 26/40\n",
            "500/500 [==============================] - 170s - loss: 0.2788 - val_loss: 0.2682\n",
            "Epoch 27/40\n",
            "500/500 [==============================] - 171s - loss: 0.2780 - val_loss: 0.2655\n",
            "Epoch 28/40\n",
            "500/500 [==============================] - 170s - loss: 0.2782 - val_loss: 0.2645\n",
            "Epoch 29/40\n",
            "500/500 [==============================] - 170s - loss: 0.2770 - val_loss: 0.2647\n",
            "Epoch 30/40\n",
            "500/500 [==============================] - 170s - loss: 0.2756 - val_loss: 0.2746\n",
            "Epoch 31/40\n",
            "500/500 [==============================] - 171s - loss: 0.2763 - val_loss: 0.2641\n",
            "Epoch 32/40\n",
            "500/500 [==============================] - 170s - loss: 0.2752 - val_loss: 0.2733\n",
            "Epoch 33/40\n",
            "500/500 [==============================] - 170s - loss: 0.2742 - val_loss: 0.2619\n",
            "Epoch 34/40\n",
            "500/500 [==============================] - 170s - loss: 0.2753 - val_loss: 0.2711\n",
            "Epoch 35/40\n",
            "500/500 [==============================] - 170s - loss: 0.2727 - val_loss: 0.2658\n",
            "Epoch 36/40\n",
            "500/500 [==============================] - 170s - loss: 0.2724 - val_loss: 0.2664\n",
            "Epoch 37/40\n",
            "500/500 [==============================] - 170s - loss: 0.2725 - val_loss: 0.2661\n",
            "Epoch 38/40\n",
            "500/500 [==============================] - 171s - loss: 0.2725 - val_loss: 0.2633\n",
            "Epoch 39/40\n",
            "500/500 [==============================] - 170s - loss: 0.2726 - val_loss: 0.2695\n",
            "Epoch 40/40\n",
            "500/500 [==============================] - 170s - loss: 0.2727 - val_loss: 0.2719\n"
          ],
          "name": "stdout"
        }
      ]
    },
    {
      "cell_type": "code",
      "metadata": {
        "id": "SbRmf-MV8Ibb",
        "colab_type": "code",
        "outputId": "67572dd2-5b69-4ec1-df5f-c7163369420c",
        "colab": {}
      },
      "source": [
        "loss = history.history['loss']\n",
        "val_loss = history.history['val_loss']\n",
        "\n",
        "epochs = range(len(loss))\n",
        "\n",
        "plt.figure()\n",
        "\n",
        "plt.plot(epochs, loss, 'bo', label='Training loss')\n",
        "plt.plot(epochs, val_loss, 'b', label='Validation loss')\n",
        "plt.title('Training and validation loss')\n",
        "plt.legend()\n",
        "\n",
        "plt.show()"
      ],
      "execution_count": 0,
      "outputs": [
        {
          "output_type": "display_data",
          "data": {
            "text/plain": [
              "<matplotlib.figure.Figure at 0x7f3317e879e8>"
            ]
          },
          "metadata": {
            "tags": []
          }
        },
        {
          "output_type": "display_data",
          "data": {
            "image/png": "[encoded data removed]",
            "text/plain": [
              "<matplotlib.figure.Figure at 0x7f3315076e48>"
            ]
          },
          "metadata": {
            "tags": []
          }
        }
      ]
    },
    {
      "cell_type": "markdown",
      "metadata": {
        "id": "JLR8pjCh8Ibh",
        "colab_type": "text"
      },
      "source": [
        "Great success; we are no longer overfitting during the first 30 epochs. However, while we have more stable evaluation scores, our best \n",
        "scores are not much lower than they were previously."
      ]
    },
    {
      "cell_type": "markdown",
      "metadata": {
        "id": "IF0oRyf78Ibi",
        "colab_type": "text"
      },
      "source": [
        "## Stacking recurrent layers"
      ]
    },
    {
      "cell_type": "code",
      "metadata": {
        "id": "0j9p2CBL8Ibk",
        "colab_type": "code",
        "outputId": "dc8d5274-fa7b-405b-abec-f5b0774c2bab",
        "colab": {}
      },
      "source": [
        "from keras.models import Sequential\n",
        "from keras import layers\n",
        "from keras.optimizers import RMSprop\n",
        "\n",
        "model = Sequential()\n",
        "model.add(layers.GRU(32,\n",
        "                     dropout=0.1,\n",
        "                     recurrent_dropout=0.5,\n",
        "                     return_sequences=True,\n",
        "                     input_shape=(None, float_data.shape[-1])))\n",
        "model.add(layers.GRU(64, activation='relu',\n",
        "                     dropout=0.1, \n",
        "                     recurrent_dropout=0.5))\n",
        "model.add(layers.Dense(1))\n",
        "\n",
        "model.compile(optimizer=RMSprop(), loss='mae')\n",
        "history = model.fit_generator(train_gen,\n",
        "                              steps_per_epoch=500,\n",
        "                              epochs=40,\n",
        "                              validation_data=val_gen,\n",
        "                              validation_steps=val_steps)"
      ],
      "execution_count": 0,
      "outputs": [
        {
          "output_type": "stream",
          "text": [
            "Epoch 1/40\n",
            "500/500 [==============================] - 346s - loss: 0.3341 - val_loss: 0.2780\n",
            "Epoch 2/40\n",
            "500/500 [==============================] - 344s - loss: 0.3125 - val_loss: 0.2754\n",
            "Epoch 3/40\n",
            "500/500 [==============================] - 344s - loss: 0.3045 - val_loss: 0.2696\n",
            "Epoch 4/40\n",
            "500/500 [==============================] - 344s - loss: 0.3018 - val_loss: 0.2747\n",
            "Epoch 5/40\n",
            "500/500 [==============================] - 344s - loss: 0.2957 - val_loss: 0.2690\n",
            "Epoch 6/40\n",
            "500/500 [==============================] - 344s - loss: 0.2923 - val_loss: 0.2692\n",
            "Epoch 7/40\n",
            "500/500 [==============================] - 344s - loss: 0.2907 - val_loss: 0.2673\n",
            "Epoch 8/40\n",
            "500/500 [==============================] - 343s - loss: 0.2879 - val_loss: 0.2690\n",
            "Epoch 9/40\n",
            "500/500 [==============================] - 343s - loss: 0.2866 - val_loss: 0.2743\n",
            "Epoch 10/40\n",
            "500/500 [==============================] - 344s - loss: 0.2833 - val_loss: 0.2669\n",
            "Epoch 11/40\n",
            "500/500 [==============================] - 344s - loss: 0.2825 - val_loss: 0.2669\n",
            "Epoch 12/40\n",
            "500/500 [==============================] - 344s - loss: 0.2822 - val_loss: 0.2700\n",
            "Epoch 13/40\n",
            "500/500 [==============================] - 345s - loss: 0.2785 - val_loss: 0.2698\n",
            "Epoch 14/40\n",
            "500/500 [==============================] - 345s - loss: 0.2775 - val_loss: 0.2634\n",
            "Epoch 15/40\n",
            "500/500 [==============================] - 344s - loss: 0.2778 - val_loss: 0.2653\n",
            "Epoch 16/40\n",
            "500/500 [==============================] - 344s - loss: 0.2740 - val_loss: 0.2633\n",
            "Epoch 17/40\n",
            "500/500 [==============================] - 344s - loss: 0.2746 - val_loss: 0.2680\n",
            "Epoch 18/40\n",
            "500/500 [==============================] - 344s - loss: 0.2731 - val_loss: 0.2649\n",
            "Epoch 19/40\n",
            "500/500 [==============================] - 345s - loss: 0.2709 - val_loss: 0.2699\n",
            "Epoch 20/40\n",
            "500/500 [==============================] - 344s - loss: 0.2693 - val_loss: 0.2655\n",
            "Epoch 21/40\n",
            "500/500 [==============================] - 345s - loss: 0.2679 - val_loss: 0.2654\n",
            "Epoch 22/40\n",
            "500/500 [==============================] - 344s - loss: 0.2677 - val_loss: 0.2731\n",
            "Epoch 23/40\n",
            "500/500 [==============================] - 345s - loss: 0.2672 - val_loss: 0.2680\n",
            "Epoch 24/40\n",
            "500/500 [==============================] - 345s - loss: 0.2648 - val_loss: 0.2669\n",
            "Epoch 25/40\n",
            "500/500 [==============================] - 345s - loss: 0.2645 - val_loss: 0.2655\n",
            "Epoch 26/40\n",
            "500/500 [==============================] - 344s - loss: 0.2648 - val_loss: 0.2673\n",
            "Epoch 27/40\n",
            "500/500 [==============================] - 344s - loss: 0.2624 - val_loss: 0.2694\n",
            "Epoch 28/40\n",
            "500/500 [==============================] - 344s - loss: 0.2624 - val_loss: 0.2698\n",
            "Epoch 29/40\n",
            "500/500 [==============================] - 344s - loss: 0.2602 - val_loss: 0.2765\n",
            "Epoch 30/40\n",
            "500/500 [==============================] - 344s - loss: 0.2596 - val_loss: 0.2795\n",
            "Epoch 31/40\n",
            "500/500 [==============================] - 344s - loss: 0.2598 - val_loss: 0.2688\n",
            "Epoch 32/40\n",
            "500/500 [==============================] - 344s - loss: 0.2590 - val_loss: 0.2724\n",
            "Epoch 33/40\n",
            "500/500 [==============================] - 344s - loss: 0.2581 - val_loss: 0.2754\n",
            "Epoch 34/40\n",
            "500/500 [==============================] - 344s - loss: 0.2570 - val_loss: 0.2688\n",
            "Epoch 35/40\n",
            "500/500 [==============================] - 344s - loss: 0.2559 - val_loss: 0.2753\n",
            "Epoch 36/40\n",
            "500/500 [==============================] - 345s - loss: 0.2552 - val_loss: 0.2719\n",
            "Epoch 37/40\n",
            "500/500 [==============================] - 344s - loss: 0.2552 - val_loss: 0.2745\n",
            "Epoch 38/40\n",
            "500/500 [==============================] - 344s - loss: 0.2537 - val_loss: 0.2761\n",
            "Epoch 39/40\n",
            "500/500 [==============================] - 344s - loss: 0.2546 - val_loss: 0.2793\n",
            "Epoch 40/40\n",
            "500/500 [==============================] - 345s - loss: 0.2532 - val_loss: 0.2782\n"
          ],
          "name": "stdout"
        }
      ]
    },
    {
      "cell_type": "code",
      "metadata": {
        "id": "xbqR95I98Ibt",
        "colab_type": "code",
        "outputId": "c6ea8e4b-164f-4781-c4e5-15d78787e6fd",
        "colab": {}
      },
      "source": [
        "loss = history.history['loss']\n",
        "val_loss = history.history['val_loss']\n",
        "\n",
        "epochs = range(len(loss))\n",
        "\n",
        "plt.figure()\n",
        "\n",
        "plt.plot(epochs, loss, 'bo', label='Training loss')\n",
        "plt.plot(epochs, val_loss, 'b', label='Validation loss')\n",
        "plt.title('Training and validation loss')\n",
        "plt.legend()\n",
        "\n",
        "plt.show()"
      ],
      "execution_count": 0,
      "outputs": [
        {
          "output_type": "display_data",
          "data": {
            "text/plain": [
              "<matplotlib.figure.Figure at 0x7f33151ee630>"
            ]
          },
          "metadata": {
            "tags": []
          }
        },
        {
          "output_type": "display_data",
          "data": {
            "image/png": "[encoded data removed]",
            "text/plain": [
              "<matplotlib.figure.Figure at 0x7f3315184390>"
            ]
          },
          "metadata": {
            "tags": []
          }
        }
      ]
    }
  ]
}