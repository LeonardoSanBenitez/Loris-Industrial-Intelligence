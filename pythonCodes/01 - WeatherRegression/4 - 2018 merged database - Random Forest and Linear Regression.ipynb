{
 "cells": [
  {
   "cell_type": "code",
   "execution_count": 1,
   "metadata": {},
   "outputs": [],
   "source": [
    "import pandas as pd\n",
    "pd.set_option('display.max_columns', None)\n",
    "pd.set_option('display.max_rows', 10000)\n",
    "\n",
    "import numpy as np\n",
    "\n",
    "import seaborn as sns\n",
    "import matplotlib.pyplot as plt\n",
    "%matplotlib inline"
   ]
  },
  {
   "cell_type": "code",
   "execution_count": 20,
   "metadata": {},
   "outputs": [
    {
     "data": {
      "text/html": [
       "<div>\n",
       "<style scoped>\n",
       "    .dataframe tbody tr th:only-of-type {\n",
       "        vertical-align: middle;\n",
       "    }\n",
       "\n",
       "    .dataframe tbody tr th {\n",
       "        vertical-align: top;\n",
       "    }\n",
       "\n",
       "    .dataframe thead th {\n",
       "        text-align: right;\n",
       "    }\n",
       "</style>\n",
       "<table border=\"1\" class=\"dataframe\">\n",
       "  <thead>\n",
       "    <tr style=\"text-align: right;\">\n",
       "      <th></th>\n",
       "      <th>timestamp</th>\n",
       "      <th>temp_celsius</th>\n",
       "      <th>pression</th>\n",
       "      <th>windspeed_mps</th>\n",
       "      <th>voltage_mean</th>\n",
       "      <th>p3_mean</th>\n",
       "      <th>cosphi_mean</th>\n",
       "      <th>load_factor</th>\n",
       "      <th>is_summer</th>\n",
       "      <th>is_fall</th>\n",
       "      <th>is_winter</th>\n",
       "      <th>is_spring</th>\n",
       "      <th>dayType</th>\n",
       "    </tr>\n",
       "  </thead>\n",
       "  <tbody>\n",
       "    <tr>\n",
       "      <th>0</th>\n",
       "      <td>2018-01-01 00:00:00</td>\n",
       "      <td>23</td>\n",
       "      <td>1010.5</td>\n",
       "      <td>1.5</td>\n",
       "      <td>13.819525</td>\n",
       "      <td>68.987584</td>\n",
       "      <td>0.943439</td>\n",
       "      <td>0.945299</td>\n",
       "      <td>1</td>\n",
       "      <td>0</td>\n",
       "      <td>0</td>\n",
       "      <td>0</td>\n",
       "      <td>0</td>\n",
       "    </tr>\n",
       "    <tr>\n",
       "      <th>1</th>\n",
       "      <td>2018-01-01 01:00:00</td>\n",
       "      <td>23</td>\n",
       "      <td>1010.2</td>\n",
       "      <td>1.4</td>\n",
       "      <td>13.723727</td>\n",
       "      <td>68.466381</td>\n",
       "      <td>0.950982</td>\n",
       "      <td>0.945654</td>\n",
       "      <td>1</td>\n",
       "      <td>0</td>\n",
       "      <td>0</td>\n",
       "      <td>0</td>\n",
       "      <td>0</td>\n",
       "    </tr>\n",
       "    <tr>\n",
       "      <th>2</th>\n",
       "      <td>2018-01-01 02:00:00</td>\n",
       "      <td>23</td>\n",
       "      <td>1009.9</td>\n",
       "      <td>1.0</td>\n",
       "      <td>13.764526</td>\n",
       "      <td>68.889280</td>\n",
       "      <td>0.951596</td>\n",
       "      <td>0.917237</td>\n",
       "      <td>1</td>\n",
       "      <td>0</td>\n",
       "      <td>0</td>\n",
       "      <td>0</td>\n",
       "      <td>0</td>\n",
       "    </tr>\n",
       "    <tr>\n",
       "      <th>3</th>\n",
       "      <td>2018-01-01 03:00:00</td>\n",
       "      <td>23</td>\n",
       "      <td>1009.4</td>\n",
       "      <td>0.5</td>\n",
       "      <td>13.810144</td>\n",
       "      <td>69.693009</td>\n",
       "      <td>0.948811</td>\n",
       "      <td>0.947339</td>\n",
       "      <td>1</td>\n",
       "      <td>0</td>\n",
       "      <td>0</td>\n",
       "      <td>0</td>\n",
       "      <td>0</td>\n",
       "    </tr>\n",
       "    <tr>\n",
       "      <th>4</th>\n",
       "      <td>2018-01-01 04:00:00</td>\n",
       "      <td>23</td>\n",
       "      <td>1008.8</td>\n",
       "      <td>0.4</td>\n",
       "      <td>13.851163</td>\n",
       "      <td>69.340223</td>\n",
       "      <td>0.939526</td>\n",
       "      <td>0.932445</td>\n",
       "      <td>1</td>\n",
       "      <td>0</td>\n",
       "      <td>0</td>\n",
       "      <td>0</td>\n",
       "      <td>0</td>\n",
       "    </tr>\n",
       "  </tbody>\n",
       "</table>\n",
       "</div>"
      ],
      "text/plain": [
       "             timestamp  temp_celsius  pression  windspeed_mps  voltage_mean  \\\n",
       "0  2018-01-01 00:00:00            23    1010.5            1.5     13.819525   \n",
       "1  2018-01-01 01:00:00            23    1010.2            1.4     13.723727   \n",
       "2  2018-01-01 02:00:00            23    1009.9            1.0     13.764526   \n",
       "3  2018-01-01 03:00:00            23    1009.4            0.5     13.810144   \n",
       "4  2018-01-01 04:00:00            23    1008.8            0.4     13.851163   \n",
       "\n",
       "     p3_mean  cosphi_mean  load_factor  is_summer  is_fall  is_winter  \\\n",
       "0  68.987584     0.943439     0.945299          1        0          0   \n",
       "1  68.466381     0.950982     0.945654          1        0          0   \n",
       "2  68.889280     0.951596     0.917237          1        0          0   \n",
       "3  69.693009     0.948811     0.947339          1        0          0   \n",
       "4  69.340223     0.939526     0.932445          1        0          0   \n",
       "\n",
       "   is_spring  dayType  \n",
       "0          0        0  \n",
       "1          0        0  \n",
       "2          0        0  \n",
       "3          0        0  \n",
       "4          0        0  "
      ]
     },
     "execution_count": 20,
     "metadata": {},
     "output_type": "execute_result"
    }
   ],
   "source": [
    "raw = pd.read_csv (\"../datasets/2018 Merging1h.csv\", header=0)\n",
    "raw.head()"
   ]
  },
  {
   "cell_type": "code",
   "execution_count": 22,
   "metadata": {},
   "outputs": [],
   "source": [
    "raw['timestamp'] = pd.to_datetime (raw['timestamp'], utc=True)\n",
    "raw = raw.set_index(raw.timestamp)\n",
    "raw = raw.drop ('timestamp', axis=1)\n",
    "\n",
    "raw = raw.set_index(raw.index.tz_convert(None))"
   ]
  },
  {
   "cell_type": "code",
   "execution_count": 29,
   "metadata": {},
   "outputs": [],
   "source": [
    "from sklearn.model_selection import train_test_split\n",
    "import sklearn.metrics as metrics\n",
    "import math\n",
    "\n",
    "# split 70% of training 30% of test\n",
    "X_train, X_test, y_train, y_test = train_test_split(raw.drop('p3_mean', axis=1), raw['p3_mean'], test_size=0.3)"
   ]
  },
  {
   "cell_type": "code",
   "execution_count": 32,
   "metadata": {},
   "outputs": [
    {
     "data": {
      "text/html": [
       "<div>\n",
       "<style scoped>\n",
       "    .dataframe tbody tr th:only-of-type {\n",
       "        vertical-align: middle;\n",
       "    }\n",
       "\n",
       "    .dataframe tbody tr th {\n",
       "        vertical-align: top;\n",
       "    }\n",
       "\n",
       "    .dataframe thead th {\n",
       "        text-align: right;\n",
       "    }\n",
       "</style>\n",
       "<table border=\"1\" class=\"dataframe\">\n",
       "  <thead>\n",
       "    <tr style=\"text-align: right;\">\n",
       "      <th></th>\n",
       "      <th>Coefficient</th>\n",
       "    </tr>\n",
       "  </thead>\n",
       "  <tbody>\n",
       "    <tr>\n",
       "      <th>temp_celsius</th>\n",
       "      <td>16.796254</td>\n",
       "    </tr>\n",
       "    <tr>\n",
       "      <th>pression</th>\n",
       "      <td>0.814386</td>\n",
       "    </tr>\n",
       "    <tr>\n",
       "      <th>windspeed_mps</th>\n",
       "      <td>5.655513</td>\n",
       "    </tr>\n",
       "    <tr>\n",
       "      <th>voltage_mean</th>\n",
       "      <td>-292.405383</td>\n",
       "    </tr>\n",
       "    <tr>\n",
       "      <th>cosphi_mean</th>\n",
       "      <td>865.863248</td>\n",
       "    </tr>\n",
       "    <tr>\n",
       "      <th>load_factor</th>\n",
       "      <td>154.622181</td>\n",
       "    </tr>\n",
       "    <tr>\n",
       "      <th>is_summer</th>\n",
       "      <td>-114.090051</td>\n",
       "    </tr>\n",
       "    <tr>\n",
       "      <th>is_fall</th>\n",
       "      <td>-93.854634</td>\n",
       "    </tr>\n",
       "    <tr>\n",
       "      <th>is_winter</th>\n",
       "      <td>-81.067123</td>\n",
       "    </tr>\n",
       "    <tr>\n",
       "      <th>is_spring</th>\n",
       "      <td>-113.137223</td>\n",
       "    </tr>\n",
       "    <tr>\n",
       "      <th>dayType</th>\n",
       "      <td>76.535765</td>\n",
       "    </tr>\n",
       "  </tbody>\n",
       "</table>\n",
       "</div>"
      ],
      "text/plain": [
       "               Coefficient\n",
       "temp_celsius     16.796254\n",
       "pression          0.814386\n",
       "windspeed_mps     5.655513\n",
       "voltage_mean   -292.405383\n",
       "cosphi_mean     865.863248\n",
       "load_factor     154.622181\n",
       "is_summer      -114.090051\n",
       "is_fall         -93.854634\n",
       "is_winter       -81.067123\n",
       "is_spring      -113.137223\n",
       "dayType          76.535765"
      ]
     },
     "execution_count": 32,
     "metadata": {},
     "output_type": "execute_result"
    }
   ],
   "source": [
    "model1 = LinearRegression()\n",
    "model1.fit (X_train, y_train)\n",
    "pd.DataFrame(model1.coef_,X_train.columns,columns=['Coefficient'])"
   ]
  },
  {
   "cell_type": "code",
   "execution_count": 35,
   "metadata": {},
   "outputs": [
    {
     "name": "stdout",
     "output_type": "stream",
     "text": [
      "MAE:                 66.86723432322545\n",
      "RMSE:                86.48888182022267\n",
      "Percentual:          43.576738678364634 %\n"
     ]
    },
    {
     "data": {
      "text/plain": [
       "Text(0, 0.5, 'Valores previstos')"
      ]
     },
     "execution_count": 35,
     "metadata": {},
     "output_type": "execute_result"
    },
    {
     "data": {
      "image/png": "[encoded data removed]",
      "text/plain": [
       "<Figure size 432x288 with 1 Axes>"
      ]
     },
     "metadata": {
      "needs_background": "light"
     },
     "output_type": "display_data"
    }
   ],
   "source": [
    "y_hat1 = model1.predict(X_test)\n",
    "\n",
    "print (\"MAE:                \", metrics.mean_absolute_error(y_test, y_hat1))\n",
    "print (\"RMSE:               \", np.sqrt(metrics.mean_squared_error(y_test, y_hat1)))\n",
    "print (\"Percentual:         \", metrics.mean_absolute_error(y_test,y_hat1)/y_test.mean()*100, \"%\")\n",
    "\n",
    "# Previsto vs real\n",
    "line = np.arange(0, 750, 1)\n",
    "\n",
    "plt.scatter(y_test,y_hat1, Alpha=0.6)\n",
    "plt.scatter(line,line, marker='.')\n",
    "plt.grid(True)\n",
    "plt.xlabel(\"Valores reais\")\n",
    "plt.ylabel(\"Valores previstos\")"
   ]
  },
  {
   "cell_type": "markdown",
   "metadata": {},
   "source": [
    "# Linear Regression"
   ]
  },
  {
   "cell_type": "code",
   "execution_count": 28,
   "metadata": {},
   "outputs": [],
   "source": [
    "from sklearn.linear_model import LinearRegression\n",
    "model1 = LinearRegression()\n",
    "model1.fit (X_train, y_train)\n",
    "pd.DataFrame(model1.coef_,X.columns,columns=['Coefficient'])"
   ]
  },
  {
   "cell_type": "markdown",
   "metadata": {},
   "source": [
    "# Random forest algorithm"
   ]
  },
  {
   "cell_type": "code",
   "execution_count": 23,
   "metadata": {},
   "outputs": [],
   "source": [
    "from sklearn.ensemble import RandomForestRegressor"
   ]
  },
  {
   "cell_type": "code",
   "execution_count": 24,
   "metadata": {},
   "outputs": [
    {
     "data": {
      "image/png": "[encoded data removed]",
      "text/plain": [
       "<Figure size 432x288 with 1 Axes>"
      ]
     },
     "metadata": {
      "needs_background": "light"
     },
     "output_type": "display_data"
    }
   ],
   "source": [
    "mae1 = {}\n",
    "mae2 = {}\n",
    "for k in range(1,25, 1):\n",
    "    model = RandomForestRegressor(max_depth=k, n_estimators=100, criterion='mae').fit(X_train,y_train)\n",
    "    y_hat = model.predict(X_train)\n",
    "    mae1[k] = metrics.mean_absolute_error(y_train,y_hat)\n",
    "    y_hat = model.predict(X_test)\n",
    "    mae2[k] = metrics.mean_absolute_error(y_test,y_hat)\n",
    "\n",
    "plt.figure()\n",
    "plt.plot(list(mae1.keys()), list(mae1.values()), label='Erro no conunto de treinamento')\n",
    "plt.plot(list(mae2.keys()), list(mae2.values()), label='Erro no conunto de teste')\n",
    "plt.legend(loc='lower left')\n",
    "plt.xlabel(\"Altura máxima\")\n",
    "plt.ylabel(\"MAE\")\n",
    "plt.grid(True)"
   ]
  },
  {
   "cell_type": "code",
   "execution_count": 25,
   "metadata": {},
   "outputs": [
    {
     "data": {
      "text/plain": [
       "RandomForestRegressor(bootstrap=True, criterion='mae', max_depth=11,\n",
       "           max_features='auto', max_leaf_nodes=None,\n",
       "           min_impurity_decrease=0.0, min_impurity_split=None,\n",
       "           min_samples_leaf=1, min_samples_split=2,\n",
       "           min_weight_fraction_leaf=0.0, n_estimators=100, n_jobs=None,\n",
       "           oob_score=False, random_state=None, verbose=0, warm_start=False)"
      ]
     },
     "execution_count": 25,
     "metadata": {},
     "output_type": "execute_result"
    }
   ],
   "source": [
    "# Random Forest\n",
    "model = RandomForestRegressor(max_depth=11, n_estimators=100, criterion='mae')\n",
    "model.fit(X_train,y_train)"
   ]
  },
  {
   "cell_type": "code",
   "execution_count": 26,
   "metadata": {
    "scrolled": true
   },
   "outputs": [
    {
     "name": "stdout",
     "output_type": "stream",
     "text": [
      "MAE:                 29.732627099391124\n",
      "RMSE:                53.05601937955444\n",
      "Percentual:          18.933710388930074 %\n",
      "=====================================\n",
      "FEATURE IMPORTANCE:\n",
      "temp_celsius = 0.24537858350933883\n",
      "pression = 0.03570560104591004\n",
      "windspeed_mps = 0.03459669796027694\n",
      "voltage_mean = 0.052668266045931916\n",
      "cosphi_mean = 0.25147878938525664\n",
      "load_factor = 0.10239245382815264\n",
      "is_summer = 0.007454939378742492\n",
      "is_fall = 0.005361804383519797\n",
      "is_winter = 0.00404814669669675\n",
      "is_spring = 0.005263484443735883\n",
      "dayType = 0.25565123332243794\n"
     ]
    }
   ],
   "source": [
    "# TEST\n",
    "y_hat = model.predict(X_test)\n",
    "\n",
    "print (\"MAE:                \", metrics.mean_absolute_error(y_test,y_hat))\n",
    "print (\"RMSE:               \", math.sqrt(metrics.mean_squared_error(y_test,y_hat)))\n",
    "print (\"Percentual:         \", metrics.mean_absolute_error(y_test,y_hat)/y_test.mean()*100, \"%\")\n",
    "\n",
    "\n",
    "# Feature analysis\n",
    "print (\"=====================================\")\n",
    "print (\"FEATURE IMPORTANCE:\")\n",
    "for i in range(model.feature_importances_.size):\n",
    "    print (X_train.columns[i], \"=\", model.feature_importances_[i])"
   ]
  },
  {
   "cell_type": "code",
   "execution_count": 27,
   "metadata": {},
   "outputs": [
    {
     "data": {
      "image/png": "[encoded data removed]",
      "text/plain": [
       "<Figure size 432x288 with 1 Axes>"
      ]
     },
     "metadata": {
      "needs_background": "light"
     },
     "output_type": "display_data"
    }
   ],
   "source": [
    "# Previsto vs real\n",
    "line = np.arange(0, 700, 1)\n",
    "\n",
    "plt.scatter(y_test,y_hat, Alpha=0.2)\n",
    "plt.scatter(line,line)\n",
    "plt.grid(True)"
   ]
  },
  {
   "cell_type": "markdown",
   "metadata": {},
   "source": [
    "# Interpretation"
   ]
  }
 ],
 "metadata": {
  "kernelspec": {
   "display_name": "Python 3",
   "language": "python",
   "name": "python3"
  },
  "language_info": {
   "codemirror_mode": {
    "name": "ipython",
    "version": 3
   },
   "file_extension": ".py",
   "mimetype": "text/x-python",
   "name": "python",
   "nbconvert_exporter": "python",
   "pygments_lexer": "ipython3",
   "version": "3.7.1"
  }
 },
 "nbformat": 4,
 "nbformat_minor": 2
}
