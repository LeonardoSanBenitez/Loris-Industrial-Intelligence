{
 "cells": [
  {
   "cell_type": "code",
   "execution_count": 109,
   "metadata": {},
   "outputs": [],
   "source": [
    "import pandas as pd\n",
    "pd.set_option('display.max_columns', None)\n",
    "pd.set_option('display.max_rows', 1000)\n",
    "\n",
    "import numpy as np\n",
    "\n",
    "import seaborn as sns\n",
    "\n",
    "import matplotlib.pyplot as plt\n",
    "%matplotlib inline"
   ]
  },
  {
   "cell_type": "code",
   "execution_count": 110,
   "metadata": {},
   "outputs": [
    {
     "data": {
      "text/html": [
       "<div>\n",
       "<style scoped>\n",
       "    .dataframe tbody tr th:only-of-type {\n",
       "        vertical-align: middle;\n",
       "    }\n",
       "\n",
       "    .dataframe tbody tr th {\n",
       "        vertical-align: top;\n",
       "    }\n",
       "\n",
       "    .dataframe thead th {\n",
       "        text-align: right;\n",
       "    }\n",
       "</style>\n",
       "<table border=\"1\" class=\"dataframe\">\n",
       "  <thead>\n",
       "    <tr style=\"text-align: right;\">\n",
       "      <th></th>\n",
       "      <th>momento</th>\n",
       "      <th>pa</th>\n",
       "      <th>temp_celsius</th>\n",
       "      <th>pressao</th>\n",
       "    </tr>\n",
       "  </thead>\n",
       "  <tbody>\n",
       "    <tr>\n",
       "      <th>0</th>\n",
       "      <td>2019-02-18 00:00:00-03</td>\n",
       "      <td>20.377751</td>\n",
       "      <td>24</td>\n",
       "      <td>1013.0</td>\n",
       "    </tr>\n",
       "    <tr>\n",
       "      <th>1</th>\n",
       "      <td>2019-02-18 01:00:00-03</td>\n",
       "      <td>20.274133</td>\n",
       "      <td>24</td>\n",
       "      <td>1012.6</td>\n",
       "    </tr>\n",
       "    <tr>\n",
       "      <th>2</th>\n",
       "      <td>2019-02-18 02:00:00-03</td>\n",
       "      <td>20.112670</td>\n",
       "      <td>24</td>\n",
       "      <td>1012.3</td>\n",
       "    </tr>\n",
       "    <tr>\n",
       "      <th>3</th>\n",
       "      <td>2019-02-18 03:00:00-03</td>\n",
       "      <td>20.260007</td>\n",
       "      <td>23</td>\n",
       "      <td>1011.8</td>\n",
       "    </tr>\n",
       "    <tr>\n",
       "      <th>4</th>\n",
       "      <td>2019-02-18 04:00:00-03</td>\n",
       "      <td>20.181787</td>\n",
       "      <td>23</td>\n",
       "      <td>1011.3</td>\n",
       "    </tr>\n",
       "  </tbody>\n",
       "</table>\n",
       "</div>"
      ],
      "text/plain": [
       "                  momento         pa  temp_celsius  pressao\n",
       "0  2019-02-18 00:00:00-03  20.377751            24   1013.0\n",
       "1  2019-02-18 01:00:00-03  20.274133            24   1012.6\n",
       "2  2019-02-18 02:00:00-03  20.112670            24   1012.3\n",
       "3  2019-02-18 03:00:00-03  20.260007            23   1011.8\n",
       "4  2019-02-18 04:00:00-03  20.181787            23   1011.3"
      ]
     },
     "execution_count": 110,
     "metadata": {},
     "output_type": "execute_result"
    }
   ],
   "source": [
    "raw = pd.read_csv (\"../datasets/temperatura_e_potencia2.csv\", header=0)\n",
    "raw.head()"
   ]
  },
  {
   "cell_type": "markdown",
   "metadata": {},
   "source": [
    "# Data cleaning"
   ]
  },
  {
   "cell_type": "code",
   "execution_count": 111,
   "metadata": {},
   "outputs": [],
   "source": [
    "processed = raw.dropna()\n",
    "processed = processed.set_index(pd.to_datetime (processed['momento'])).drop('momento', axis=1)\n",
    "processed = processed[processed['pa']<500]\n",
    "processed = processed[processed['pa']>10]"
   ]
  },
  {
   "cell_type": "code",
   "execution_count": 112,
   "metadata": {},
   "outputs": [],
   "source": [
    "## Remove fins de semana\n",
    "# Create an index of just the date portion of your index (this is the slow step)\n",
    "dfDays = pd.to_datetime(processed.index.date)\n",
    "\n",
    "# Create a range of business days over that period\n",
    "dfBdays = pd.bdate_range(start=processed.index[0].date(), end=processed.index[-1].date())\n",
    "\n",
    "#Filter the series to just those days contained in the business day range.\n",
    "filtered = processed[dfDays.isin(dfBdays)]"
   ]
  },
  {
   "cell_type": "code",
   "execution_count": 113,
   "metadata": {},
   "outputs": [],
   "source": [
    "## Removendo dias não-letivos ou com erros\n",
    "# março 4,5,6\n",
    "# abril 8, 15, 16,17,18,19, 22, 25, 29\n",
    "# maio 1, 9, 10, 14, 15, 16, 17\n",
    "# junho 20, 21\n",
    "filtered = filtered[~((filtered.index.month == 3) & (filtered.index.day == 4))]\n",
    "filtered = filtered[~((filtered.index.month == 3) & (filtered.index.day == 5))]\n",
    "filtered = filtered[~((filtered.index.month == 3) & (filtered.index.day == 6))]\n",
    "filtered = filtered[~((filtered.index.month == 4) & (filtered.index.day == 8))]\n",
    "filtered = filtered[~((filtered.index.month == 4) & (filtered.index.day == 4))]\n",
    "filtered = filtered[~((filtered.index.month == 4) & (filtered.index.day == 15))]\n",
    "filtered = filtered[~((filtered.index.month == 4) & (filtered.index.day == 16))]\n",
    "filtered = filtered[~((filtered.index.month == 4) & (filtered.index.day == 17))]\n",
    "filtered = filtered[~((filtered.index.month == 4) & (filtered.index.day == 18))]\n",
    "filtered = filtered[~((filtered.index.month == 4) & (filtered.index.day == 19))]\n",
    "filtered = filtered[~((filtered.index.month == 4) & (filtered.index.day == 22))]\n",
    "filtered = filtered[~((filtered.index.month == 4) & (filtered.index.day == 25))]\n",
    "filtered = filtered[~((filtered.index.month == 4) & (filtered.index.day == 29))]\n",
    "filtered = filtered[~((filtered.index.month == 5) & (filtered.index.day == 1))]\n",
    "filtered = filtered[~((filtered.index.month == 5) & (filtered.index.day == 9))]\n",
    "filtered = filtered[~((filtered.index.month == 5) & (filtered.index.day == 10))]\n",
    "filtered = filtered[~((filtered.index.month == 5) & (filtered.index.day == 14))]\n",
    "filtered = filtered[~((filtered.index.month == 5) & (filtered.index.day == 15))]\n",
    "filtered = filtered[~((filtered.index.month == 5) & (filtered.index.day == 16))]\n",
    "filtered = filtered[~((filtered.index.month == 5) & (filtered.index.day == 17))]\n",
    "filtered = filtered[~((filtered.index.month == 6) & (filtered.index.day == 20))]\n",
    "filtered = filtered[~((filtered.index.month == 6) & (filtered.index.day == 21))]"
   ]
  },
  {
   "cell_type": "code",
   "execution_count": 143,
   "metadata": {},
   "outputs": [],
   "source": [
    "filtered1 = filtered.between_time('14:00:00', '17:00:00')\n",
    "filtered2 = filtered.between_time('08:00:00', '11:00:00')\n",
    "pd.concat([filtered1, filtered2], )\n",
    "\n",
    "############# CONCATENAR "
   ]
  },
  {
   "cell_type": "markdown",
   "metadata": {},
   "source": [
    "# Random forest algorithm"
   ]
  },
  {
   "cell_type": "code",
   "execution_count": 144,
   "metadata": {},
   "outputs": [],
   "source": [
    "from sklearn.ensemble import RandomForestRegressor\n",
    "from sklearn.model_selection import train_test_split\n",
    "import sklearn.metrics as metrics\n",
    "import math\n",
    "\n",
    "# split 70% of training 30% of test\n",
    "X = filtered.drop('pa', axis=1)\n",
    "y = filtered ['pa']\n",
    "X_train, X_test, y_train, y_test = train_test_split(X, y, test_size=0.20) "
   ]
  },
  {
   "cell_type": "code",
   "execution_count": 145,
   "metadata": {},
   "outputs": [
    {
     "data": {
      "text/plain": [
       "Text(0, 0.5, 'MAE')"
      ]
     },
     "execution_count": 145,
     "metadata": {},
     "output_type": "execute_result"
    },
    {
     "data": {
      "image/png": "[encoded data removed]",
      "text/plain": [
       "<Figure size 432x288 with 1 Axes>"
      ]
     },
     "metadata": {
      "needs_background": "light"
     },
     "output_type": "display_data"
    }
   ],
   "source": [
    "mae1 = {}\n",
    "mae2 = {}\n",
    "for k in range(1,25, 1):\n",
    "    model = RandomForestRegressor(max_depth=k, n_estimators=100, criterion='mae').fit(X_train,y_train)\n",
    "    y_hat = model.predict(X_train)\n",
    "    mae1[k] = metrics.mean_absolute_error(y_train,y_hat)\n",
    "    y_hat = model.predict(X_test)\n",
    "    mae2[k] = metrics.mean_absolute_error(y_test,y_hat)\n",
    "\n",
    "plt.figure()\n",
    "plt.plot(list(mae1.keys()), list(mae1.values()))\n",
    "plt.plot(list(mae2.keys()), list(mae2.values()))\n",
    "plt.xlabel(\"depth\")\n",
    "plt.ylabel(\"MAE\")"
   ]
  },
  {
   "cell_type": "code",
   "execution_count": 135,
   "metadata": {},
   "outputs": [
    {
     "data": {
      "text/plain": [
       "RandomForestRegressor(bootstrap=True, criterion='mse', max_depth=4,\n",
       "           max_features='auto', max_leaf_nodes=None,\n",
       "           min_impurity_decrease=0.0, min_impurity_split=None,\n",
       "           min_samples_leaf=1, min_samples_split=2,\n",
       "           min_weight_fraction_leaf=0.0, n_estimators=100, n_jobs=None,\n",
       "           oob_score=False, random_state=None, verbose=0, warm_start=False)"
      ]
     },
     "execution_count": 135,
     "metadata": {},
     "output_type": "execute_result"
    }
   ],
   "source": [
    "# Random Forest\n",
    "model = RandomForestRegressor(max_depth=4, n_estimators=100)\n",
    "model.fit(X_train,y_train)"
   ]
  },
  {
   "cell_type": "code",
   "execution_count": 136,
   "metadata": {
    "scrolled": true
   },
   "outputs": [
    {
     "name": "stdout",
     "output_type": "stream",
     "text": [
      "MAE:                 27.422160634217914\n",
      "RMSE:                34.227277469840466\n",
      "=====================================\n",
      "FEATURE IMPORTANCE:\n",
      "temp_celsius = 0.7160080585538404\n",
      "pressao = 0.2839919414461595\n"
     ]
    }
   ],
   "source": [
    "# TEST\n",
    "y_hat = model.predict(X_test)\n",
    "\n",
    "print (\"MAE:                \", metrics.mean_absolute_error(y_test,y_hat))\n",
    "print (\"RMSE:               \", math.sqrt(metrics.mean_squared_error(y_test,y_hat)))\n",
    "\n",
    "# Feature analysis\n",
    "print (\"=====================================\")\n",
    "print (\"FEATURE IMPORTANCE:\")\n",
    "for i in range(model.feature_importances_.size):\n",
    "    print (X_train.columns[i], \"=\", model.feature_importances_[i])"
   ]
  },
  {
   "cell_type": "code",
   "execution_count": 120,
   "metadata": {},
   "outputs": [
    {
     "data": {
      "image/png": "[encoded data removed]",
      "text/plain": [
       "<Figure size 432x288 with 1 Axes>"
      ]
     },
     "metadata": {
      "needs_background": "light"
     },
     "output_type": "display_data"
    }
   ],
   "source": [
    "# Previsto vs real\n",
    "line = np.arange(0, 250, 1)\n",
    "\n",
    "plt.scatter(y_test,y_hat, Alpha=0.3)\n",
    "plt.scatter(line,line)\n",
    "plt.grid(True)"
   ]
  },
  {
   "cell_type": "code",
   "execution_count": 121,
   "metadata": {},
   "outputs": [
    {
     "data": {
      "image/png": "[encoded data removed]",
      "text/plain": [
       "<Figure size 432x288 with 1 Axes>"
      ]
     },
     "metadata": {
      "needs_background": "light"
     },
     "output_type": "display_data"
    }
   ],
   "source": [
    "plt.scatter(X['temp_celsius'], y,color='g')\n",
    "plt.scatter(X['temp_celsius'], model.predict(X),color='k')\n",
    "\n",
    "plt.show()"
   ]
  },
  {
   "cell_type": "code",
   "execution_count": 122,
   "metadata": {},
   "outputs": [
    {
     "name": "stderr",
     "output_type": "stream",
     "text": [
      "/home/benitez/anaconda3/lib/python3.7/site-packages/scipy/interpolate/fitpack2.py:1051: UserWarning: ier=433\n",
      "  warnings.warn(message)\n"
     ]
    }
   ],
   "source": [
    "from scipy.interpolate import SmoothBivariateSpline\n",
    "model2 = SmoothBivariateSpline (x=X_train['temp_celsius'], y=X_train['pressao'], z=y_train, kx=2, ky=2)\n",
    "\n"
   ]
  },
  {
   "cell_type": "code",
   "execution_count": 123,
   "metadata": {},
   "outputs": [
    {
     "data": {
      "image/png": "[encoded data removed]",
      "text/plain": [
       "<Figure size 432x288 with 1 Axes>"
      ]
     },
     "metadata": {
      "needs_background": "light"
     },
     "output_type": "display_data"
    }
   ],
   "source": [
    "y_hat2 = model2(x=X_train['temp_celsius'], y=X_train['pressao'], grid=False)\n",
    "plt.scatter(X_train['temp_celsius'], y_train,color='g')\n",
    "plt.scatter(X_train['temp_celsius'], y_hat2,color='k')\n",
    "\n",
    "plt.show()"
   ]
  },
  {
   "cell_type": "code",
   "execution_count": 124,
   "metadata": {},
   "outputs": [
    {
     "ename": "ValueError",
     "evalue": "`x` must be strictly increasing sequence.",
     "output_type": "error",
     "traceback": [
      "\u001b[0;31m---------------------------------------------------------------------------\u001b[0m",
      "\u001b[0;31mValueError\u001b[0m                                Traceback (most recent call last)",
      "\u001b[0;32m<ipython-input-124-3893ee3f3e0a>\u001b[0m in \u001b[0;36m<module>\u001b[0;34m\u001b[0m\n\u001b[1;32m      5\u001b[0m \u001b[0my\u001b[0m \u001b[0;34m=\u001b[0m \u001b[0mnp\u001b[0m\u001b[0;34m.\u001b[0m\u001b[0msin\u001b[0m\u001b[0;34m(\u001b[0m\u001b[0mx\u001b[0m\u001b[0;34m)\u001b[0m\u001b[0;34m\u001b[0m\u001b[0;34m\u001b[0m\u001b[0m\n\u001b[1;32m      6\u001b[0m \u001b[0;34m\u001b[0m\u001b[0m\n\u001b[0;32m----> 7\u001b[0;31m \u001b[0mcs\u001b[0m \u001b[0;34m=\u001b[0m \u001b[0mCubicSpline\u001b[0m\u001b[0;34m(\u001b[0m\u001b[0mX_train\u001b[0m\u001b[0;34m[\u001b[0m\u001b[0;34m'temp_celsius'\u001b[0m\u001b[0;34m]\u001b[0m\u001b[0;34m,\u001b[0m \u001b[0my_train\u001b[0m\u001b[0;34m)\u001b[0m\u001b[0;31m#, bc_type='natural'extrapolate=True)\u001b[0m\u001b[0;34m\u001b[0m\u001b[0;34m\u001b[0m\u001b[0m\n\u001b[0m\u001b[1;32m      8\u001b[0m \u001b[0;31m#xs = np.arange(-0.5, 9.6, 0.1)\u001b[0m\u001b[0;34m\u001b[0m\u001b[0;34m\u001b[0m\u001b[0;34m\u001b[0m\u001b[0m\n\u001b[1;32m      9\u001b[0m \u001b[0;34m\u001b[0m\u001b[0m\n",
      "\u001b[0;32m~/anaconda3/lib/python3.7/site-packages/scipy/interpolate/_cubic.py\u001b[0m in \u001b[0;36m__init__\u001b[0;34m(self, x, y, axis, bc_type, extrapolate)\u001b[0m\n\u001b[1;32m    541\u001b[0m         \u001b[0mdx\u001b[0m \u001b[0;34m=\u001b[0m \u001b[0mnp\u001b[0m\u001b[0;34m.\u001b[0m\u001b[0mdiff\u001b[0m\u001b[0;34m(\u001b[0m\u001b[0mx\u001b[0m\u001b[0;34m)\u001b[0m\u001b[0;34m\u001b[0m\u001b[0;34m\u001b[0m\u001b[0m\n\u001b[1;32m    542\u001b[0m         \u001b[0;32mif\u001b[0m \u001b[0mnp\u001b[0m\u001b[0;34m.\u001b[0m\u001b[0many\u001b[0m\u001b[0;34m(\u001b[0m\u001b[0mdx\u001b[0m \u001b[0;34m<=\u001b[0m \u001b[0;36m0\u001b[0m\u001b[0;34m)\u001b[0m\u001b[0;34m:\u001b[0m\u001b[0;34m\u001b[0m\u001b[0;34m\u001b[0m\u001b[0m\n\u001b[0;32m--> 543\u001b[0;31m             \u001b[0;32mraise\u001b[0m \u001b[0mValueError\u001b[0m\u001b[0;34m(\u001b[0m\u001b[0;34m\"`x` must be strictly increasing sequence.\"\u001b[0m\u001b[0;34m)\u001b[0m\u001b[0;34m\u001b[0m\u001b[0;34m\u001b[0m\u001b[0m\n\u001b[0m\u001b[1;32m    544\u001b[0m \u001b[0;34m\u001b[0m\u001b[0m\n\u001b[1;32m    545\u001b[0m         \u001b[0mn\u001b[0m \u001b[0;34m=\u001b[0m \u001b[0mx\u001b[0m\u001b[0;34m.\u001b[0m\u001b[0mshape\u001b[0m\u001b[0;34m[\u001b[0m\u001b[0;36m0\u001b[0m\u001b[0;34m]\u001b[0m\u001b[0;34m\u001b[0m\u001b[0;34m\u001b[0m\u001b[0m\n",
      "\u001b[0;31mValueError\u001b[0m: `x` must be strictly increasing sequence."
     ]
    }
   ],
   "source": [
    "from scipy.interpolate import CubicSpline\n",
    "import matplotlib.pyplot as plt\n",
    "\n",
    "x = np.arange(10)\n",
    "y = np.sin(x)\n",
    "\n",
    "cs = CubicSpline(X_train['temp_celsius'], y_train)#, bc_type='natural'extrapolate=True)\n",
    "#xs = np.arange(-0.5, 9.6, 0.1)\n",
    "\n",
    "plt.figure(figsize=(6.5, 4))\n",
    "plt.plot(X_train['temp_celsius'], y_train, 'o', label='data')\n",
    "plt.plot(X_test['temp_celsius'], cs(X_test['temp_celsius']), label=\"S\")\n",
    "\n"
   ]
  },
  {
   "cell_type": "code",
   "execution_count": null,
   "metadata": {},
   "outputs": [],
   "source": [
    "from scipy import interpolate\n",
    "x = np.arange(-5.01, 5.01, 0.25)\n",
    "y = np.arange(-5.01, 5.01, 0.25)\n",
    "xx, yy = np.meshgrid(x, y)\n",
    "z = np.sin(xx**2+yy**2)\n",
    "f = interpolate.interp2d(x, y, z, kind='cubic')\n",
    "\n",
    "import matplotlib.pyplot as plt\n",
    "xnew = np.arange(-5.01, 5.01, 1e-2)\n",
    "ynew = np.arange(-5.01, 5.01, 1e-2)\n",
    "znew = f(xnew, ynew)\n",
    "plt.plot(x, z[0, :], 'ro-', xnew, znew[0, :], 'b-')\n",
    "plt.show()"
   ]
  },
  {
   "cell_type": "markdown",
   "metadata": {},
   "source": [
    "# Interpretation"
   ]
  }
 ],
 "metadata": {
  "kernelspec": {
   "display_name": "Python 3",
   "language": "python",
   "name": "python3"
  },
  "language_info": {
   "codemirror_mode": {
    "name": "ipython",
    "version": 3
   },
   "file_extension": ".py",
   "mimetype": "text/x-python",
   "name": "python",
   "nbconvert_exporter": "python",
   "pygments_lexer": "ipython3",
   "version": "3.7.1"
  }
 },
 "nbformat": 4,
 "nbformat_minor": 2
}
