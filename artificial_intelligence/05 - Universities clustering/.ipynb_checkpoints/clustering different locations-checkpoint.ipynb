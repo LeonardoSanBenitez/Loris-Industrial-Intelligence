{
 "cells": [
  {
   "cell_type": "code",
   "execution_count": 1,
   "metadata": {},
   "outputs": [],
   "source": [
    "import pandas as pd\n",
    "import numpy as np\n",
    "import matplotlib.pyplot as plt\n",
    "import seaborn as sns\n",
    "\n",
    "from sklearn.linear_model import LinearRegression\n",
    "from sklearn.model_selection import train_test_split\n",
    "%matplotlib inline\n",
    "\n",
    "pd.set_option('display.max_columns', None)\n",
    "pd.set_option('display.max_rows', 1000)\n",
    "\n",
    "import sklearn.metrics as metrics"
   ]
  },
  {
   "cell_type": "code",
   "execution_count": 2,
   "metadata": {},
   "outputs": [],
   "source": [
    "FLAG_MERGE = False"
   ]
  },
  {
   "cell_type": "code",
   "execution_count": 3,
   "metadata": {},
   "outputs": [],
   "source": [
    "if FLAG_MERGE:\n",
    "    places = [(\"../datasets/2019-1 BrasiliaBlocoC.csv\", 1),\n",
    "    (\"../datasets/2019-1 BrasiliaBlocoK.csv\", 2),\n",
    "    (\"../datasets/2019-1 Canoinhas.csv\", 3),\n",
    "    (\"../datasets/2019-1 Continente.csv\", 4),\n",
    "    (\"../datasets/2019-1 Fpolis.csv\", 5),\n",
    "    (\"../datasets/2019-1 Lages.csv\", 6),\n",
    "    (\"../datasets/2019-1 Reitoria.csv\", 7)]\n",
    "\n",
    "    merged = pd.DataFrame()\n",
    "    for place in places:\n",
    "        raw = pd.read_csv (place[0], sep=',')\n",
    "        raw = raw.drop('momento', axis=1)\n",
    "        raw ['place'] = place[1]\n",
    "        merged = pd.concat([merged, raw], ignore_index=True)\n",
    "        #print(raw)\n",
    "    merged = merged.dropna()\n",
    "    merged = merged[merged['pa']<250]\n",
    "else:\n",
    "    merged = pd.read_csv (\"../datasets/several_places.csv\", sep=',')"
   ]
  },
  {
   "cell_type": "code",
   "execution_count": 6,
   "metadata": {},
   "outputs": [
    {
     "data": {
      "text/html": [
       "<div>\n",
       "<style scoped>\n",
       "    .dataframe tbody tr th:only-of-type {\n",
       "        vertical-align: middle;\n",
       "    }\n",
       "\n",
       "    .dataframe tbody tr th {\n",
       "        vertical-align: top;\n",
       "    }\n",
       "\n",
       "    .dataframe thead th {\n",
       "        text-align: right;\n",
       "    }\n",
       "</style>\n",
       "<table border=\"1\" class=\"dataframe\">\n",
       "  <thead>\n",
       "    <tr style=\"text-align: right;\">\n",
       "      <th></th>\n",
       "      <th>uid</th>\n",
       "      <th>momento</th>\n",
       "      <th>p3</th>\n",
       "      <th>fi_3</th>\n",
       "      <th>voltage</th>\n",
       "    </tr>\n",
       "  </thead>\n",
       "  <tbody>\n",
       "    <tr>\n",
       "      <td>0</td>\n",
       "      <td>1</td>\n",
       "      <td>2019-12-12 17:29:59</td>\n",
       "      <td>468.069410</td>\n",
       "      <td>0.982760</td>\n",
       "      <td>13.7304</td>\n",
       "    </tr>\n",
       "    <tr>\n",
       "      <td>11</td>\n",
       "      <td>1</td>\n",
       "      <td>2019-12-12 17:29:58</td>\n",
       "      <td>469.524333</td>\n",
       "      <td>0.983122</td>\n",
       "      <td>13.7452</td>\n",
       "    </tr>\n",
       "    <tr>\n",
       "      <td>23</td>\n",
       "      <td>1</td>\n",
       "      <td>2019-12-12 17:29:57</td>\n",
       "      <td>473.265563</td>\n",
       "      <td>0.983168</td>\n",
       "      <td>13.7428</td>\n",
       "    </tr>\n",
       "    <tr>\n",
       "      <td>31</td>\n",
       "      <td>1</td>\n",
       "      <td>2019-12-12 17:29:56</td>\n",
       "      <td>470.909974</td>\n",
       "      <td>0.982801</td>\n",
       "      <td>13.7236</td>\n",
       "    </tr>\n",
       "    <tr>\n",
       "      <td>49</td>\n",
       "      <td>1</td>\n",
       "      <td>2019-12-12 17:29:55</td>\n",
       "      <td>470.840692</td>\n",
       "      <td>0.982310</td>\n",
       "      <td>13.7228</td>\n",
       "    </tr>\n",
       "  </tbody>\n",
       "</table>\n",
       "</div>"
      ],
      "text/plain": [
       "    uid              momento          p3      fi_3  voltage\n",
       "0     1  2019-12-12 17:29:59  468.069410  0.982760  13.7304\n",
       "11    1  2019-12-12 17:29:58  469.524333  0.983122  13.7452\n",
       "23    1  2019-12-12 17:29:57  473.265563  0.983168  13.7428\n",
       "31    1  2019-12-12 17:29:56  470.909974  0.982801  13.7236\n",
       "49    1  2019-12-12 17:29:55  470.840692  0.982310  13.7228"
      ]
     },
     "execution_count": 6,
     "metadata": {},
     "output_type": "execute_result"
    }
   ],
   "source": [
    "merged[merged['uid']==1].head()"
   ]
  },
  {
   "cell_type": "code",
   "execution_count": 11,
   "metadata": {},
   "outputs": [
    {
     "data": {
      "text/plain": [
       "'2019-12-12 13:30:01'"
      ]
     },
     "execution_count": 11,
     "metadata": {},
     "output_type": "execute_result"
    }
   ],
   "source": [
    "merged['momento'].min()"
   ]
  },
  {
   "cell_type": "code",
   "execution_count": 10,
   "metadata": {},
   "outputs": [
    {
     "data": {
      "text/plain": [
       "'2019-12-12 17:29:59'"
      ]
     },
     "execution_count": 10,
     "metadata": {},
     "output_type": "execute_result"
    }
   ],
   "source": [
    "merged['momento'].max()"
   ]
  },
  {
   "cell_type": "code",
   "execution_count": 8,
   "metadata": {},
   "outputs": [
    {
     "data": {
      "text/plain": [
       "uid        14039\n",
       "momento    14039\n",
       "p3         14039\n",
       "fi_3       14039\n",
       "voltage    14039\n",
       "dtype: int64"
      ]
     },
     "execution_count": 8,
     "metadata": {},
     "output_type": "execute_result"
    }
   ],
   "source": [
    "merged[merged['uid']==1].count()"
   ]
  },
  {
   "cell_type": "code",
   "execution_count": 4,
   "metadata": {},
   "outputs": [
    {
     "data": {
      "text/html": [
       "<div>\n",
       "<style scoped>\n",
       "    .dataframe tbody tr th:only-of-type {\n",
       "        vertical-align: middle;\n",
       "    }\n",
       "\n",
       "    .dataframe tbody tr th {\n",
       "        vertical-align: top;\n",
       "    }\n",
       "\n",
       "    .dataframe thead th {\n",
       "        text-align: right;\n",
       "    }\n",
       "</style>\n",
       "<table border=\"1\" class=\"dataframe\">\n",
       "  <thead>\n",
       "    <tr style=\"text-align: right;\">\n",
       "      <th></th>\n",
       "      <th>uid</th>\n",
       "      <th>p3</th>\n",
       "      <th>fi_3</th>\n",
       "      <th>voltage</th>\n",
       "    </tr>\n",
       "  </thead>\n",
       "  <tbody>\n",
       "    <tr>\n",
       "      <td>count</td>\n",
       "      <td>141791.000000</td>\n",
       "      <td>141791.000000</td>\n",
       "      <td>141791.000000</td>\n",
       "      <td>141791.000000</td>\n",
       "    </tr>\n",
       "    <tr>\n",
       "      <td>mean</td>\n",
       "      <td>6.560057</td>\n",
       "      <td>155.182114</td>\n",
       "      <td>0.900520</td>\n",
       "      <td>2745.779867</td>\n",
       "    </tr>\n",
       "    <tr>\n",
       "      <td>std</td>\n",
       "      <td>4.020554</td>\n",
       "      <td>185.599672</td>\n",
       "      <td>0.172533</td>\n",
       "      <td>5289.106452</td>\n",
       "    </tr>\n",
       "    <tr>\n",
       "      <td>min</td>\n",
       "      <td>1.000000</td>\n",
       "      <td>8.650000</td>\n",
       "      <td>0.018700</td>\n",
       "      <td>8.924800</td>\n",
       "    </tr>\n",
       "    <tr>\n",
       "      <td>25%</td>\n",
       "      <td>3.000000</td>\n",
       "      <td>30.312000</td>\n",
       "      <td>0.906204</td>\n",
       "      <td>13.670400</td>\n",
       "    </tr>\n",
       "    <tr>\n",
       "      <td>50%</td>\n",
       "      <td>5.000000</td>\n",
       "      <td>56.229297</td>\n",
       "      <td>0.975085</td>\n",
       "      <td>217.873333</td>\n",
       "    </tr>\n",
       "    <tr>\n",
       "      <td>75%</td>\n",
       "      <td>10.000000</td>\n",
       "      <td>267.120000</td>\n",
       "      <td>0.989988</td>\n",
       "      <td>230.703333</td>\n",
       "    </tr>\n",
       "    <tr>\n",
       "      <td>max</td>\n",
       "      <td>13.000000</td>\n",
       "      <td>724.620776</td>\n",
       "      <td>0.999982</td>\n",
       "      <td>13972.800000</td>\n",
       "    </tr>\n",
       "  </tbody>\n",
       "</table>\n",
       "</div>"
      ],
      "text/plain": [
       "                 uid             p3           fi_3        voltage\n",
       "count  141791.000000  141791.000000  141791.000000  141791.000000\n",
       "mean        6.560057     155.182114       0.900520    2745.779867\n",
       "std         4.020554     185.599672       0.172533    5289.106452\n",
       "min         1.000000       8.650000       0.018700       8.924800\n",
       "25%         3.000000      30.312000       0.906204      13.670400\n",
       "50%         5.000000      56.229297       0.975085     217.873333\n",
       "75%        10.000000     267.120000       0.989988     230.703333\n",
       "max        13.000000     724.620776       0.999982   13972.800000"
      ]
     },
     "execution_count": 4,
     "metadata": {},
     "output_type": "execute_result"
    }
   ],
   "source": [
    "merged.describe()"
   ]
  },
  {
   "cell_type": "code",
   "execution_count": null,
   "metadata": {},
   "outputs": [],
   "source": [
    "def plot_cm(y_true, y_pred, figsize=(10,10)):\n",
    "    cm = metrics.confusion_matrix(y_true, y_pred, labels=np.unique(y_true))\n",
    "    cm_sum = np.sum(cm, axis=1, keepdims=True)\n",
    "    cm_perc = cm / cm_sum.astype(float) * 100\n",
    "    annot = np.empty_like(cm).astype(str)\n",
    "    nrows, ncols = cm.shape\n",
    "    for i in range(nrows):\n",
    "        for j in range(ncols):\n",
    "            c = cm[i, j]\n",
    "            p = cm_perc[i, j]\n",
    "            if i == j:\n",
    "                s = cm_sum[i]\n",
    "                annot[i, j] = '%.1f%%\\n%d/%d' % (p, c, s)\n",
    "            elif c == 0:\n",
    "                annot[i, j] = ''\n",
    "            else:\n",
    "                annot[i, j] = '%.1f%%\\n%d' % (p, c)\n",
    "    cm = pd.DataFrame(cm, index=np.unique(y_true), columns=np.unique(y_true))\n",
    "    cm.index.name = 'Actual'\n",
    "    cm.columns.name = 'Predicted'\n",
    "    fig, ax = plt.subplots(figsize=figsize)\n",
    "\n",
    "    sns.heatmap(cm, cmap= \"YlGnBu\", annot=annot, fmt='', ax=ax, linewidths=.5)"
   ]
  },
  {
   "cell_type": "markdown",
   "metadata": {},
   "source": [
    "# EDA and pre processing"
   ]
  },
  {
   "cell_type": "code",
   "execution_count": null,
   "metadata": {},
   "outputs": [],
   "source": [
    "merged.describe()"
   ]
  },
  {
   "cell_type": "code",
   "execution_count": null,
   "metadata": {},
   "outputs": [],
   "source": [
    "X = merged.drop(['uid', 'momento'], axis=1)\n",
    "y = merged['uid']\n",
    "\n",
    "# Normalization\n",
    "normalized = (X-X.min())/(X.max()-X.min())"
   ]
  },
  {
   "cell_type": "code",
   "execution_count": null,
   "metadata": {},
   "outputs": [],
   "source": [
    "f, (ax1, ax2) = plt.subplots(1, 2, sharey=True,figsize=(10,6))\n",
    "ax1.scatter(X['fi_3'], X['p3'],c=y, cmap='rainbow', alpha=0.01)\n",
    "ax2.scatter(X['voltage'], X['p3'],c=y, cmap='rainbow', alpha=0.01)"
   ]
  },
  {
   "cell_type": "code",
   "execution_count": null,
   "metadata": {},
   "outputs": [],
   "source": [
    "y.tail()"
   ]
  },
  {
   "cell_type": "markdown",
   "metadata": {},
   "source": [
    "# PCA"
   ]
  },
  {
   "cell_type": "code",
   "execution_count": null,
   "metadata": {},
   "outputs": [],
   "source": [
    "from sklearn.decomposition import PCA\n",
    "pca = PCA(n_components=2)\n",
    "pca.fit(normalized)\n",
    "\n",
    "x_pca = pca.transform(normalized)\n",
    "plt.figure(figsize=(8,6))\n",
    "plt.scatter(x_pca[:,0],x_pca[:,1],c=y,cmap='plasma', alpha=0.1)\n",
    "plt.xlabel('First principal component')\n",
    "plt.ylabel('Second Principal Component')"
   ]
  },
  {
   "cell_type": "markdown",
   "metadata": {},
   "source": [
    "# K means"
   ]
  },
  {
   "cell_type": "code",
   "execution_count": null,
   "metadata": {},
   "outputs": [],
   "source": [
    "from sklearn.cluster import KMeans"
   ]
  },
  {
   "cell_type": "code",
   "execution_count": null,
   "metadata": {},
   "outputs": [],
   "source": [
    "sse = {}\n",
    "for k in range(1, 10):\n",
    "    model = KMeans(n_clusters=k, max_iter=1000).fit(normalized)\n",
    "    #data[\"clusters\"] = model.labels_\n",
    "    #print(data[\"clusters\"])\n",
    "    sse[k] = model.inertia_ # Inertia: Sum of distances of samples to their closest cluster center\n",
    "plt.figure()\n",
    "plt.plot(list(sse.keys()), list(sse.values()))\n",
    "plt.xlabel(\"Number of cluster\")\n",
    "plt.ylabel(\"SSE\")\n",
    "plt.show()"
   ]
  },
  {
   "cell_type": "code",
   "execution_count": null,
   "metadata": {},
   "outputs": [],
   "source": [
    "model1 = KMeans(n_clusters=4)\n",
    "model1.fit(normalized)"
   ]
  },
  {
   "cell_type": "code",
   "execution_count": null,
   "metadata": {},
   "outputs": [],
   "source": [
    "plot_cm(y, model1.labels_)\n",
    "print(metrics.classification_report(y, model1.labels_))"
   ]
  },
  {
   "cell_type": "code",
   "execution_count": null,
   "metadata": {},
   "outputs": [],
   "source": [
    "fig, axes = plt.subplots(1,2,figsize=(14,5))\n",
    "\n",
    "\n",
    "axes[0].scatter(x_pca[:,0],x_pca[:,1],c=y,cmap='plasma', alpha=0.1)\n",
    "axes[0].set_xlabel('First principal component')\n",
    "axes[0].set_ylabel('Second Principal Component')\n",
    "axes[0].set_title(\"Cor = câmpus (original)\")\n",
    "\n",
    "axes[1].scatter(x_pca[:,0],x_pca[:,1],c=model1.labels_,cmap='plasma', alpha=0.1)\n",
    "axes[1].set_xlabel('First principal component')\n",
    "axes[1].set_ylabel('Second Principal Component')\n",
    "axes[1].set_title(\"Cor = resultado do clustering\")"
   ]
  },
  {
   "cell_type": "markdown",
   "metadata": {},
   "source": [
    "# Optics"
   ]
  },
  {
   "cell_type": "code",
   "execution_count": null,
   "metadata": {},
   "outputs": [],
   "source": [
    "from sklearn.cluster import OPTICS"
   ]
  },
  {
   "cell_type": "code",
   "execution_count": null,
   "metadata": {},
   "outputs": [],
   "source": [
    "model2 = OPTICS(min_cluster_size=30, cluster_method='dbscan')\n",
    "model2.fit(normalized)"
   ]
  },
  {
   "cell_type": "code",
   "execution_count": null,
   "metadata": {},
   "outputs": [],
   "source": [
    "f, (ax1, ax2) = plt.subplots(1, 2, sharey=True,figsize=(10,6))\n",
    "ax1.scatter(X['temp_celsius'], X['pa'],c=model2.labels_, cmap='rainbow', alpha=0.01)\n",
    "ax2.scatter(X['pressao'], X['pa'],c=model2.labels_, cmap='rainbow', alpha=0.01)\n"
   ]
  },
  {
   "cell_type": "code",
   "execution_count": null,
   "metadata": {},
   "outputs": [],
   "source": [
    "\n",
    "unique, counts = np.unique(model2.labels_, return_counts=True)\n",
    "dict(zip(unique, counts))"
   ]
  },
  {
   "cell_type": "code",
   "execution_count": null,
   "metadata": {},
   "outputs": [],
   "source": [
    "for cluster in unique:\n",
    "    print(merged[model2.labels_==cluster].describe())\n",
    "    \n",
    "    \n",
    "res = []    \n",
    "for cluster in ???:\n",
    "    y_hat = y[model2.labels_==cluster]\n",
    "    #res.append([y_hat.count(), y_hat.min(), ...]) ##add row\n",
    "    res.append (pd.DataFrame(y_hat).describe().values)"
   ]
  }
 ],
 "metadata": {
  "kernelspec": {
   "display_name": "Python 3",
   "language": "python",
   "name": "python3"
  },
  "language_info": {
   "codemirror_mode": {
    "name": "ipython",
    "version": 3
   },
   "file_extension": ".py",
   "mimetype": "text/x-python",
   "name": "python",
   "nbconvert_exporter": "python",
   "pygments_lexer": "ipython3",
   "version": "3.6.9"
  }
 },
 "nbformat": 4,
 "nbformat_minor": 2
}
