{
 "cells": [
  {
   "cell_type": "code",
   "execution_count": null,
   "metadata": {},
   "outputs": [],
   "source": [
    "import pandas as pd\n",
    "import numpy as np\n",
    "import matplotlib.pyplot as plt\n",
    "import seaborn as sns\n",
    "\n",
    "from sklearn.linear_model import LinearRegression\n",
    "from sklearn.model_selection import train_test_split\n",
    "%matplotlib inline\n",
    "\n",
    "pd.set_option('display.max_columns', None)\n",
    "pd.set_option('display.max_rows', 1000)\n",
    "\n",
    "import sklearn.metrics as metrics"
   ]
  },
  {
   "cell_type": "code",
   "execution_count": null,
   "metadata": {},
   "outputs": [],
   "source": [
    "FLAG_MERGE = False"
   ]
  },
  {
   "cell_type": "code",
   "execution_count": null,
   "metadata": {},
   "outputs": [],
   "source": [
    "if FLAG_MERGE:\n",
    "    places = [(\"../datasets/2019-1 BrasiliaBlocoC.csv\", 1),\n",
    "    (\"../datasets/2019-1 BrasiliaBlocoK.csv\", 2),\n",
    "    (\"../datasets/2019-1 Canoinhas.csv\", 3),\n",
    "    (\"../datasets/2019-1 Continente.csv\", 4),\n",
    "    (\"../datasets/2019-1 Fpolis.csv\", 5),\n",
    "    (\"../datasets/2019-1 Lages.csv\", 6),\n",
    "    (\"../datasets/2019-1 Reitoria.csv\", 7)]\n",
    "\n",
    "    merged = pd.DataFrame()\n",
    "    for place in places:\n",
    "        raw = pd.read_csv (place[0], sep=',')\n",
    "        raw = raw.drop('momento', axis=1)\n",
    "        raw ['place'] = place[1]\n",
    "        merged = pd.concat([merged, raw], ignore_index=True)\n",
    "        #print(raw)\n",
    "    merged = merged.dropna()\n",
    "    merged = merged[merged['pa']<250]\n",
    "else:\n",
    "    merged = pd.read_csv (\"../datasets/several_places.csv\", sep=',')"
   ]
  },
  {
   "cell_type": "code",
   "execution_count": null,
   "metadata": {},
   "outputs": [],
   "source": [
    "def plot_cm(y_true, y_pred, figsize=(10,10)):\n",
    "    cm = metrics.confusion_matrix(y_true, y_pred, labels=np.unique(y_true))\n",
    "    cm_sum = np.sum(cm, axis=1, keepdims=True)\n",
    "    cm_perc = cm / cm_sum.astype(float) * 100\n",
    "    annot = np.empty_like(cm).astype(str)\n",
    "    nrows, ncols = cm.shape\n",
    "    for i in range(nrows):\n",
    "        for j in range(ncols):\n",
    "            c = cm[i, j]\n",
    "            p = cm_perc[i, j]\n",
    "            if i == j:\n",
    "                s = cm_sum[i]\n",
    "                annot[i, j] = '%.1f%%\\n%d/%d' % (p, c, s)\n",
    "            elif c == 0:\n",
    "                annot[i, j] = ''\n",
    "            else:\n",
    "                annot[i, j] = '%.1f%%\\n%d' % (p, c)\n",
    "    cm = pd.DataFrame(cm, index=np.unique(y_true), columns=np.unique(y_true))\n",
    "    cm.index.name = 'Actual'\n",
    "    cm.columns.name = 'Predicted'\n",
    "    fig, ax = plt.subplots(figsize=figsize)\n",
    "\n",
    "    sns.heatmap(cm, cmap= \"YlGnBu\", annot=annot, fmt='', ax=ax, linewidths=.5)"
   ]
  },
  {
   "cell_type": "markdown",
   "metadata": {},
   "source": [
    "# EDA and pre processing"
   ]
  },
  {
   "cell_type": "code",
   "execution_count": null,
   "metadata": {},
   "outputs": [],
   "source": [
    "merged.describe()"
   ]
  },
  {
   "cell_type": "code",
   "execution_count": null,
   "metadata": {},
   "outputs": [],
   "source": [
    "X = merged.drop(['uid', 'momento'], axis=1)\n",
    "y = merged['uid']\n",
    "\n",
    "# Normalization\n",
    "normalized = (X-X.min())/(X.max()-X.min())"
   ]
  },
  {
   "cell_type": "code",
   "execution_count": null,
   "metadata": {},
   "outputs": [],
   "source": [
    "f, (ax1, ax2) = plt.subplots(1, 2, sharey=True,figsize=(10,6))\n",
    "ax1.scatter(X['fi_3'], X['p3'],c=y, cmap='rainbow', alpha=0.01)\n",
    "ax2.scatter(X['voltage'], X['p3'],c=y, cmap='rainbow', alpha=0.01)"
   ]
  },
  {
   "cell_type": "code",
   "execution_count": null,
   "metadata": {},
   "outputs": [],
   "source": [
    "y.tail()"
   ]
  },
  {
   "cell_type": "markdown",
   "metadata": {},
   "source": [
    "# PCA"
   ]
  },
  {
   "cell_type": "code",
   "execution_count": null,
   "metadata": {},
   "outputs": [],
   "source": [
    "from sklearn.decomposition import PCA\n",
    "pca = PCA(n_components=2)\n",
    "pca.fit(normalized)\n",
    "\n",
    "x_pca = pca.transform(normalized)\n",
    "plt.figure(figsize=(8,6))\n",
    "plt.scatter(x_pca[:,0],x_pca[:,1],c=y,cmap='plasma', alpha=0.1)\n",
    "plt.xlabel('First principal component')\n",
    "plt.ylabel('Second Principal Component')"
   ]
  },
  {
   "cell_type": "markdown",
   "metadata": {},
   "source": [
    "# K means"
   ]
  },
  {
   "cell_type": "code",
   "execution_count": null,
   "metadata": {},
   "outputs": [],
   "source": [
    "from sklearn.cluster import KMeans"
   ]
  },
  {
   "cell_type": "code",
   "execution_count": null,
   "metadata": {},
   "outputs": [],
   "source": [
    "sse = {}\n",
    "for k in range(1, 10):\n",
    "    model = KMeans(n_clusters=k, max_iter=1000).fit(normalized)\n",
    "    #data[\"clusters\"] = model.labels_\n",
    "    #print(data[\"clusters\"])\n",
    "    sse[k] = model.inertia_ # Inertia: Sum of distances of samples to their closest cluster center\n",
    "plt.figure()\n",
    "plt.plot(list(sse.keys()), list(sse.values()))\n",
    "plt.xlabel(\"Number of cluster\")\n",
    "plt.ylabel(\"SSE\")\n",
    "plt.show()"
   ]
  },
  {
   "cell_type": "code",
   "execution_count": null,
   "metadata": {},
   "outputs": [],
   "source": [
    "model1 = KMeans(n_clusters=4)\n",
    "model1.fit(normalized)"
   ]
  },
  {
   "cell_type": "code",
   "execution_count": null,
   "metadata": {},
   "outputs": [],
   "source": [
    "plot_cm(y, model1.labels_)\n",
    "print(metrics.classification_report(y, model1.labels_))"
   ]
  },
  {
   "cell_type": "code",
   "execution_count": null,
   "metadata": {},
   "outputs": [],
   "source": [
    "fig, axes = plt.subplots(1,2,figsize=(14,5))\n",
    "\n",
    "\n",
    "axes[0].scatter(x_pca[:,0],x_pca[:,1],c=y,cmap='plasma', alpha=0.1)\n",
    "axes[0].set_xlabel('First principal component')\n",
    "axes[0].set_ylabel('Second Principal Component')\n",
    "axes[0].set_title(\"Cor = câmpus (original)\")\n",
    "\n",
    "axes[1].scatter(x_pca[:,0],x_pca[:,1],c=model1.labels_,cmap='plasma', alpha=0.1)\n",
    "axes[1].set_xlabel('First principal component')\n",
    "axes[1].set_ylabel('Second Principal Component')\n",
    "axes[1].set_title(\"Cor = resultado do clustering\")"
   ]
  },
  {
   "cell_type": "markdown",
   "metadata": {},
   "source": [
    "# Optics"
   ]
  },
  {
   "cell_type": "code",
   "execution_count": null,
   "metadata": {},
   "outputs": [],
   "source": [
    "from sklearn.cluster import OPTICS"
   ]
  },
  {
   "cell_type": "code",
   "execution_count": null,
   "metadata": {},
   "outputs": [],
   "source": [
    "model2 = OPTICS(min_cluster_size=30, cluster_method='dbscan')\n",
    "model2.fit(normalized)"
   ]
  },
  {
   "cell_type": "code",
   "execution_count": null,
   "metadata": {},
   "outputs": [],
   "source": [
    "f, (ax1, ax2) = plt.subplots(1, 2, sharey=True,figsize=(10,6))\n",
    "ax1.scatter(X['temp_celsius'], X['pa'],c=model2.labels_, cmap='rainbow', alpha=0.01)\n",
    "ax2.scatter(X['pressao'], X['pa'],c=model2.labels_, cmap='rainbow', alpha=0.01)\n"
   ]
  },
  {
   "cell_type": "code",
   "execution_count": null,
   "metadata": {},
   "outputs": [],
   "source": [
    "\n",
    "unique, counts = np.unique(model2.labels_, return_counts=True)\n",
    "dict(zip(unique, counts))"
   ]
  },
  {
   "cell_type": "code",
   "execution_count": null,
   "metadata": {},
   "outputs": [],
   "source": [
    "for cluster in unique:\n",
    "    print(merged[model2.labels_==cluster].describe())\n",
    "    \n",
    "    \n",
    "res = []    \n",
    "for cluster in ???:\n",
    "    y_hat = y[model2.labels_==cluster]\n",
    "    #res.append([y_hat.count(), y_hat.min(), ...]) ##add row\n",
    "    res.append (pd.DataFrame(y_hat).describe().values)"
   ]
  }
 ],
 "metadata": {
  "kernelspec": {
   "display_name": "Python 3",
   "language": "python",
   "name": "python3"
  },
  "language_info": {
   "codemirror_mode": {
    "name": "ipython",
    "version": 3
   },
   "file_extension": ".py",
   "mimetype": "text/x-python",
   "name": "python",
   "nbconvert_exporter": "python",
   "pygments_lexer": "ipython3",
   "version": "3.6.9"
  }
 },
 "nbformat": 4,
 "nbformat_minor": 2
}
