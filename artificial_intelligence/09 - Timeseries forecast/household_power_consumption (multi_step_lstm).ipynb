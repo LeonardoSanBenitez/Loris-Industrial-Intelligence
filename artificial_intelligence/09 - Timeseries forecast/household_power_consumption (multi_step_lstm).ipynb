{
  "nbformat": 4,
  "nbformat_minor": 0,
  "metadata": {
    "kernelspec": {
      "display_name": "Python 3",
      "language": "python",
      "name": "python3"
    },
    "language_info": {
      "codemirror_mode": {
        "name": "ipython",
        "version": 3
      },
      "file_extension": ".py",
      "mimetype": "text/x-python",
      "name": "python",
      "nbconvert_exporter": "python",
      "pygments_lexer": "ipython3",
      "version": "3.6.6"
    },
    "colab": {
      "name": "basic multi-step lstm.ipynb",
      "version": "0.3.2",
      "provenance": [],
      "collapsed_sections": []
    }
  },
  "cells": [
    {
      "cell_type": "markdown",
      "metadata": {
        "id": "ngduuYZW8ogs",
        "colab_type": "text"
      },
      "source": [
        "Adopted from https://machinelearningmastery.com/how-to-develop-lstm-models-for-multi-step-time-series-forecasting-of-household-power-consumption/"
      ]
    },
    {
      "cell_type": "code",
      "metadata": {
        "id": "rjQNvygZ8ogx",
        "colab_type": "code",
        "outputId": "cc4d48cd-9925-49dd-aa0b-f98f04f14c1d",
        "colab": {
          "base_uri": "https://localhost:8080/",
          "height": 35
        }
      },
      "source": [
        "# load and clean-up data\n",
        "from numpy import nan\n",
        "from numpy import isnan\n",
        "from pandas import read_csv\n",
        "from pandas import to_numeric\n",
        "from numpy import split\n",
        "from numpy import array\n",
        "from math import sqrt\n",
        "from sklearn.metrics import mean_squared_error\n",
        "from matplotlib import pyplot\n",
        "from keras.models import Sequential\n",
        "from keras.layers import Dense\n",
        "from keras.layers import Flatten\n",
        "from keras.layers import LSTM\n",
        "from keras.layers import RepeatVector\n",
        "from keras.layers import TimeDistributed\n",
        "from keras.layers.convolutional import Conv1D\n",
        "from keras.layers.convolutional import MaxPooling1D\n",
        "from keras.layers import ConvLSTM2D"
      ],
      "execution_count": 1,
      "outputs": [
        {
          "output_type": "stream",
          "text": [
            "Using TensorFlow backend.\n"
          ],
          "name": "stderr"
        }
      ]
    },
    {
      "cell_type": "markdown",
      "metadata": {
        "id": "ZmjtJTpP9GYX",
        "colab_type": "text"
      },
      "source": [
        "# Pre processing\n",
        "* Fill missing values\n",
        "* Downsample to days\n",
        "* Overlaping Windows of weekly groups\n",
        "* Batch by week"
      ]
    },
    {
      "cell_type": "code",
      "metadata": {
        "id": "PnY77Gda8yEj",
        "colab_type": "code",
        "colab": {
          "base_uri": "https://localhost:8080/",
          "height": 348
        },
        "outputId": "8637aced-2a9d-4b5e-84db-798cb131fb07"
      },
      "source": [
        "!wget https://archive.ics.uci.edu/ml/machine-learning-databases/00235/household_power_consumption.zip\n",
        "!unzip household_power_consumption.zip\n",
        "!ls"
      ],
      "execution_count": 2,
      "outputs": [
        {
          "output_type": "stream",
          "text": [
            "--2019-08-29 01:34:40--  https://archive.ics.uci.edu/ml/machine-learning-databases/00235/household_power_consumption.zip\n",
            "Resolving archive.ics.uci.edu (archive.ics.uci.edu)... 128.195.10.252\n",
            "Connecting to archive.ics.uci.edu (archive.ics.uci.edu)|128.195.10.252|:443... connected.\n",
            "HTTP request sent, awaiting response... 200 OK\n",
            "Length: 20640916 (20M) [application/x-httpd-php]\n",
            "Saving to: ‘household_power_consumption.zip.2’\n",
            "\n",
            "\r          household   0%[                    ]       0  --.-KB/s               \r         household_   7%[>                   ]   1.42M  7.03MB/s               \r        household_p  98%[==================> ]  19.38M  48.1MB/s               \rhousehold_power_con 100%[===================>]  19.68M  48.4MB/s    in 0.4s    \n",
            "\n",
            "2019-08-29 01:34:40 (48.4 MB/s) - ‘household_power_consumption.zip.2’ saved [20640916/20640916]\n",
            "\n",
            "Archive:  household_power_consumption.zip\n",
            "replace household_power_consumption.txt? [y]es, [n]o, [A]ll, [N]one, [r]ename: y\n",
            "  inflating: household_power_consumption.txt  \n",
            "household_power_consumption.csv       household_power_consumption.zip.1\n",
            "household_power_consumption_days.csv  household_power_consumption.zip.2\n",
            "household_power_consumption.txt       sample_data\n",
            "household_power_consumption.zip\n"
          ],
          "name": "stdout"
        }
      ]
    },
    {
      "cell_type": "code",
      "metadata": {
        "_cell_guid": "b1076dfc-b9ad-4769-8c92-a6c4dae69d19",
        "_uuid": "8f2839f25d086af736a60e9eeb907d3b93b6e0e5",
        "id": "zAT802UM8ohA",
        "colab_type": "code",
        "colab": {}
      },
      "source": [
        "# fill missing values with a value at the same time one day ago\n",
        "def fill_missing(values):\n",
        "    one_day = 60 * 24\n",
        "    for row in range(values.shape[0]):\n",
        "        for col in range(values.shape[1]):\n",
        "            if isnan(values[row, col]):\n",
        "                values[row, col] = values[row - one_day, col]\n",
        "\n",
        "# load all data\n",
        "dataset = read_csv('household_power_consumption.txt', sep=';', header=0, low_memory=False, infer_datetime_format=True, parse_dates={'datetime':[0,1]}, index_col=['datetime'])\n",
        "# mark all missing values\n",
        "dataset.replace('?', nan, inplace=True)\n",
        "# make dataset numeric\n",
        "dataset = dataset.astype('float32')\n",
        "# fill missing\n",
        "fill_missing(dataset.values)\n",
        "# add a column for for the remainder of sub metering\n",
        "values = dataset.values\n",
        "dataset['sub_metering_4'] = (values[:,0] * 1000 / 60) - (values[:,4] + values[:,5] + values[:,6])\n",
        "# save updated dataset\n",
        "dataset.to_csv('household_power_consumption.csv')"
      ],
      "execution_count": 0,
      "outputs": []
    },
    {
      "cell_type": "code",
      "metadata": {
        "_cell_guid": "79c7e3d0-c299-4dcb-8224-4455121ee9b0",
        "_uuid": "d629ff2d2480ee46fbb7e2d37f6b5fab8052498a",
        "id": "HkkYNrTU8ohJ",
        "colab_type": "code",
        "outputId": "0abe1676-3f81-456b-e731-ce9e806eac7b",
        "colab": {
          "base_uri": "https://localhost:8080/",
          "height": 201
        }
      },
      "source": [
        "# resample minute data to total for each day\n",
        "# load the new file\n",
        "dataset = read_csv('household_power_consumption.csv', header=0, infer_datetime_format=True, parse_dates=['datetime'], index_col=['datetime'])\n",
        "# resample data to daily\n",
        "daily_groups = dataset.resample('D')\n",
        "daily_data = daily_groups.sum()\n",
        "# summarize\n",
        "print(daily_data.shape)\n",
        "print(daily_data.head())\n",
        "# save\n",
        "daily_data.to_csv('household_power_consumption_days.csv')"
      ],
      "execution_count": 4,
      "outputs": [
        {
          "output_type": "stream",
          "text": [
            "(1442, 8)\n",
            "            Global_active_power  ...  sub_metering_4\n",
            "datetime                         ...                \n",
            "2006-12-16             1209.176  ...    14680.933319\n",
            "2006-12-17             3390.460  ...    36946.666732\n",
            "2006-12-18             2203.826  ...    19028.433281\n",
            "2006-12-19             1666.194  ...    13131.900043\n",
            "2006-12-20             2225.748  ...    20384.800011\n",
            "\n",
            "[5 rows x 8 columns]\n"
          ],
          "name": "stdout"
        }
      ]
    },
    {
      "cell_type": "code",
      "metadata": {
        "id": "LCjYSQqq8ohS",
        "colab_type": "code",
        "outputId": "71fa623d-42c5-42c3-8e92-d3efdd1e0cad",
        "colab": {
          "base_uri": "https://localhost:8080/",
          "height": 90
        }
      },
      "source": [
        "# split into standard weeks\n",
        "\n",
        "# split a univariate dataset into train/test sets\n",
        "def split_dataset(data):\n",
        "    # split into standard weeks\n",
        "    train, test = data[1:-328], data[-328:-6]\n",
        "    # restructure into windows of weekly data\n",
        "    train = array(split(train, len(train)/7))\n",
        "    test = array(split(test, len(test)/7))\n",
        "    return train, test\n",
        "\n",
        "# load the new file\n",
        "dataset = read_csv('household_power_consumption_days.csv', header=0, infer_datetime_format=True, parse_dates=['datetime'], index_col=['datetime'])\n",
        "train, test = split_dataset(dataset.values)\n",
        "# validate train data\n",
        "print(train.shape)\n",
        "print(train[0, 0, 0], train[-1, -1, 0])\n",
        "# validate test\n",
        "print(test.shape)\n",
        "print(test[0, 0, 0], test[-1, -1, 0])"
      ],
      "execution_count": 5,
      "outputs": [
        {
          "output_type": "stream",
          "text": [
            "(159, 7, 8)\n",
            "3390.46 1309.2679999999998\n",
            "(46, 7, 8)\n",
            "2083.4539999999984 2197.006000000004\n"
          ],
          "name": "stdout"
        }
      ]
    },
    {
      "cell_type": "markdown",
      "metadata": {
        "id": "bXETKN4W8ohZ",
        "colab_type": "text"
      },
      "source": [
        "## LSTM Model With Univariate Input and Vector Output"
      ]
    },
    {
      "cell_type": "code",
      "metadata": {
        "id": "YIvaVGpj8ohc",
        "colab_type": "code",
        "colab": {}
      },
      "source": [
        "\n",
        "# evaluate one or more weekly forecasts against expected values\n",
        "def evaluate_forecasts(actual, predicted):\n",
        "    scores = list()\n",
        "    # calculate an RMSE score for each day\n",
        "    for i in range(actual.shape[1]):\n",
        "        # calculate mse\n",
        "        mse = mean_squared_error(actual[:, i], predicted[:, i])\n",
        "        # calculate rmse\n",
        "        rmse = sqrt(mse)\n",
        "        # store\n",
        "        scores.append(rmse)\n",
        "    # calculate overall RMSE\n",
        "    s = 0\n",
        "    for row in range(actual.shape[0]):\n",
        "        for col in range(actual.shape[1]):\n",
        "            s += (actual[row, col] - predicted[row, col])**2\n",
        "    score = sqrt(s / (actual.shape[0] * actual.shape[1]))\n",
        "    return score, scores\n",
        "\n",
        "# summarize scores\n",
        "def summarize_scores(name, score, scores):\n",
        "    s_scores = ', '.join(['%.1f' % s for s in scores])\n",
        "    print('%s: [%.3f] %s' % (name, score, s_scores))\n",
        "\n",
        "\n",
        "# evaluate a single model\n",
        "def evaluate_model(train, test, n_input):\n",
        "    # fit model\n",
        "    model = build_model(train, n_input)\n",
        "    # history is a list of weekly data\n",
        "    history = [x for x in train]\n",
        "    # walk-forward validation over each week\n",
        "    predictions = list()\n",
        "    for i in range(len(test)):\n",
        "        # predict the week\n",
        "        yhat_sequence = forecast(model, history, n_input)\n",
        "        # store the predictions\n",
        "        predictions.append(yhat_sequence)\n",
        "        # get real observation and add to history for predicting the next week\n",
        "        history.append(test[i, :])\n",
        "    # evaluate predictions days for each week\n",
        "    predictions = array(predictions)\n",
        "    score, scores = evaluate_forecasts(test[:, :, 0], predictions)\n",
        "    return score, scores"
      ],
      "execution_count": 0,
      "outputs": []
    },
    {
      "cell_type": "markdown",
      "metadata": {
        "id": "YosIGEiQ8oic",
        "colab_type": "text"
      },
      "source": [
        "## Encoder-Decoder LSTM Model With Multivariate Input"
      ]
    },
    {
      "cell_type": "code",
      "metadata": {
        "id": "gpx-uipd8oid",
        "colab_type": "code",
        "colab": {}
      },
      "source": [
        "# convert history into inputs and outputs\n",
        "def to_supervised(train, n_input, n_out=7):\n",
        "    # flatten data\n",
        "    data = train.reshape((train.shape[0]*train.shape[1], train.shape[2]))\n",
        "    X, y = list(), list()\n",
        "    in_start = 0\n",
        "    # step over the entire history one time step at a time\n",
        "    for _ in range(len(data)):\n",
        "        # define the end of the input sequence\n",
        "        in_end = in_start + n_input\n",
        "        out_end = in_end + n_out\n",
        "        # ensure we have enough data for this instance\n",
        "        if out_end < len(data):\n",
        "            X.append(data[in_start:in_end, :])\n",
        "            y.append(data[in_end:out_end, 0])\n",
        "        # move along one time step\n",
        "        in_start += 1\n",
        "    return array(X), array(y)\n",
        " \n",
        "# train the model\n",
        "def build_model(train, n_input):\n",
        "    # prepare data\n",
        "    train_x, train_y = to_supervised(train, n_input)\n",
        "    # define parameters\n",
        "    verbose, epochs, batch_size = 1, 50, 16\n",
        "    n_timesteps, n_features, n_outputs = train_x.shape[1], train_x.shape[2], train_y.shape[1]\n",
        "    # reshape output intodel = Sequential()\n",
        "    model.add(LSTM(200, activation='relu', input_shape=(n_timesteps, n_features)))\n",
        "    model.add(RepeatVector(n_outputs))\n",
        "    model.add(LSTM(200, activation='relu', return_sequences=True))\n",
        "    model.add(TimeDistributed(Dense(100, activation='relu')))\n",
        "    model.add(TimeDistributed(Dense(1)))\n",
        "    model.compile(loss='mse', optimizer='adam')o [samples, timesteps, features]\n",
        "    train_y = train_y.reshape((train_y.shape[0], train_y.shape[1], 1))\n",
        "    # define model\n",
        "    m\n",
        "    # fit network\n",
        "    model.fit(train_x, train_y, epochs=epochs, batch_size=batch_size, verbose=verbose)\n",
        "    return model\n",
        " \n",
        "# make a forecast\n",
        "def forecast(model, history, n_input):\n",
        "    # flatten data\n",
        "    data = array(history)\n",
        "    data = data.reshape((data.shape[0]*data.shape[1], data.shape[2]))\n",
        "    # retrieve last observations for input data\n",
        "    input_x = data[-n_input:, :]\n",
        "    # reshape into [1, n_input, n]\n",
        "    input_x = input_x.reshape((1, input_x.shape[0], input_x.shape[1]))\n",
        "    # forecast the next week\n",
        "    yhat = model.predict(input_x, verbose=0)\n",
        "    # we only want the vector forecast\n",
        "    yhat = yhat[0]\n",
        "    return yhat"
      ],
      "execution_count": 0,
      "outputs": []
    },
    {
      "cell_type": "code",
      "metadata": {
        "id": "BnTLnLtr8oii",
        "colab_type": "code",
        "colab": {
          "base_uri": "https://localhost:8080/",
          "height": 1000
        },
        "outputId": "d3001596-7ae2-4e26-d792-61b8e6b307a7"
      },
      "source": [
        "# evaluate model and get scores\n",
        "n_input = 14\n",
        "score, scores = evaluate_model(train, test, n_input)"
      ],
      "execution_count": 8,
      "outputs": [
        {
          "output_type": "stream",
          "text": [
            "WARNING: Logging before flag parsing goes to stderr.\n",
            "W0829 01:35:43.681224 140308922886016 deprecation_wrapper.py:119] From /usr/local/lib/python3.6/dist-packages/keras/backend/tensorflow_backend.py:74: The name tf.get_default_graph is deprecated. Please use tf.compat.v1.get_default_graph instead.\n",
            "\n",
            "W0829 01:35:43.695527 140308922886016 deprecation_wrapper.py:119] From /usr/local/lib/python3.6/dist-packages/keras/backend/tensorflow_backend.py:517: The name tf.placeholder is deprecated. Please use tf.compat.v1.placeholder instead.\n",
            "\n",
            "W0829 01:35:43.700978 140308922886016 deprecation_wrapper.py:119] From /usr/local/lib/python3.6/dist-packages/keras/backend/tensorflow_backend.py:4138: The name tf.random_uniform is deprecated. Please use tf.random.uniform instead.\n",
            "\n",
            "W0829 01:35:44.243808 140308922886016 deprecation_wrapper.py:119] From /usr/local/lib/python3.6/dist-packages/keras/optimizers.py:790: The name tf.train.Optimizer is deprecated. Please use tf.compat.v1.train.Optimizer instead.\n",
            "\n",
            "W0829 01:35:44.491538 140308922886016 deprecation.py:323] From /usr/local/lib/python3.6/dist-packages/tensorflow/python/ops/math_grad.py:1250: add_dispatch_support.<locals>.wrapper (from tensorflow.python.ops.array_ops) is deprecated and will be removed in a future version.\n",
            "Instructions for updating:\n",
            "Use tf.where in 2.0, which has the same broadcast rule as np.where\n",
            "W0829 01:35:45.629821 140308922886016 deprecation_wrapper.py:119] From /usr/local/lib/python3.6/dist-packages/keras/backend/tensorflow_backend.py:986: The name tf.assign_add is deprecated. Please use tf.compat.v1.assign_add instead.\n",
            "\n",
            "W0829 01:35:45.764440 140308922886016 deprecation_wrapper.py:119] From /usr/local/lib/python3.6/dist-packages/keras/backend/tensorflow_backend.py:973: The name tf.assign is deprecated. Please use tf.compat.v1.assign instead.\n",
            "\n"
          ],
          "name": "stderr"
        },
        {
          "output_type": "stream",
          "text": [
            "Epoch 1/50\n",
            "1092/1092 [==============================] - 5s 5ms/step - loss: 70198929.2747\n",
            "Epoch 2/50\n",
            "1092/1092 [==============================] - 4s 3ms/step - loss: 17801250.2692\n",
            "Epoch 3/50\n",
            "1092/1092 [==============================] - 4s 3ms/step - loss: 30534912.9886\n",
            "Epoch 4/50\n",
            "1092/1092 [==============================] - 4s 3ms/step - loss: 9557669.4826\n",
            "Epoch 5/50\n",
            "1092/1092 [==============================] - 4s 3ms/step - loss: 9601723.3755\n",
            "Epoch 6/50\n",
            "1092/1092 [==============================] - 4s 3ms/step - loss: 494840.9578\n",
            "Epoch 7/50\n",
            "1092/1092 [==============================] - 4s 3ms/step - loss: 968144.1209\n",
            "Epoch 8/50\n",
            "1092/1092 [==============================] - 4s 3ms/step - loss: 411801.9886\n",
            "Epoch 9/50\n",
            "1092/1092 [==============================] - 4s 3ms/step - loss: 371059.1783\n",
            "Epoch 10/50\n",
            "1092/1092 [==============================] - 4s 3ms/step - loss: 323876.6389\n",
            "Epoch 11/50\n",
            "1092/1092 [==============================] - 4s 3ms/step - loss: 324740.2802\n",
            "Epoch 12/50\n",
            "1092/1092 [==============================] - 4s 3ms/step - loss: 471349.9725\n",
            "Epoch 13/50\n",
            "1092/1092 [==============================] - 4s 3ms/step - loss: 594440.9464\n",
            "Epoch 14/50\n",
            "1092/1092 [==============================] - 4s 3ms/step - loss: 395849.8590\n",
            "Epoch 15/50\n",
            "1092/1092 [==============================] - 4s 3ms/step - loss: 469844.3338\n",
            "Epoch 16/50\n",
            "1092/1092 [==============================] - 4s 3ms/step - loss: 4492457.0224\n",
            "Epoch 17/50\n",
            "1092/1092 [==============================] - 4s 3ms/step - loss: 17309224.9148\n",
            "Epoch 18/50\n",
            "1092/1092 [==============================] - 4s 3ms/step - loss: 688706.1474\n",
            "Epoch 19/50\n",
            "1092/1092 [==============================] - 4s 3ms/step - loss: 727177.8278\n",
            "Epoch 20/50\n",
            "1092/1092 [==============================] - 3s 3ms/step - loss: 349985.7214\n",
            "Epoch 21/50\n",
            "1092/1092 [==============================] - 4s 3ms/step - loss: 370190.0187\n",
            "Epoch 22/50\n",
            "1092/1092 [==============================] - 4s 3ms/step - loss: 352965.5314\n",
            "Epoch 23/50\n",
            "1092/1092 [==============================] - 4s 3ms/step - loss: 345312.5358\n",
            "Epoch 24/50\n",
            "1092/1092 [==============================] - 4s 3ms/step - loss: 343383.3500\n",
            "Epoch 25/50\n",
            "1092/1092 [==============================] - 4s 3ms/step - loss: 357623.5419\n",
            "Epoch 26/50\n",
            "1092/1092 [==============================] - 4s 3ms/step - loss: 342604.9385\n",
            "Epoch 27/50\n",
            "1092/1092 [==============================] - 4s 3ms/step - loss: 307467.1440\n",
            "Epoch 28/50\n",
            "1092/1092 [==============================] - 4s 3ms/step - loss: 305867.9951\n",
            "Epoch 29/50\n",
            "1092/1092 [==============================] - 4s 3ms/step - loss: 304842.9275\n",
            "Epoch 30/50\n",
            "1092/1092 [==============================] - 4s 3ms/step - loss: 292484.5682\n",
            "Epoch 31/50\n",
            "1092/1092 [==============================] - 4s 3ms/step - loss: 308989.1382\n",
            "Epoch 32/50\n",
            "1092/1092 [==============================] - 4s 3ms/step - loss: 308556.2448\n",
            "Epoch 33/50\n",
            "1092/1092 [==============================] - 4s 3ms/step - loss: 282958.7842\n",
            "Epoch 34/50\n",
            "1092/1092 [==============================] - 4s 3ms/step - loss: 283881.0957\n",
            "Epoch 35/50\n",
            "1092/1092 [==============================] - 4s 3ms/step - loss: 319784.9174\n",
            "Epoch 36/50\n",
            "1092/1092 [==============================] - 3s 3ms/step - loss: 344363.1708\n",
            "Epoch 37/50\n",
            "1092/1092 [==============================] - 4s 3ms/step - loss: 271857.0628\n",
            "Epoch 38/50\n",
            "1092/1092 [==============================] - 4s 3ms/step - loss: 271367.1924\n",
            "Epoch 39/50\n",
            "1092/1092 [==============================] - 4s 3ms/step - loss: 308692.4464\n",
            "Epoch 40/50\n",
            "1092/1092 [==============================] - 4s 3ms/step - loss: 283481.0134\n",
            "Epoch 41/50\n",
            "1092/1092 [==============================] - 4s 3ms/step - loss: 268384.6884\n",
            "Epoch 42/50\n",
            "1092/1092 [==============================] - 4s 3ms/step - loss: 278455.2395\n",
            "Epoch 43/50\n",
            "1092/1092 [==============================] - 4s 3ms/step - loss: 263131.8901\n",
            "Epoch 44/50\n",
            "1092/1092 [==============================] - 4s 3ms/step - loss: 292611.5584\n",
            "Epoch 45/50\n",
            "1092/1092 [==============================] - 4s 3ms/step - loss: 261032.3282\n",
            "Epoch 46/50\n",
            "1092/1092 [==============================] - 4s 3ms/step - loss: 262114.9079\n",
            "Epoch 47/50\n",
            "1092/1092 [==============================] - 4s 3ms/step - loss: 253041.9962\n",
            "Epoch 48/50\n",
            "1092/1092 [==============================] - 4s 3ms/step - loss: 257233.8905\n",
            "Epoch 49/50\n",
            "1092/1092 [==============================] - 4s 3ms/step - loss: 300673.0511\n",
            "Epoch 50/50\n",
            "1092/1092 [==============================] - 4s 3ms/step - loss: 257509.6415\n"
          ],
          "name": "stdout"
        }
      ]
    },
    {
      "cell_type": "code",
      "metadata": {
        "id": "XeSlgF0c8oin",
        "colab_type": "code",
        "outputId": "a5761da0-b22b-49f2-e9d2-92610a1e9538",
        "colab": {
          "base_uri": "https://localhost:8080/",
          "height": 35
        }
      },
      "source": [
        "# summarize scores\n",
        "summarize_scores('lstm', score, scores)"
      ],
      "execution_count": 9,
      "outputs": [
        {
          "output_type": "stream",
          "text": [
            "lstm: [381.390] 378.5, 383.7, 343.2, 394.3, 373.5, 322.6, 459.2\n"
          ],
          "name": "stdout"
        }
      ]
    },
    {
      "cell_type": "code",
      "metadata": {
        "id": "4O_oqsuT8oiu",
        "colab_type": "code",
        "outputId": "03c68da5-d744-4a9d-a1c0-96bbfebd6c46",
        "colab": {
          "base_uri": "https://localhost:8080/",
          "height": 269
        }
      },
      "source": [
        "# plot scores\n",
        "days = ['sun', 'mon', 'tue', 'wed', 'thr', 'fri', 'sat']\n",
        "pyplot.plot(days, scores, marker='o', label='lstm')\n",
        "pyplot.show()"
      ],
      "execution_count": 10,
      "outputs": [
        {
          "output_type": "display_data",
          "data": {
            "image/png": "[encoded data removed]",
            "text/plain": [
              "<Figure size 432x288 with 1 Axes>"
            ]
          },
          "metadata": {
            "tags": []
          }
        }
      ]
    }
  ]
}