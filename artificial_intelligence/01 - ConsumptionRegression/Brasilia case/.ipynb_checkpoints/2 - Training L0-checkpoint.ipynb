{
 "cells": [
  {
   "cell_type": "markdown",
   "metadata": {},
   "source": [
    "# Dataset import"
   ]
  },
  {
   "cell_type": "code",
   "execution_count": 1,
   "metadata": {},
   "outputs": [],
   "source": [
    "# Math and linear algebra\n",
    "import pandas as pd\n",
    "pd.set_option('display.max_columns', 100)\n",
    "pd.set_option('display.max_rows', 100)\n",
    "import math\n",
    "import numpy as np\n",
    "\n",
    "# Vizualization\n",
    "import seaborn as sns\n",
    "import matplotlib.pyplot as plt\n",
    "%matplotlib inline\n",
    "\n",
    "# Utils\n",
    "import sklearn.metrics as metrics\n",
    "from sklearn.model_selection import GridSearchCV\n",
    "from joblib import dump, load\n",
    "import gc\n",
    "\n",
    "FLAG_EXPORT = True\n",
    "FLAG_DEBUG = False"
   ]
  },
  {
   "cell_type": "code",
   "execution_count": 2,
   "metadata": {
    "scrolled": false
   },
   "outputs": [
    {
     "data": {
      "text/html": [
       "<div>\n",
       "<style scoped>\n",
       "    .dataframe tbody tr th:only-of-type {\n",
       "        vertical-align: middle;\n",
       "    }\n",
       "\n",
       "    .dataframe tbody tr th {\n",
       "        vertical-align: top;\n",
       "    }\n",
       "\n",
       "    .dataframe thead th {\n",
       "        text-align: right;\n",
       "    }\n",
       "</style>\n",
       "<table border=\"1\" class=\"dataframe\">\n",
       "  <thead>\n",
       "    <tr style=\"text-align: right;\">\n",
       "      <th></th>\n",
       "      <th>temperature</th>\n",
       "      <th>pressure</th>\n",
       "      <th>precipitation</th>\n",
       "      <th>windspeed</th>\n",
       "      <th>voltage</th>\n",
       "      <th>cos_phi</th>\n",
       "      <th>cos_phi_std</th>\n",
       "      <th>month</th>\n",
       "      <th>hour</th>\n",
       "      <th>day_of_week</th>\n",
       "      <th>p3_std</th>\n",
       "      <th>load_factor</th>\n",
       "      <th>p3</th>\n",
       "    </tr>\n",
       "  </thead>\n",
       "  <tbody>\n",
       "    <tr>\n",
       "      <td>84921</td>\n",
       "      <td>0.044226</td>\n",
       "      <td>-0.250199</td>\n",
       "      <td>-0.178382</td>\n",
       "      <td>-1.997069</td>\n",
       "      <td>0.847423</td>\n",
       "      <td>-0.704650</td>\n",
       "      <td>-0.285084</td>\n",
       "      <td>1.861182</td>\n",
       "      <td>1.510864</td>\n",
       "      <td>0.99741</td>\n",
       "      <td>-0.758144</td>\n",
       "      <td>-0.316169</td>\n",
       "      <td>70.696167</td>\n",
       "    </tr>\n",
       "    <tr>\n",
       "      <td>84922</td>\n",
       "      <td>0.004726</td>\n",
       "      <td>-0.246156</td>\n",
       "      <td>-0.178382</td>\n",
       "      <td>-1.918821</td>\n",
       "      <td>1.081712</td>\n",
       "      <td>-0.766661</td>\n",
       "      <td>1.083955</td>\n",
       "      <td>1.861182</td>\n",
       "      <td>1.510864</td>\n",
       "      <td>0.99741</td>\n",
       "      <td>0.319896</td>\n",
       "      <td>-2.984903</td>\n",
       "      <td>74.598750</td>\n",
       "    </tr>\n",
       "    <tr>\n",
       "      <td>84923</td>\n",
       "      <td>-0.041956</td>\n",
       "      <td>-0.248695</td>\n",
       "      <td>-0.178382</td>\n",
       "      <td>-1.800332</td>\n",
       "      <td>1.381961</td>\n",
       "      <td>-0.880834</td>\n",
       "      <td>0.170989</td>\n",
       "      <td>1.861182</td>\n",
       "      <td>1.510864</td>\n",
       "      <td>0.99741</td>\n",
       "      <td>-0.873229</td>\n",
       "      <td>0.870345</td>\n",
       "      <td>70.590538</td>\n",
       "    </tr>\n",
       "    <tr>\n",
       "      <td>84924</td>\n",
       "      <td>-0.095821</td>\n",
       "      <td>-0.258380</td>\n",
       "      <td>-0.178382</td>\n",
       "      <td>-1.655015</td>\n",
       "      <td>1.197738</td>\n",
       "      <td>-0.985090</td>\n",
       "      <td>2.885395</td>\n",
       "      <td>1.861182</td>\n",
       "      <td>1.510864</td>\n",
       "      <td>0.99741</td>\n",
       "      <td>0.168539</td>\n",
       "      <td>-1.281150</td>\n",
       "      <td>70.484667</td>\n",
       "    </tr>\n",
       "    <tr>\n",
       "      <td>84925</td>\n",
       "      <td>-0.156867</td>\n",
       "      <td>-0.275775</td>\n",
       "      <td>-0.178382</td>\n",
       "      <td>-1.496284</td>\n",
       "      <td>1.238225</td>\n",
       "      <td>-0.988345</td>\n",
       "      <td>0.757411</td>\n",
       "      <td>1.861182</td>\n",
       "      <td>1.655251</td>\n",
       "      <td>0.99741</td>\n",
       "      <td>-0.714790</td>\n",
       "      <td>0.524732</td>\n",
       "      <td>68.601167</td>\n",
       "    </tr>\n",
       "  </tbody>\n",
       "</table>\n",
       "</div>"
      ],
      "text/plain": [
       "       temperature  pressure  precipitation  windspeed   voltage   cos_phi  \\\n",
       "84921     0.044226 -0.250199      -0.178382  -1.997069  0.847423 -0.704650   \n",
       "84922     0.004726 -0.246156      -0.178382  -1.918821  1.081712 -0.766661   \n",
       "84923    -0.041956 -0.248695      -0.178382  -1.800332  1.381961 -0.880834   \n",
       "84924    -0.095821 -0.258380      -0.178382  -1.655015  1.197738 -0.985090   \n",
       "84925    -0.156867 -0.275775      -0.178382  -1.496284  1.238225 -0.988345   \n",
       "\n",
       "       cos_phi_std     month      hour  day_of_week    p3_std  load_factor  \\\n",
       "84921    -0.285084  1.861182  1.510864      0.99741 -0.758144    -0.316169   \n",
       "84922     1.083955  1.861182  1.510864      0.99741  0.319896    -2.984903   \n",
       "84923     0.170989  1.861182  1.510864      0.99741 -0.873229     0.870345   \n",
       "84924     2.885395  1.861182  1.510864      0.99741  0.168539    -1.281150   \n",
       "84925     0.757411  1.861182  1.655251      0.99741 -0.714790     0.524732   \n",
       "\n",
       "              p3  \n",
       "84921  70.696167  \n",
       "84922  74.598750  \n",
       "84923  70.590538  \n",
       "84924  70.484667  \n",
       "84925  68.601167  "
      ]
     },
     "execution_count": 2,
     "metadata": {},
     "output_type": "execute_result"
    }
   ],
   "source": [
    "# Import training dataset\n",
    "raw = pd.read_csv (\"../../datasets/brasilia_case_preprocessed.csv\", header=0)\n",
    "\n",
    "raw = raw.drop('timestamp', axis=1)\n",
    "raw.tail()"
   ]
  },
  {
   "cell_type": "code",
   "execution_count": 3,
   "metadata": {},
   "outputs": [
    {
     "data": {
      "text/plain": [
       "10"
      ]
     },
     "execution_count": 3,
     "metadata": {},
     "output_type": "execute_result"
    }
   ],
   "source": [
    "from sklearn.model_selection import train_test_split\n",
    "\n",
    "X = raw.drop('p3', axis=1)\n",
    "y = raw ['p3']\n",
    "X_train, X_test, y_train, y_test = train_test_split(X, y, test_size=0.3)\n",
    "\n",
    "n = 2000\n",
    "X_train = X_train[:n]\n",
    "X_test = X_test[:n]\n",
    "y_train = y_train[:n]\n",
    "y_test = y_test[:n]\n",
    "\n",
    "del X\n",
    "del y\n",
    "gc.collect()"
   ]
  },
  {
   "cell_type": "code",
   "execution_count": 4,
   "metadata": {},
   "outputs": [],
   "source": [
    "def regression_report (y_hat, y_test, alpha=0.05, title=\"Model Evaluation\"):\n",
    "    print (\"MAE:                \", metrics.mean_absolute_error(y_test, y_hat))\n",
    "    print (\"RMSE:               \", np.sqrt(metrics.mean_squared_error(y_test, y_hat)))\n",
    "    print (\"Percentual:         \", metrics.mean_absolute_error(y_test,y_hat)/y_test.mean()*100, \"%\")\n",
    "\n",
    "    # Previsto vs real\n",
    "    line = np.arange(np.min([y_test, y_hat]),\n",
    "                     np.max([y_test, y_hat]),\n",
    "                     1)\n",
    "\n",
    "    plt.scatter(y_test,y_hat, Alpha=alpha)\n",
    "    plt.scatter(line,line, marker='.')\n",
    "    plt.grid(True)\n",
    "    plt.title(title)\n",
    "    plt.xlabel(\"Real values\")\n",
    "    plt.ylabel(\"Predicted values\")"
   ]
  },
  {
   "cell_type": "code",
   "execution_count": 5,
   "metadata": {},
   "outputs": [],
   "source": [
    "from sklearn import metrics\n",
    "import scipy as sp\n",
    "import numpy as np\n",
    "import math\n",
    "from sklearn import metrics\n",
    "\n",
    "def perturbation_rank(model, x, y, names, regression):\n",
    "    errors = []\n",
    "\n",
    "    for i in range(x.shape[1]):\n",
    "        hold = np.array(x[:, i])\n",
    "        np.random.shuffle(x[:, i])\n",
    "        \n",
    "        if regression:\n",
    "            pred = model.predict(x)\n",
    "            error = metrics.mean_absolute_error(y, pred)\n",
    "        else:\n",
    "            pred = model.predict_proba(x)\n",
    "            error = metrics.log_loss(y, pred)\n",
    "            \n",
    "        errors.append(error)\n",
    "        x[:, i] = hold\n",
    "        \n",
    "    max_error = np.max(errors)\n",
    "    importance = [e/max_error for e in errors]\n",
    "\n",
    "    data = {'name':names,'error':errors,'importance':importance}\n",
    "    result = pd.DataFrame(data, columns = ['name','error','importance'])\n",
    "    result.sort_values(by=['importance'], ascending=[0], inplace=True)\n",
    "    result.reset_index(inplace=True, drop=True)\n",
    "    return result"
   ]
  },
  {
   "cell_type": "markdown",
   "metadata": {},
   "source": [
    "# Ridge (Linear model)"
   ]
  },
  {
   "cell_type": "code",
   "execution_count": 7,
   "metadata": {},
   "outputs": [
    {
     "data": {
      "text/plain": [
       "Ridge(alpha=1.0, copy_X=True, fit_intercept=True, max_iter=None,\n",
       "      normalize=False, random_state=None, solver='auto', tol=0.001)"
      ]
     },
     "execution_count": 7,
     "metadata": {},
     "output_type": "execute_result"
    }
   ],
   "source": [
    "from sklearn.linear_model import Ridge\n",
    "\n",
    "model1 = Ridge()#LinearRegression()\n",
    "model1.fit (X_train, y_train)\n",
    "#pd.DataFrame(model0.coef_,X_train.columns,columns=['Coefficient'])"
   ]
  },
  {
   "cell_type": "code",
   "execution_count": 8,
   "metadata": {},
   "outputs": [
    {
     "name": "stdout",
     "output_type": "stream",
     "text": [
      "MAE:                 52.12427702629425\n",
      "RMSE:                75.29230625023492\n",
      "Percentual:          28.4510585835971 %\n"
     ]
    },
    {
     "data": {
      "image/png": "[encoded data removed]",
      "text/plain": [
       "<Figure size 432x288 with 1 Axes>"
      ]
     },
     "metadata": {
      "needs_background": "light"
     },
     "output_type": "display_data"
    }
   ],
   "source": [
    "y_hat = model1.predict(X_test)\n",
    "regression_report (y_hat, y_test)\n",
    "if FLAG_EXPORT:\n",
    "    plt.savefig('graph_error_1.svg', format='svg', dpi=1200)\n",
    "    with open('model1.joblib', 'wb') as file: dump(model1, file)\n"
   ]
  },
  {
   "cell_type": "markdown",
   "metadata": {},
   "source": [
    "# Extremey randomized trees"
   ]
  },
  {
   "cell_type": "code",
   "execution_count": 9,
   "metadata": {},
   "outputs": [],
   "source": [
    "from sklearn.ensemble import ExtraTreesRegressor"
   ]
  },
  {
   "cell_type": "code",
   "execution_count": 10,
   "metadata": {},
   "outputs": [],
   "source": [
    "if FLAG_DEBUG:\n",
    "    mae1 = {}\n",
    "    mae2 = {}\n",
    "    for k in range(1,25, 2):\n",
    "        model = ExtraTreesRegressor(max_depth=k, n_estimators=200, max_samples=0.9).fit(X_train,y_train)\n",
    "        y_hat = model.predict(X_train)\n",
    "        mae1[k] = metrics.mean_absolute_error(y_train,y_hat)\n",
    "        y_hat = model.predict(X_test)\n",
    "        mae2[k] = metrics.mean_absolute_error(y_test,y_hat)\n",
    "\n",
    "    plt.figure()\n",
    "    plt.plot(list(mae1.keys()), list(mae1.values()), label='Training dataset error')\n",
    "    plt.plot(list(mae2.keys()), list(mae2.values()), label='Validation dataset error')\n",
    "    plt.legend(loc='lower left')\n",
    "    plt.xlabel(\"Maximun height\")\n",
    "    plt.ylabel(\"MAE\")\n",
    "    plt.grid(True)"
   ]
  },
  {
   "cell_type": "code",
   "execution_count": 11,
   "metadata": {},
   "outputs": [],
   "source": [
    "if FLAG_DEBUG:\n",
    "    mae1 = {}\n",
    "    mae2 = {}\n",
    "    for k in range(2, 30, 1):\n",
    "        model = ExtraTreesRegressor(min_samples_split=k, n_estimators=k, max_samples=0.9).fit(X_train,y_train)\n",
    "        y_hat = model.predict(X_train)\n",
    "        mae1[k] = metrics.mean_absolute_error(y_train,y_hat)\n",
    "        y_hat = model.predict(X_test)\n",
    "        mae2[k] = metrics.mean_absolute_error(y_test,y_hat)\n",
    "\n",
    "    plt.figure()\n",
    "    plt.plot(list(mae1.keys()), list(mae1.values()), label='Training dataset error')\n",
    "    plt.plot(list(mae2.keys()), list(mae2.values()), label='Validation dataset error')\n",
    "    plt.legend(loc='lower left')\n",
    "    plt.xlabel(\"Maximun height\")\n",
    "    plt.ylabel(\"MAE\")\n",
    "    plt.grid(True)"
   ]
  },
  {
   "cell_type": "code",
   "execution_count": 12,
   "metadata": {},
   "outputs": [],
   "source": [
    "if FLAG_DEBUG:\n",
    "    mae1 = {}\n",
    "    mae2 = {}\n",
    "    for k in range(50,800, 50):\n",
    "        model = ExtraTreesRegressor(max_depth=12, n_estimators=k, max_samples=0.9).fit(X_train,y_train)\n",
    "        y_hat = model.predict(X_train)\n",
    "        mae1[k] = metrics.mean_absolute_error(y_train,y_hat)\n",
    "        y_hat = model.predict(X_test)\n",
    "        mae2[k] = metrics.mean_absolute_error(y_test,y_hat)\n",
    "\n",
    "    plt.figure()\n",
    "    plt.plot(list(mae1.keys()), list(mae1.values()), label='Training dataset error')\n",
    "    plt.plot(list(mae2.keys()), list(mae2.values()), label='Validation dataset error')\n",
    "    plt.legend(loc='lower left')\n",
    "    plt.xlabel(\"Maximun height\")\n",
    "    plt.ylabel(\"MAE\")\n",
    "    plt.grid(True)"
   ]
  },
  {
   "cell_type": "code",
   "execution_count": 13,
   "metadata": {},
   "outputs": [],
   "source": [
    "if FLAG_DEBUG:\n",
    "    mae1 = {}\n",
    "    mae2 = {}\n",
    "    for k in np.arange(.6, 1.0, .02):\n",
    "        model = ExtraTreesRegressor(min_samples_split=11,\n",
    "                                    n_estimators=150, \n",
    "                                    max_samples=k).fit(X_train,y_train)\n",
    "        y_hat = model.predict(X_train)\n",
    "        mae1[k] = metrics.mean_absolute_error(y_train,y_hat)\n",
    "        y_hat = model.predict(X_test)\n",
    "        mae2[k] = metrics.mean_absolute_error(y_test,y_hat)\n",
    "\n",
    "    plt.figure()\n",
    "    plt.plot(list(mae1.keys()), list(mae1.values()), label='Training dataset error')\n",
    "    plt.plot(list(mae2.keys()), list(mae2.values()), label='Validation dataset error')\n",
    "    plt.legend(loc='lower left')\n",
    "    plt.xlabel(\"Maximun height\")\n",
    "    plt.ylabel(\"MAE\")\n",
    "    plt.grid(True)"
   ]
  },
  {
   "cell_type": "code",
   "execution_count": 14,
   "metadata": {},
   "outputs": [
    {
     "name": "stdout",
     "output_type": "stream",
     "text": [
      "MAE:                 16.500183004575348\n",
      "RMSE:                28.764504430621216\n",
      "Percentual:          8.841183221421264 %\n"
     ]
    },
    {
     "data": {
      "image/png": "[encoded data removed]",
      "text/plain": [
       "<Figure size 432x288 with 1 Axes>"
      ]
     },
     "metadata": {
      "needs_background": "light"
     },
     "output_type": "display_data"
    }
   ],
   "source": [
    "model2 = ExtraTreesRegressor(min_samples_split=11,\n",
    "                             n_estimators=600,\n",
    "                             #max_features=(int)(X_train.shape[1]*k),\n",
    "                             max_samples=0.7)\n",
    "model2.fit(X_train,y_train)\n",
    "\n",
    "# TEST\n",
    "y_hat = model2.predict(X_test)\n",
    "regression_report (y_hat, y_test)\n",
    "if FLAG_EXPORT: \n",
    "    plt.savefig('graph_error_2.svg', format='svg', dpi=1200)\n",
    "    with open('model2.joblib', 'wb') as file: dump(model2, file)"
   ]
  },
  {
   "cell_type": "markdown",
   "metadata": {},
   "source": [
    "# Random Forest"
   ]
  },
  {
   "cell_type": "code",
   "execution_count": 15,
   "metadata": {},
   "outputs": [],
   "source": [
    "from sklearn.ensemble import RandomForestRegressor"
   ]
  },
  {
   "cell_type": "code",
   "execution_count": 16,
   "metadata": {},
   "outputs": [],
   "source": [
    "if FLAG_DEBUG:\n",
    "    mae1 = {}\n",
    "    mae2 = {}\n",
    "    for k in np.arange(2, 10, 1):\n",
    "        model = RandomForestRegressor(min_samples_split=k, \n",
    "                                    n_estimators=100, \n",
    "                                    max_samples=0.7).fit(X_train,y_train)\n",
    "        y_hat = model.predict(X_train)\n",
    "        mae1[k] = metrics.mean_absolute_error(y_train,y_hat)\n",
    "        y_hat = model.predict(X_test)\n",
    "        mae2[k] = metrics.mean_absolute_error(y_test,y_hat)\n",
    "\n",
    "    plt.figure()\n",
    "    plt.plot(list(mae1.keys()), list(mae1.values()), label='Training dataset error')\n",
    "    plt.plot(list(mae2.keys()), list(mae2.values()), label='Validation dataset error')\n",
    "    plt.legend(loc='lower left')\n",
    "    plt.xlabel(\"Maximun height\")\n",
    "    plt.ylabel(\"MAE\")\n",
    "    plt.grid(True)"
   ]
  },
  {
   "cell_type": "code",
   "execution_count": 17,
   "metadata": {},
   "outputs": [],
   "source": [
    "if FLAG_DEBUG:\n",
    "    mae1 = {}\n",
    "    mae2 = {}\n",
    "    for k in np.arange(1, 30, 2):\n",
    "        model = RandomForestRegressor(max_depth=k, \n",
    "                                    n_estimators=100, \n",
    "                                    max_samples=0.7).fit(X_train,y_train)\n",
    "        y_hat = model.predict(X_train)\n",
    "        mae1[k] = metrics.mean_absolute_error(y_train,y_hat)\n",
    "        y_hat = model.predict(X_test)\n",
    "        mae2[k] = metrics.mean_absolute_error(y_test,y_hat)\n",
    "\n",
    "    plt.figure()\n",
    "    plt.plot(list(mae1.keys()), list(mae1.values()), label='Training dataset error')\n",
    "    plt.plot(list(mae2.keys()), list(mae2.values()), label='Validation dataset error')\n",
    "    plt.legend(loc='lower left')\n",
    "    plt.xlabel(\"Maximun height\")\n",
    "    plt.ylabel(\"MAE\")\n",
    "    plt.grid(True)"
   ]
  },
  {
   "cell_type": "code",
   "execution_count": 18,
   "metadata": {},
   "outputs": [],
   "source": [
    "if FLAG_DEBUG:\n",
    "    mae1 = {}\n",
    "    mae2 = {}\n",
    "    for k in np.arange(.6, 1.0, .02):\n",
    "        model = RandomForestRegressor(max_depth=20, \n",
    "                                    n_estimators=100, \n",
    "                                    max_samples=k).fit(X_train,y_train)\n",
    "        y_hat = model.predict(X_train)\n",
    "        mae1[k] = metrics.mean_absolute_error(y_train,y_hat)\n",
    "        y_hat = model.predict(X_test)\n",
    "        mae2[k] = metrics.mean_absolute_error(y_test,y_hat)\n",
    "\n",
    "    plt.figure()\n",
    "    plt.plot(list(mae1.keys()), list(mae1.values()), label='Training dataset error')\n",
    "    plt.plot(list(mae2.keys()), list(mae2.values()), label='Validation dataset error')\n",
    "    plt.legend(loc='lower left')\n",
    "    plt.xlabel(\"Maximun height\")\n",
    "    plt.ylabel(\"MAE\")\n",
    "    plt.grid(True)"
   ]
  },
  {
   "cell_type": "code",
   "execution_count": 19,
   "metadata": {},
   "outputs": [
    {
     "name": "stdout",
     "output_type": "stream",
     "text": [
      "MAE:                 17.214017227455773\n",
      "RMSE:                30.414616534284875\n",
      "Percentual:          9.223672261237168 %\n"
     ]
    },
    {
     "data": {
      "image/png": "[encoded data removed]",
      "text/plain": [
       "<Figure size 432x288 with 1 Axes>"
      ]
     },
     "metadata": {
      "needs_background": "light"
     },
     "output_type": "display_data"
    }
   ],
   "source": [
    "# Train\n",
    "model3 = RandomForestRegressor(max_depth=20, n_estimators=600)#, max_features=(int)(X_train.shape[1]*1))\n",
    "model3.fit(X_train,y_train)\n",
    "\n",
    "# TEST\n",
    "y_hat = model3.predict(X_test)\n",
    "regression_report (y_hat, y_test)\n",
    "if FLAG_EXPORT: \n",
    "    plt.savefig('graph_error_3.svg', format='svg', dpi=1200)\n",
    "    with open('model3.joblib', 'wb') as file: dump(model3, file)"
   ]
  },
  {
   "cell_type": "markdown",
   "metadata": {},
   "source": [
    "# Gradient boosting machines\n"
   ]
  },
  {
   "cell_type": "code",
   "execution_count": 20,
   "metadata": {},
   "outputs": [],
   "source": [
    "from sklearn.ensemble import GradientBoostingRegressor"
   ]
  },
  {
   "cell_type": "code",
   "execution_count": 21,
   "metadata": {},
   "outputs": [],
   "source": [
    "if FLAG_DEBUG:\n",
    "    mae1 = {}\n",
    "    mae2 = {}\n",
    "    for k in np.arange(4, 12, 2):\n",
    "        model = GradientBoostingRegressor(max_depth=k,\n",
    "                                          loss='huber',\n",
    "\n",
    "                                    n_estimators=200).fit(X_train,y_train)\n",
    "        y_hat = model.predict(X_train)\n",
    "        mae1[k] = metrics.mean_absolute_error(y_train,y_hat)\n",
    "        y_hat = model.predict(X_test)\n",
    "        mae2[k] = metrics.mean_absolute_error(y_test,y_hat)\n",
    "\n",
    "    plt.figure()\n",
    "    plt.plot(list(mae1.keys()), list(mae1.values()), label='Training dataset error')\n",
    "    plt.plot(list(mae2.keys()), list(mae2.values()), label='Validation dataset error')\n",
    "    plt.legend(loc='lower left')\n",
    "    plt.xlabel(\"Maximun height\")\n",
    "    plt.ylabel(\"MAE\")\n",
    "    plt.grid(True)"
   ]
  },
  {
   "cell_type": "code",
   "execution_count": 22,
   "metadata": {},
   "outputs": [],
   "source": [
    "if FLAG_DEBUG:\n",
    "    nfolds = 2\n",
    "    param_grid = {\n",
    "        'loss': ['ls', 'lad', 'huber', 'quantile']\n",
    "    }\n",
    "    grid_search = GridSearchCV(\n",
    "        GradientBoostingRegressor (max_depth=8),\n",
    "        param_grid,\n",
    "        cv=nfolds,\n",
    "        verbose=0\n",
    "    )\n",
    "    grid_search.fit(X_train, y_train)\n",
    "    grid_search.best_params_"
   ]
  },
  {
   "cell_type": "code",
   "execution_count": 28,
   "metadata": {},
   "outputs": [
    {
     "ename": "NameError",
     "evalue": "name 'GradientBoostingRegressor' is not defined",
     "output_type": "error",
     "traceback": [
      "\u001b[0;31m---------------------------------------------------------------------------\u001b[0m",
      "\u001b[0;31mNameError\u001b[0m                                 Traceback (most recent call last)",
      "\u001b[0;32m<ipython-input-28-ce970b74ef1e>\u001b[0m in \u001b[0;36m<module>\u001b[0;34m\u001b[0m\n\u001b[0;32m----> 1\u001b[0;31m model4 = GradientBoostingRegressor(max_depth=8,\n\u001b[0m\u001b[1;32m      2\u001b[0m                                    loss='ls')\n\u001b[1;32m      3\u001b[0m \u001b[0mmodel4\u001b[0m\u001b[0;34m.\u001b[0m\u001b[0mfit\u001b[0m\u001b[0;34m(\u001b[0m\u001b[0mX_train\u001b[0m\u001b[0;34m,\u001b[0m\u001b[0my_train\u001b[0m\u001b[0;34m)\u001b[0m\u001b[0;34m\u001b[0m\u001b[0;34m\u001b[0m\u001b[0m\n\u001b[1;32m      4\u001b[0m \u001b[0;34m\u001b[0m\u001b[0m\n\u001b[1;32m      5\u001b[0m \u001b[0;31m# TEST\u001b[0m\u001b[0;34m\u001b[0m\u001b[0;34m\u001b[0m\u001b[0;34m\u001b[0m\u001b[0m\n",
      "\u001b[0;31mNameError\u001b[0m: name 'GradientBoostingRegressor' is not defined"
     ]
    }
   ],
   "source": [
    "model4 = GradientBoostingRegressor(max_depth=8,\n",
    "                                   loss='ls')\n",
    "model4.fit(X_train,y_train)\n",
    "\n",
    "# TEST\n",
    "y_hat = model4.predict(X_test)\n",
    "regression_report (y_hat, y_test)\n",
    "if FLAG_EXPORT: \n",
    "    plt.savefig('graph_error_4.svg', format='svg', dpi=1200)\n",
    "    with open('model4.joblib', 'wb') as file: dump(model4, file)"
   ]
  },
  {
   "cell_type": "markdown",
   "metadata": {},
   "source": [
    "# SVM\n",
    "* C defaut:1.  The strength of the regularization is inversely proportional to C\n",
    "* gamma default = scale = 1 / (n_features * X.var())"
   ]
  },
  {
   "cell_type": "code",
   "execution_count": 24,
   "metadata": {},
   "outputs": [],
   "source": [
    "from sklearn.svm import SVR"
   ]
  },
  {
   "cell_type": "code",
   "execution_count": 25,
   "metadata": {},
   "outputs": [],
   "source": [
    "if FLAG_DEBUG:\n",
    "    mae1 = {}\n",
    "    mae2 = {}\n",
    "    for k in np.arange(50, 1000, 50):\n",
    "        model = SVR(kernel='rbf',\n",
    "                C=k,\n",
    "                degree= 3,\n",
    "                epsilon=0.5,\n",
    "                gamma='scale',    \n",
    "                cache_size=1000).fit(X_train,y_train)\n",
    "        y_hat = model.predict(X_train)\n",
    "        mae1[k] = metrics.mean_absolute_error(y_train,y_hat)\n",
    "        y_hat = model.predict(X_test)\n",
    "        mae2[k] = metrics.mean_absolute_error(y_test,y_hat)\n",
    "\n",
    "    plt.figure()\n",
    "    plt.plot(list(mae1.keys()), list(mae1.values()), label='Training dataset error')\n",
    "    plt.plot(list(mae2.keys()), list(mae2.values()), label='Validation dataset error')\n",
    "    plt.legend(loc='lower left')\n",
    "    plt.xlabel(\"Maximun height\")\n",
    "    plt.ylabel(\"MAE\")\n",
    "    plt.grid(True)"
   ]
  },
  {
   "cell_type": "code",
   "execution_count": 26,
   "metadata": {},
   "outputs": [],
   "source": [
    "def svm_param_selection(X, y, nfolds):\n",
    "    param_grid = {\n",
    "        'C': [800], \n",
    "        'epsilon' : [0.4, 0.5, 0.6], \n",
    "        'kernel':['rbf']\n",
    "    }\n",
    "    grid_search = GridSearchCV(\n",
    "        SVR(cache_size=1000),\n",
    "        param_grid,\n",
    "        cv=nfolds,\n",
    "        verbose=2\n",
    "    )\n",
    "    grid_search.fit(X, y)\n",
    "    grid_search.best_params_\n",
    "    return grid_search.best_params_\n",
    "\n",
    "if FLAG_DEBUG:\n",
    "    res = svm_param_selection(X,y, 2)\n",
    "    res"
   ]
  },
  {
   "cell_type": "code",
   "execution_count": 27,
   "metadata": {},
   "outputs": [
    {
     "name": "stdout",
     "output_type": "stream",
     "text": [
      "MAE:                 19.14079467970524\n",
      "RMSE:                31.314511436616346\n",
      "Percentual:          10.256084597361994 %\n"
     ]
    },
    {
     "data": {
      "image/png": "[encoded data removed]",
      "text/plain": [
       "<Figure size 432x288 with 1 Axes>"
      ]
     },
     "metadata": {
      "needs_background": "light"
     },
     "output_type": "display_data"
    }
   ],
   "source": [
    "model5 = SVR(kernel='rbf',\n",
    "            C=800,\n",
    "            epsilon=0.5,\n",
    "            gamma='scale',    \n",
    "            cache_size=1000)\n",
    "model5.fit(X_train, y_train)\n",
    "\n",
    "\n",
    "y_hat = model5.predict(X_test)\n",
    "regression_report (y_hat, y_test)\n",
    "if FLAG_EXPORT: \n",
    "    plt.savefig('graph_error_5.svg', format='svg', dpi=1200)\n",
    "    with open('model5.joblib', 'wb') as file: dump(model5, file)"
   ]
  },
  {
   "cell_type": "markdown",
   "metadata": {},
   "source": [
    "# ANN\n",
    "* We wrap the model to allow compatibility with Scikitlearn"
   ]
  },
  {
   "cell_type": "code",
   "execution_count": 47,
   "metadata": {},
   "outputs": [],
   "source": [
    "import keras\n",
    "from keras import Sequential\n",
    "from keras.layers import Dropout, Dense\n",
    "from keras.wrappers.scikit_learn import KerasRegressor\n",
    "\n",
    "#utils\n",
    "from keras_tqdm import TQDMNotebookCallback\n",
    "from keras.models import save_model, load_model\n",
    "from keras.utils.vis_utils import plot_model"
   ]
  },
  {
   "cell_type": "code",
   "execution_count": 48,
   "metadata": {},
   "outputs": [
    {
     "data": {
      "application/vnd.jupyter.widget-view+json": {
       "model_id": "0d06dc2fd12e44718b19ac23ab67a5ba",
       "version_major": 2,
       "version_minor": 0
      },
      "text/plain": [
       "HBox(children=(FloatProgress(value=0.0, description='Training', style=ProgressStyle(description_width='initial…"
      ]
     },
     "metadata": {},
     "output_type": "display_data"
    },
    {
     "data": {
      "application/vnd.jupyter.widget-view+json": {
       "model_id": "",
       "version_major": 2,
       "version_minor": 0
      },
      "text/plain": [
       "HBox(children=(FloatProgress(value=0.0, description='Epoch 0', max=1800.0, style=ProgressStyle(description_wid…"
      ]
     },
     "metadata": {},
     "output_type": "display_data"
    },
    {
     "data": {
      "application/vnd.jupyter.widget-view+json": {
       "model_id": "",
       "version_major": 2,
       "version_minor": 0
      },
      "text/plain": [
       "HBox(children=(FloatProgress(value=0.0, description='Epoch 1', max=1800.0, style=ProgressStyle(description_wid…"
      ]
     },
     "metadata": {},
     "output_type": "display_data"
    },
    {
     "data": {
      "application/vnd.jupyter.widget-view+json": {
       "model_id": "",
       "version_major": 2,
       "version_minor": 0
      },
      "text/plain": [
       "HBox(children=(FloatProgress(value=0.0, description='Epoch 2', max=1800.0, style=ProgressStyle(description_wid…"
      ]
     },
     "metadata": {},
     "output_type": "display_data"
    },
    {
     "data": {
      "application/vnd.jupyter.widget-view+json": {
       "model_id": "",
       "version_major": 2,
       "version_minor": 0
      },
      "text/plain": [
       "HBox(children=(FloatProgress(value=0.0, description='Epoch 3', max=1800.0, style=ProgressStyle(description_wid…"
      ]
     },
     "metadata": {},
     "output_type": "display_data"
    },
    {
     "data": {
      "application/vnd.jupyter.widget-view+json": {
       "model_id": "",
       "version_major": 2,
       "version_minor": 0
      },
      "text/plain": [
       "HBox(children=(FloatProgress(value=0.0, description='Epoch 4', max=1800.0, style=ProgressStyle(description_wid…"
      ]
     },
     "metadata": {},
     "output_type": "display_data"
    },
    {
     "data": {
      "application/vnd.jupyter.widget-view+json": {
       "model_id": "",
       "version_major": 2,
       "version_minor": 0
      },
      "text/plain": [
       "HBox(children=(FloatProgress(value=0.0, description='Epoch 5', max=1800.0, style=ProgressStyle(description_wid…"
      ]
     },
     "metadata": {},
     "output_type": "display_data"
    },
    {
     "data": {
      "application/vnd.jupyter.widget-view+json": {
       "model_id": "",
       "version_major": 2,
       "version_minor": 0
      },
      "text/plain": [
       "HBox(children=(FloatProgress(value=0.0, description='Epoch 6', max=1800.0, style=ProgressStyle(description_wid…"
      ]
     },
     "metadata": {},
     "output_type": "display_data"
    },
    {
     "data": {
      "application/vnd.jupyter.widget-view+json": {
       "model_id": "",
       "version_major": 2,
       "version_minor": 0
      },
      "text/plain": [
       "HBox(children=(FloatProgress(value=0.0, description='Epoch 7', max=1800.0, style=ProgressStyle(description_wid…"
      ]
     },
     "metadata": {},
     "output_type": "display_data"
    },
    {
     "data": {
      "application/vnd.jupyter.widget-view+json": {
       "model_id": "",
       "version_major": 2,
       "version_minor": 0
      },
      "text/plain": [
       "HBox(children=(FloatProgress(value=0.0, description='Epoch 8', max=1800.0, style=ProgressStyle(description_wid…"
      ]
     },
     "metadata": {},
     "output_type": "display_data"
    },
    {
     "data": {
      "application/vnd.jupyter.widget-view+json": {
       "model_id": "",
       "version_major": 2,
       "version_minor": 0
      },
      "text/plain": [
       "HBox(children=(FloatProgress(value=0.0, description='Epoch 9', max=1800.0, style=ProgressStyle(description_wid…"
      ]
     },
     "metadata": {},
     "output_type": "display_data"
    },
    {
     "data": {
      "application/vnd.jupyter.widget-view+json": {
       "model_id": "",
       "version_major": 2,
       "version_minor": 0
      },
      "text/plain": [
       "HBox(children=(FloatProgress(value=0.0, description='Epoch 10', max=1800.0, style=ProgressStyle(description_wi…"
      ]
     },
     "metadata": {},
     "output_type": "display_data"
    },
    {
     "data": {
      "application/vnd.jupyter.widget-view+json": {
       "model_id": "",
       "version_major": 2,
       "version_minor": 0
      },
      "text/plain": [
       "HBox(children=(FloatProgress(value=0.0, description='Epoch 11', max=1800.0, style=ProgressStyle(description_wi…"
      ]
     },
     "metadata": {},
     "output_type": "display_data"
    },
    {
     "data": {
      "application/vnd.jupyter.widget-view+json": {
       "model_id": "",
       "version_major": 2,
       "version_minor": 0
      },
      "text/plain": [
       "HBox(children=(FloatProgress(value=0.0, description='Epoch 12', max=1800.0, style=ProgressStyle(description_wi…"
      ]
     },
     "metadata": {},
     "output_type": "display_data"
    },
    {
     "data": {
      "application/vnd.jupyter.widget-view+json": {
       "model_id": "",
       "version_major": 2,
       "version_minor": 0
      },
      "text/plain": [
       "HBox(children=(FloatProgress(value=0.0, description='Epoch 13', max=1800.0, style=ProgressStyle(description_wi…"
      ]
     },
     "metadata": {},
     "output_type": "display_data"
    },
    {
     "data": {
      "application/vnd.jupyter.widget-view+json": {
       "model_id": "",
       "version_major": 2,
       "version_minor": 0
      },
      "text/plain": [
       "HBox(children=(FloatProgress(value=0.0, description='Epoch 14', max=1800.0, style=ProgressStyle(description_wi…"
      ]
     },
     "metadata": {},
     "output_type": "display_data"
    },
    {
     "data": {
      "application/vnd.jupyter.widget-view+json": {
       "model_id": "",
       "version_major": 2,
       "version_minor": 0
      },
      "text/plain": [
       "HBox(children=(FloatProgress(value=0.0, description='Epoch 15', max=1800.0, style=ProgressStyle(description_wi…"
      ]
     },
     "metadata": {},
     "output_type": "display_data"
    },
    {
     "data": {
      "application/vnd.jupyter.widget-view+json": {
       "model_id": "",
       "version_major": 2,
       "version_minor": 0
      },
      "text/plain": [
       "HBox(children=(FloatProgress(value=0.0, description='Epoch 16', max=1800.0, style=ProgressStyle(description_wi…"
      ]
     },
     "metadata": {},
     "output_type": "display_data"
    },
    {
     "data": {
      "application/vnd.jupyter.widget-view+json": {
       "model_id": "",
       "version_major": 2,
       "version_minor": 0
      },
      "text/plain": [
       "HBox(children=(FloatProgress(value=0.0, description='Epoch 17', max=1800.0, style=ProgressStyle(description_wi…"
      ]
     },
     "metadata": {},
     "output_type": "display_data"
    },
    {
     "data": {
      "application/vnd.jupyter.widget-view+json": {
       "model_id": "",
       "version_major": 2,
       "version_minor": 0
      },
      "text/plain": [
       "HBox(children=(FloatProgress(value=0.0, description='Epoch 18', max=1800.0, style=ProgressStyle(description_wi…"
      ]
     },
     "metadata": {},
     "output_type": "display_data"
    },
    {
     "data": {
      "application/vnd.jupyter.widget-view+json": {
       "model_id": "",
       "version_major": 2,
       "version_minor": 0
      },
      "text/plain": [
       "HBox(children=(FloatProgress(value=0.0, description='Epoch 19', max=1800.0, style=ProgressStyle(description_wi…"
      ]
     },
     "metadata": {},
     "output_type": "display_data"
    },
    {
     "data": {
      "application/vnd.jupyter.widget-view+json": {
       "model_id": "",
       "version_major": 2,
       "version_minor": 0
      },
      "text/plain": [
       "HBox(children=(FloatProgress(value=0.0, description='Epoch 20', max=1800.0, style=ProgressStyle(description_wi…"
      ]
     },
     "metadata": {},
     "output_type": "display_data"
    },
    {
     "data": {
      "application/vnd.jupyter.widget-view+json": {
       "model_id": "",
       "version_major": 2,
       "version_minor": 0
      },
      "text/plain": [
       "HBox(children=(FloatProgress(value=0.0, description='Epoch 21', max=1800.0, style=ProgressStyle(description_wi…"
      ]
     },
     "metadata": {},
     "output_type": "display_data"
    },
    {
     "data": {
      "application/vnd.jupyter.widget-view+json": {
       "model_id": "",
       "version_major": 2,
       "version_minor": 0
      },
      "text/plain": [
       "HBox(children=(FloatProgress(value=0.0, description='Epoch 22', max=1800.0, style=ProgressStyle(description_wi…"
      ]
     },
     "metadata": {},
     "output_type": "display_data"
    },
    {
     "data": {
      "application/vnd.jupyter.widget-view+json": {
       "model_id": "",
       "version_major": 2,
       "version_minor": 0
      },
      "text/plain": [
       "HBox(children=(FloatProgress(value=0.0, description='Epoch 23', max=1800.0, style=ProgressStyle(description_wi…"
      ]
     },
     "metadata": {},
     "output_type": "display_data"
    },
    {
     "data": {
      "application/vnd.jupyter.widget-view+json": {
       "model_id": "",
       "version_major": 2,
       "version_minor": 0
      },
      "text/plain": [
       "HBox(children=(FloatProgress(value=0.0, description='Epoch 24', max=1800.0, style=ProgressStyle(description_wi…"
      ]
     },
     "metadata": {},
     "output_type": "display_data"
    },
    {
     "data": {
      "application/vnd.jupyter.widget-view+json": {
       "model_id": "",
       "version_major": 2,
       "version_minor": 0
      },
      "text/plain": [
       "HBox(children=(FloatProgress(value=0.0, description='Epoch 25', max=1800.0, style=ProgressStyle(description_wi…"
      ]
     },
     "metadata": {},
     "output_type": "display_data"
    },
    {
     "data": {
      "application/vnd.jupyter.widget-view+json": {
       "model_id": "",
       "version_major": 2,
       "version_minor": 0
      },
      "text/plain": [
       "HBox(children=(FloatProgress(value=0.0, description='Epoch 26', max=1800.0, style=ProgressStyle(description_wi…"
      ]
     },
     "metadata": {},
     "output_type": "display_data"
    },
    {
     "data": {
      "application/vnd.jupyter.widget-view+json": {
       "model_id": "",
       "version_major": 2,
       "version_minor": 0
      },
      "text/plain": [
       "HBox(children=(FloatProgress(value=0.0, description='Epoch 27', max=1800.0, style=ProgressStyle(description_wi…"
      ]
     },
     "metadata": {},
     "output_type": "display_data"
    },
    {
     "data": {
      "application/vnd.jupyter.widget-view+json": {
       "model_id": "",
       "version_major": 2,
       "version_minor": 0
      },
      "text/plain": [
       "HBox(children=(FloatProgress(value=0.0, description='Epoch 28', max=1800.0, style=ProgressStyle(description_wi…"
      ]
     },
     "metadata": {},
     "output_type": "display_data"
    },
    {
     "data": {
      "application/vnd.jupyter.widget-view+json": {
       "model_id": "",
       "version_major": 2,
       "version_minor": 0
      },
      "text/plain": [
       "HBox(children=(FloatProgress(value=0.0, description='Epoch 29', max=1800.0, style=ProgressStyle(description_wi…"
      ]
     },
     "metadata": {},
     "output_type": "display_data"
    },
    {
     "data": {
      "application/vnd.jupyter.widget-view+json": {
       "model_id": "",
       "version_major": 2,
       "version_minor": 0
      },
      "text/plain": [
       "HBox(children=(FloatProgress(value=0.0, description='Epoch 30', max=1800.0, style=ProgressStyle(description_wi…"
      ]
     },
     "metadata": {},
     "output_type": "display_data"
    },
    {
     "data": {
      "application/vnd.jupyter.widget-view+json": {
       "model_id": "",
       "version_major": 2,
       "version_minor": 0
      },
      "text/plain": [
       "HBox(children=(FloatProgress(value=0.0, description='Epoch 31', max=1800.0, style=ProgressStyle(description_wi…"
      ]
     },
     "metadata": {},
     "output_type": "display_data"
    },
    {
     "data": {
      "application/vnd.jupyter.widget-view+json": {
       "model_id": "",
       "version_major": 2,
       "version_minor": 0
      },
      "text/plain": [
       "HBox(children=(FloatProgress(value=0.0, description='Epoch 32', max=1800.0, style=ProgressStyle(description_wi…"
      ]
     },
     "metadata": {},
     "output_type": "display_data"
    },
    {
     "data": {
      "application/vnd.jupyter.widget-view+json": {
       "model_id": "",
       "version_major": 2,
       "version_minor": 0
      },
      "text/plain": [
       "HBox(children=(FloatProgress(value=0.0, description='Epoch 33', max=1800.0, style=ProgressStyle(description_wi…"
      ]
     },
     "metadata": {},
     "output_type": "display_data"
    },
    {
     "data": {
      "application/vnd.jupyter.widget-view+json": {
       "model_id": "",
       "version_major": 2,
       "version_minor": 0
      },
      "text/plain": [
       "HBox(children=(FloatProgress(value=0.0, description='Epoch 34', max=1800.0, style=ProgressStyle(description_wi…"
      ]
     },
     "metadata": {},
     "output_type": "display_data"
    },
    {
     "data": {
      "application/vnd.jupyter.widget-view+json": {
       "model_id": "",
       "version_major": 2,
       "version_minor": 0
      },
      "text/plain": [
       "HBox(children=(FloatProgress(value=0.0, description='Epoch 35', max=1800.0, style=ProgressStyle(description_wi…"
      ]
     },
     "metadata": {},
     "output_type": "display_data"
    },
    {
     "data": {
      "application/vnd.jupyter.widget-view+json": {
       "model_id": "",
       "version_major": 2,
       "version_minor": 0
      },
      "text/plain": [
       "HBox(children=(FloatProgress(value=0.0, description='Epoch 36', max=1800.0, style=ProgressStyle(description_wi…"
      ]
     },
     "metadata": {},
     "output_type": "display_data"
    },
    {
     "data": {
      "application/vnd.jupyter.widget-view+json": {
       "model_id": "",
       "version_major": 2,
       "version_minor": 0
      },
      "text/plain": [
       "HBox(children=(FloatProgress(value=0.0, description='Epoch 37', max=1800.0, style=ProgressStyle(description_wi…"
      ]
     },
     "metadata": {},
     "output_type": "display_data"
    },
    {
     "data": {
      "application/vnd.jupyter.widget-view+json": {
       "model_id": "",
       "version_major": 2,
       "version_minor": 0
      },
      "text/plain": [
       "HBox(children=(FloatProgress(value=0.0, description='Epoch 38', max=1800.0, style=ProgressStyle(description_wi…"
      ]
     },
     "metadata": {},
     "output_type": "display_data"
    },
    {
     "data": {
      "application/vnd.jupyter.widget-view+json": {
       "model_id": "",
       "version_major": 2,
       "version_minor": 0
      },
      "text/plain": [
       "HBox(children=(FloatProgress(value=0.0, description='Epoch 39', max=1800.0, style=ProgressStyle(description_wi…"
      ]
     },
     "metadata": {},
     "output_type": "display_data"
    },
    {
     "data": {
      "application/vnd.jupyter.widget-view+json": {
       "model_id": "",
       "version_major": 2,
       "version_minor": 0
      },
      "text/plain": [
       "HBox(children=(FloatProgress(value=0.0, description='Epoch 40', max=1800.0, style=ProgressStyle(description_wi…"
      ]
     },
     "metadata": {},
     "output_type": "display_data"
    },
    {
     "data": {
      "application/vnd.jupyter.widget-view+json": {
       "model_id": "",
       "version_major": 2,
       "version_minor": 0
      },
      "text/plain": [
       "HBox(children=(FloatProgress(value=0.0, description='Epoch 41', max=1800.0, style=ProgressStyle(description_wi…"
      ]
     },
     "metadata": {},
     "output_type": "display_data"
    },
    {
     "data": {
      "application/vnd.jupyter.widget-view+json": {
       "model_id": "",
       "version_major": 2,
       "version_minor": 0
      },
      "text/plain": [
       "HBox(children=(FloatProgress(value=0.0, description='Epoch 42', max=1800.0, style=ProgressStyle(description_wi…"
      ]
     },
     "metadata": {},
     "output_type": "display_data"
    },
    {
     "data": {
      "application/vnd.jupyter.widget-view+json": {
       "model_id": "",
       "version_major": 2,
       "version_minor": 0
      },
      "text/plain": [
       "HBox(children=(FloatProgress(value=0.0, description='Epoch 43', max=1800.0, style=ProgressStyle(description_wi…"
      ]
     },
     "metadata": {},
     "output_type": "display_data"
    },
    {
     "data": {
      "application/vnd.jupyter.widget-view+json": {
       "model_id": "",
       "version_major": 2,
       "version_minor": 0
      },
      "text/plain": [
       "HBox(children=(FloatProgress(value=0.0, description='Epoch 44', max=1800.0, style=ProgressStyle(description_wi…"
      ]
     },
     "metadata": {},
     "output_type": "display_data"
    },
    {
     "data": {
      "application/vnd.jupyter.widget-view+json": {
       "model_id": "",
       "version_major": 2,
       "version_minor": 0
      },
      "text/plain": [
       "HBox(children=(FloatProgress(value=0.0, description='Epoch 45', max=1800.0, style=ProgressStyle(description_wi…"
      ]
     },
     "metadata": {},
     "output_type": "display_data"
    },
    {
     "data": {
      "application/vnd.jupyter.widget-view+json": {
       "model_id": "",
       "version_major": 2,
       "version_minor": 0
      },
      "text/plain": [
       "HBox(children=(FloatProgress(value=0.0, description='Epoch 46', max=1800.0, style=ProgressStyle(description_wi…"
      ]
     },
     "metadata": {},
     "output_type": "display_data"
    },
    {
     "data": {
      "application/vnd.jupyter.widget-view+json": {
       "model_id": "",
       "version_major": 2,
       "version_minor": 0
      },
      "text/plain": [
       "HBox(children=(FloatProgress(value=0.0, description='Epoch 47', max=1800.0, style=ProgressStyle(description_wi…"
      ]
     },
     "metadata": {},
     "output_type": "display_data"
    },
    {
     "data": {
      "application/vnd.jupyter.widget-view+json": {
       "model_id": "",
       "version_major": 2,
       "version_minor": 0
      },
      "text/plain": [
       "HBox(children=(FloatProgress(value=0.0, description='Epoch 48', max=1800.0, style=ProgressStyle(description_wi…"
      ]
     },
     "metadata": {},
     "output_type": "display_data"
    },
    {
     "data": {
      "application/vnd.jupyter.widget-view+json": {
       "model_id": "",
       "version_major": 2,
       "version_minor": 0
      },
      "text/plain": [
       "HBox(children=(FloatProgress(value=0.0, description='Epoch 49', max=1800.0, style=ProgressStyle(description_wi…"
      ]
     },
     "metadata": {},
     "output_type": "display_data"
    },
    {
     "data": {
      "application/vnd.jupyter.widget-view+json": {
       "model_id": "",
       "version_major": 2,
       "version_minor": 0
      },
      "text/plain": [
       "HBox(children=(FloatProgress(value=0.0, description='Epoch 50', max=1800.0, style=ProgressStyle(description_wi…"
      ]
     },
     "metadata": {},
     "output_type": "display_data"
    },
    {
     "data": {
      "application/vnd.jupyter.widget-view+json": {
       "model_id": "",
       "version_major": 2,
       "version_minor": 0
      },
      "text/plain": [
       "HBox(children=(FloatProgress(value=0.0, description='Epoch 51', max=1800.0, style=ProgressStyle(description_wi…"
      ]
     },
     "metadata": {},
     "output_type": "display_data"
    },
    {
     "data": {
      "application/vnd.jupyter.widget-view+json": {
       "model_id": "",
       "version_major": 2,
       "version_minor": 0
      },
      "text/plain": [
       "HBox(children=(FloatProgress(value=0.0, description='Epoch 52', max=1800.0, style=ProgressStyle(description_wi…"
      ]
     },
     "metadata": {},
     "output_type": "display_data"
    },
    {
     "data": {
      "application/vnd.jupyter.widget-view+json": {
       "model_id": "",
       "version_major": 2,
       "version_minor": 0
      },
      "text/plain": [
       "HBox(children=(FloatProgress(value=0.0, description='Epoch 53', max=1800.0, style=ProgressStyle(description_wi…"
      ]
     },
     "metadata": {},
     "output_type": "display_data"
    },
    {
     "data": {
      "application/vnd.jupyter.widget-view+json": {
       "model_id": "",
       "version_major": 2,
       "version_minor": 0
      },
      "text/plain": [
       "HBox(children=(FloatProgress(value=0.0, description='Epoch 54', max=1800.0, style=ProgressStyle(description_wi…"
      ]
     },
     "metadata": {},
     "output_type": "display_data"
    },
    {
     "data": {
      "application/vnd.jupyter.widget-view+json": {
       "model_id": "",
       "version_major": 2,
       "version_minor": 0
      },
      "text/plain": [
       "HBox(children=(FloatProgress(value=0.0, description='Epoch 55', max=1800.0, style=ProgressStyle(description_wi…"
      ]
     },
     "metadata": {},
     "output_type": "display_data"
    },
    {
     "data": {
      "application/vnd.jupyter.widget-view+json": {
       "model_id": "",
       "version_major": 2,
       "version_minor": 0
      },
      "text/plain": [
       "HBox(children=(FloatProgress(value=0.0, description='Epoch 56', max=1800.0, style=ProgressStyle(description_wi…"
      ]
     },
     "metadata": {},
     "output_type": "display_data"
    },
    {
     "data": {
      "application/vnd.jupyter.widget-view+json": {
       "model_id": "",
       "version_major": 2,
       "version_minor": 0
      },
      "text/plain": [
       "HBox(children=(FloatProgress(value=0.0, description='Epoch 57', max=1800.0, style=ProgressStyle(description_wi…"
      ]
     },
     "metadata": {},
     "output_type": "display_data"
    },
    {
     "data": {
      "application/vnd.jupyter.widget-view+json": {
       "model_id": "",
       "version_major": 2,
       "version_minor": 0
      },
      "text/plain": [
       "HBox(children=(FloatProgress(value=0.0, description='Epoch 58', max=1800.0, style=ProgressStyle(description_wi…"
      ]
     },
     "metadata": {},
     "output_type": "display_data"
    },
    {
     "data": {
      "application/vnd.jupyter.widget-view+json": {
       "model_id": "",
       "version_major": 2,
       "version_minor": 0
      },
      "text/plain": [
       "HBox(children=(FloatProgress(value=0.0, description='Epoch 59', max=1800.0, style=ProgressStyle(description_wi…"
      ]
     },
     "metadata": {},
     "output_type": "display_data"
    },
    {
     "data": {
      "application/vnd.jupyter.widget-view+json": {
       "model_id": "",
       "version_major": 2,
       "version_minor": 0
      },
      "text/plain": [
       "HBox(children=(FloatProgress(value=0.0, description='Epoch 60', max=1800.0, style=ProgressStyle(description_wi…"
      ]
     },
     "metadata": {},
     "output_type": "display_data"
    },
    {
     "data": {
      "application/vnd.jupyter.widget-view+json": {
       "model_id": "",
       "version_major": 2,
       "version_minor": 0
      },
      "text/plain": [
       "HBox(children=(FloatProgress(value=0.0, description='Epoch 61', max=1800.0, style=ProgressStyle(description_wi…"
      ]
     },
     "metadata": {},
     "output_type": "display_data"
    },
    {
     "data": {
      "application/vnd.jupyter.widget-view+json": {
       "model_id": "",
       "version_major": 2,
       "version_minor": 0
      },
      "text/plain": [
       "HBox(children=(FloatProgress(value=0.0, description='Epoch 62', max=1800.0, style=ProgressStyle(description_wi…"
      ]
     },
     "metadata": {},
     "output_type": "display_data"
    },
    {
     "data": {
      "application/vnd.jupyter.widget-view+json": {
       "model_id": "",
       "version_major": 2,
       "version_minor": 0
      },
      "text/plain": [
       "HBox(children=(FloatProgress(value=0.0, description='Epoch 63', max=1800.0, style=ProgressStyle(description_wi…"
      ]
     },
     "metadata": {},
     "output_type": "display_data"
    },
    {
     "data": {
      "application/vnd.jupyter.widget-view+json": {
       "model_id": "",
       "version_major": 2,
       "version_minor": 0
      },
      "text/plain": [
       "HBox(children=(FloatProgress(value=0.0, description='Epoch 64', max=1800.0, style=ProgressStyle(description_wi…"
      ]
     },
     "metadata": {},
     "output_type": "display_data"
    },
    {
     "data": {
      "application/vnd.jupyter.widget-view+json": {
       "model_id": "",
       "version_major": 2,
       "version_minor": 0
      },
      "text/plain": [
       "HBox(children=(FloatProgress(value=0.0, description='Epoch 65', max=1800.0, style=ProgressStyle(description_wi…"
      ]
     },
     "metadata": {},
     "output_type": "display_data"
    },
    {
     "data": {
      "application/vnd.jupyter.widget-view+json": {
       "model_id": "",
       "version_major": 2,
       "version_minor": 0
      },
      "text/plain": [
       "HBox(children=(FloatProgress(value=0.0, description='Epoch 66', max=1800.0, style=ProgressStyle(description_wi…"
      ]
     },
     "metadata": {},
     "output_type": "display_data"
    },
    {
     "data": {
      "application/vnd.jupyter.widget-view+json": {
       "model_id": "",
       "version_major": 2,
       "version_minor": 0
      },
      "text/plain": [
       "HBox(children=(FloatProgress(value=0.0, description='Epoch 67', max=1800.0, style=ProgressStyle(description_wi…"
      ]
     },
     "metadata": {},
     "output_type": "display_data"
    },
    {
     "data": {
      "application/vnd.jupyter.widget-view+json": {
       "model_id": "",
       "version_major": 2,
       "version_minor": 0
      },
      "text/plain": [
       "HBox(children=(FloatProgress(value=0.0, description='Epoch 68', max=1800.0, style=ProgressStyle(description_wi…"
      ]
     },
     "metadata": {},
     "output_type": "display_data"
    },
    {
     "data": {
      "application/vnd.jupyter.widget-view+json": {
       "model_id": "",
       "version_major": 2,
       "version_minor": 0
      },
      "text/plain": [
       "HBox(children=(FloatProgress(value=0.0, description='Epoch 69', max=1800.0, style=ProgressStyle(description_wi…"
      ]
     },
     "metadata": {},
     "output_type": "display_data"
    },
    {
     "data": {
      "application/vnd.jupyter.widget-view+json": {
       "model_id": "",
       "version_major": 2,
       "version_minor": 0
      },
      "text/plain": [
       "HBox(children=(FloatProgress(value=0.0, description='Epoch 70', max=1800.0, style=ProgressStyle(description_wi…"
      ]
     },
     "metadata": {},
     "output_type": "display_data"
    },
    {
     "data": {
      "application/vnd.jupyter.widget-view+json": {
       "model_id": "",
       "version_major": 2,
       "version_minor": 0
      },
      "text/plain": [
       "HBox(children=(FloatProgress(value=0.0, description='Epoch 71', max=1800.0, style=ProgressStyle(description_wi…"
      ]
     },
     "metadata": {},
     "output_type": "display_data"
    },
    {
     "data": {
      "application/vnd.jupyter.widget-view+json": {
       "model_id": "",
       "version_major": 2,
       "version_minor": 0
      },
      "text/plain": [
       "HBox(children=(FloatProgress(value=0.0, description='Epoch 72', max=1800.0, style=ProgressStyle(description_wi…"
      ]
     },
     "metadata": {},
     "output_type": "display_data"
    },
    {
     "data": {
      "application/vnd.jupyter.widget-view+json": {
       "model_id": "",
       "version_major": 2,
       "version_minor": 0
      },
      "text/plain": [
       "HBox(children=(FloatProgress(value=0.0, description='Epoch 73', max=1800.0, style=ProgressStyle(description_wi…"
      ]
     },
     "metadata": {},
     "output_type": "display_data"
    },
    {
     "data": {
      "application/vnd.jupyter.widget-view+json": {
       "model_id": "",
       "version_major": 2,
       "version_minor": 0
      },
      "text/plain": [
       "HBox(children=(FloatProgress(value=0.0, description='Epoch 74', max=1800.0, style=ProgressStyle(description_wi…"
      ]
     },
     "metadata": {},
     "output_type": "display_data"
    },
    {
     "data": {
      "application/vnd.jupyter.widget-view+json": {
       "model_id": "",
       "version_major": 2,
       "version_minor": 0
      },
      "text/plain": [
       "HBox(children=(FloatProgress(value=0.0, description='Epoch 75', max=1800.0, style=ProgressStyle(description_wi…"
      ]
     },
     "metadata": {},
     "output_type": "display_data"
    },
    {
     "data": {
      "application/vnd.jupyter.widget-view+json": {
       "model_id": "",
       "version_major": 2,
       "version_minor": 0
      },
      "text/plain": [
       "HBox(children=(FloatProgress(value=0.0, description='Epoch 76', max=1800.0, style=ProgressStyle(description_wi…"
      ]
     },
     "metadata": {},
     "output_type": "display_data"
    },
    {
     "data": {
      "application/vnd.jupyter.widget-view+json": {
       "model_id": "",
       "version_major": 2,
       "version_minor": 0
      },
      "text/plain": [
       "HBox(children=(FloatProgress(value=0.0, description='Epoch 77', max=1800.0, style=ProgressStyle(description_wi…"
      ]
     },
     "metadata": {},
     "output_type": "display_data"
    },
    {
     "data": {
      "application/vnd.jupyter.widget-view+json": {
       "model_id": "",
       "version_major": 2,
       "version_minor": 0
      },
      "text/plain": [
       "HBox(children=(FloatProgress(value=0.0, description='Epoch 78', max=1800.0, style=ProgressStyle(description_wi…"
      ]
     },
     "metadata": {},
     "output_type": "display_data"
    },
    {
     "data": {
      "application/vnd.jupyter.widget-view+json": {
       "model_id": "",
       "version_major": 2,
       "version_minor": 0
      },
      "text/plain": [
       "HBox(children=(FloatProgress(value=0.0, description='Epoch 79', max=1800.0, style=ProgressStyle(description_wi…"
      ]
     },
     "metadata": {},
     "output_type": "display_data"
    },
    {
     "data": {
      "application/vnd.jupyter.widget-view+json": {
       "model_id": "",
       "version_major": 2,
       "version_minor": 0
      },
      "text/plain": [
       "HBox(children=(FloatProgress(value=0.0, description='Epoch 80', max=1800.0, style=ProgressStyle(description_wi…"
      ]
     },
     "metadata": {},
     "output_type": "display_data"
    },
    {
     "data": {
      "application/vnd.jupyter.widget-view+json": {
       "model_id": "",
       "version_major": 2,
       "version_minor": 0
      },
      "text/plain": [
       "HBox(children=(FloatProgress(value=0.0, description='Epoch 81', max=1800.0, style=ProgressStyle(description_wi…"
      ]
     },
     "metadata": {},
     "output_type": "display_data"
    },
    {
     "data": {
      "application/vnd.jupyter.widget-view+json": {
       "model_id": "",
       "version_major": 2,
       "version_minor": 0
      },
      "text/plain": [
       "HBox(children=(FloatProgress(value=0.0, description='Epoch 82', max=1800.0, style=ProgressStyle(description_wi…"
      ]
     },
     "metadata": {},
     "output_type": "display_data"
    },
    {
     "data": {
      "application/vnd.jupyter.widget-view+json": {
       "model_id": "",
       "version_major": 2,
       "version_minor": 0
      },
      "text/plain": [
       "HBox(children=(FloatProgress(value=0.0, description='Epoch 83', max=1800.0, style=ProgressStyle(description_wi…"
      ]
     },
     "metadata": {},
     "output_type": "display_data"
    },
    {
     "data": {
      "application/vnd.jupyter.widget-view+json": {
       "model_id": "",
       "version_major": 2,
       "version_minor": 0
      },
      "text/plain": [
       "HBox(children=(FloatProgress(value=0.0, description='Epoch 84', max=1800.0, style=ProgressStyle(description_wi…"
      ]
     },
     "metadata": {},
     "output_type": "display_data"
    },
    {
     "data": {
      "application/vnd.jupyter.widget-view+json": {
       "model_id": "",
       "version_major": 2,
       "version_minor": 0
      },
      "text/plain": [
       "HBox(children=(FloatProgress(value=0.0, description='Epoch 85', max=1800.0, style=ProgressStyle(description_wi…"
      ]
     },
     "metadata": {},
     "output_type": "display_data"
    },
    {
     "data": {
      "application/vnd.jupyter.widget-view+json": {
       "model_id": "",
       "version_major": 2,
       "version_minor": 0
      },
      "text/plain": [
       "HBox(children=(FloatProgress(value=0.0, description='Epoch 86', max=1800.0, style=ProgressStyle(description_wi…"
      ]
     },
     "metadata": {},
     "output_type": "display_data"
    },
    {
     "data": {
      "application/vnd.jupyter.widget-view+json": {
       "model_id": "",
       "version_major": 2,
       "version_minor": 0
      },
      "text/plain": [
       "HBox(children=(FloatProgress(value=0.0, description='Epoch 87', max=1800.0, style=ProgressStyle(description_wi…"
      ]
     },
     "metadata": {},
     "output_type": "display_data"
    },
    {
     "data": {
      "application/vnd.jupyter.widget-view+json": {
       "model_id": "",
       "version_major": 2,
       "version_minor": 0
      },
      "text/plain": [
       "HBox(children=(FloatProgress(value=0.0, description='Epoch 88', max=1800.0, style=ProgressStyle(description_wi…"
      ]
     },
     "metadata": {},
     "output_type": "display_data"
    },
    {
     "data": {
      "application/vnd.jupyter.widget-view+json": {
       "model_id": "",
       "version_major": 2,
       "version_minor": 0
      },
      "text/plain": [
       "HBox(children=(FloatProgress(value=0.0, description='Epoch 89', max=1800.0, style=ProgressStyle(description_wi…"
      ]
     },
     "metadata": {},
     "output_type": "display_data"
    },
    {
     "data": {
      "application/vnd.jupyter.widget-view+json": {
       "model_id": "",
       "version_major": 2,
       "version_minor": 0
      },
      "text/plain": [
       "HBox(children=(FloatProgress(value=0.0, description='Epoch 90', max=1800.0, style=ProgressStyle(description_wi…"
      ]
     },
     "metadata": {},
     "output_type": "display_data"
    },
    {
     "data": {
      "application/vnd.jupyter.widget-view+json": {
       "model_id": "",
       "version_major": 2,
       "version_minor": 0
      },
      "text/plain": [
       "HBox(children=(FloatProgress(value=0.0, description='Epoch 91', max=1800.0, style=ProgressStyle(description_wi…"
      ]
     },
     "metadata": {},
     "output_type": "display_data"
    },
    {
     "data": {
      "application/vnd.jupyter.widget-view+json": {
       "model_id": "",
       "version_major": 2,
       "version_minor": 0
      },
      "text/plain": [
       "HBox(children=(FloatProgress(value=0.0, description='Epoch 92', max=1800.0, style=ProgressStyle(description_wi…"
      ]
     },
     "metadata": {},
     "output_type": "display_data"
    },
    {
     "data": {
      "application/vnd.jupyter.widget-view+json": {
       "model_id": "",
       "version_major": 2,
       "version_minor": 0
      },
      "text/plain": [
       "HBox(children=(FloatProgress(value=0.0, description='Epoch 93', max=1800.0, style=ProgressStyle(description_wi…"
      ]
     },
     "metadata": {},
     "output_type": "display_data"
    },
    {
     "data": {
      "application/vnd.jupyter.widget-view+json": {
       "model_id": "",
       "version_major": 2,
       "version_minor": 0
      },
      "text/plain": [
       "HBox(children=(FloatProgress(value=0.0, description='Epoch 94', max=1800.0, style=ProgressStyle(description_wi…"
      ]
     },
     "metadata": {},
     "output_type": "display_data"
    },
    {
     "data": {
      "application/vnd.jupyter.widget-view+json": {
       "model_id": "",
       "version_major": 2,
       "version_minor": 0
      },
      "text/plain": [
       "HBox(children=(FloatProgress(value=0.0, description='Epoch 95', max=1800.0, style=ProgressStyle(description_wi…"
      ]
     },
     "metadata": {},
     "output_type": "display_data"
    },
    {
     "data": {
      "application/vnd.jupyter.widget-view+json": {
       "model_id": "",
       "version_major": 2,
       "version_minor": 0
      },
      "text/plain": [
       "HBox(children=(FloatProgress(value=0.0, description='Epoch 96', max=1800.0, style=ProgressStyle(description_wi…"
      ]
     },
     "metadata": {},
     "output_type": "display_data"
    },
    {
     "data": {
      "application/vnd.jupyter.widget-view+json": {
       "model_id": "",
       "version_major": 2,
       "version_minor": 0
      },
      "text/plain": [
       "HBox(children=(FloatProgress(value=0.0, description='Epoch 97', max=1800.0, style=ProgressStyle(description_wi…"
      ]
     },
     "metadata": {},
     "output_type": "display_data"
    },
    {
     "data": {
      "application/vnd.jupyter.widget-view+json": {
       "model_id": "",
       "version_major": 2,
       "version_minor": 0
      },
      "text/plain": [
       "HBox(children=(FloatProgress(value=0.0, description='Epoch 98', max=1800.0, style=ProgressStyle(description_wi…"
      ]
     },
     "metadata": {},
     "output_type": "display_data"
    },
    {
     "data": {
      "application/vnd.jupyter.widget-view+json": {
       "model_id": "",
       "version_major": 2,
       "version_minor": 0
      },
      "text/plain": [
       "HBox(children=(FloatProgress(value=0.0, description='Epoch 99', max=1800.0, style=ProgressStyle(description_wi…"
      ]
     },
     "metadata": {},
     "output_type": "display_data"
    },
    {
     "name": "stdout",
     "output_type": "stream",
     "text": [
      "\n"
     ]
    },
    {
     "data": {
      "text/plain": [
       "<matplotlib.legend.Legend at 0x7f9ca5920278>"
      ]
     },
     "execution_count": 48,
     "metadata": {},
     "output_type": "execute_result"
    },
    {
     "data": {
      "image/png": "[encoded data removed]",
      "text/plain": [
       "<Figure size 432x288 with 1 Axes>"
      ]
     },
     "metadata": {
      "needs_background": "light"
     },
     "output_type": "display_data"
    }
   ],
   "source": [
    "# create a function that returns a model, taking as parameters things you\n",
    "# want to verify using cross-valdiation and model selection\n",
    "def create_model():\n",
    "    model = Sequential()\n",
    "    model.add(Dense(100,activation='relu', input_dim=X_train.shape[1]))\n",
    "    model.add(Dropout(0.2))\n",
    "    model.add(Dense(100,activation='relu'))\n",
    "    model.add(Dropout(0.2))\n",
    "    model.add(Dense(40,activation='relu'))\n",
    "    model.add(Dropout(0.2))\n",
    "    model.add(Dense(20,activation='relu'))\n",
    "    model.add(Dropout(0.2))\n",
    "    model.add(Dense(1, activation='linear'))\n",
    "    \n",
    "    model.compile(loss='mae',optimizer='adam', metrics=['mae'])\n",
    "\n",
    "    return model\n",
    "\n",
    "# wrap the model using the function you created\n",
    "model6 = create_model()#KerasRegressor(build_fn=create_model,verbose=0)\n",
    "\n",
    "# train\n",
    "history = model6.fit(X_train, y_train, epochs=100, verbose=0, batch_size=16, validation_split = 0.1,\n",
    "                    callbacks=[TQDMNotebookCallback()])\n",
    "\n",
    "hist = pd.DataFrame(history.history)\n",
    "hist['epoch'] = history.epoch\n",
    "\n",
    "plt.figure()\n",
    "plt.xlabel('Epoch')\n",
    "plt.ylabel('Mean Square Error')\n",
    "plt.plot(hist['epoch'], hist['mean_absolute_error'], label='Train MAE')\n",
    "plt.plot(hist['epoch'], hist['val_mean_absolute_error'], label = 'Val MAE')\n",
    "plt.legend()\n",
    "#plt.ylim([0,50])"
   ]
  },
  {
   "cell_type": "code",
   "execution_count": 49,
   "metadata": {},
   "outputs": [
    {
     "name": "stdout",
     "output_type": "stream",
     "text": [
      "MAE:                 17.83666545094228\n",
      "RMSE:                30.881446382374858\n",
      "Percentual:          9.575807311690902 %\n"
     ]
    },
    {
     "data": {
      "image/png": "[encoded data removed]",
      "text/plain": [
       "<Figure size 432x288 with 1 Axes>"
      ]
     },
     "metadata": {
      "needs_background": "light"
     },
     "output_type": "display_data"
    }
   ],
   "source": [
    "y_hat = model6.predict(X_test)#[:, 0]\n",
    "regression_report (y_hat.reshape(len(y_hat)), y_test)\n",
    "if FLAG_EXPORT: \n",
    "    plt.savefig('graph_error_6.svg', format='svg', dpi=1200)\n",
    "    save_model(model6, 'model6.h5')\n",
    "    \n",
    "    with open('ANN_model_summary.txt', 'w') as file: \n",
    "        model6.summary(print_fn=lambda line: file.write(line+'\\n'))\n",
    "    plot_model(model6, to_file='ANN_model_plot.png', \n",
    "           show_shapes=True, \n",
    "           show_layer_names=True)"
   ]
  },
  {
   "cell_type": "markdown",
   "metadata": {},
   "source": [
    "# Ensemble"
   ]
  },
  {
   "cell_type": "code",
   "execution_count": 7,
   "metadata": {},
   "outputs": [
    {
     "name": "stderr",
     "output_type": "stream",
     "text": [
      "Using TensorFlow backend.\n",
      "/usr/local/lib/python3.6/dist-packages/tensorflow/python/framework/dtypes.py:516: FutureWarning: Passing (type, 1) or '1type' as a synonym of type is deprecated; in a future version of numpy, it will be understood as (type, (1,)) / '(1,)type'.\n",
      "  _np_qint8 = np.dtype([(\"qint8\", np.int8, 1)])\n",
      "/usr/local/lib/python3.6/dist-packages/tensorflow/python/framework/dtypes.py:517: FutureWarning: Passing (type, 1) or '1type' as a synonym of type is deprecated; in a future version of numpy, it will be understood as (type, (1,)) / '(1,)type'.\n",
      "  _np_quint8 = np.dtype([(\"quint8\", np.uint8, 1)])\n",
      "/usr/local/lib/python3.6/dist-packages/tensorflow/python/framework/dtypes.py:518: FutureWarning: Passing (type, 1) or '1type' as a synonym of type is deprecated; in a future version of numpy, it will be understood as (type, (1,)) / '(1,)type'.\n",
      "  _np_qint16 = np.dtype([(\"qint16\", np.int16, 1)])\n",
      "/usr/local/lib/python3.6/dist-packages/tensorflow/python/framework/dtypes.py:519: FutureWarning: Passing (type, 1) or '1type' as a synonym of type is deprecated; in a future version of numpy, it will be understood as (type, (1,)) / '(1,)type'.\n",
      "  _np_quint16 = np.dtype([(\"quint16\", np.uint16, 1)])\n",
      "/usr/local/lib/python3.6/dist-packages/tensorflow/python/framework/dtypes.py:520: FutureWarning: Passing (type, 1) or '1type' as a synonym of type is deprecated; in a future version of numpy, it will be understood as (type, (1,)) / '(1,)type'.\n",
      "  _np_qint32 = np.dtype([(\"qint32\", np.int32, 1)])\n",
      "/usr/local/lib/python3.6/dist-packages/tensorflow/python/framework/dtypes.py:525: FutureWarning: Passing (type, 1) or '1type' as a synonym of type is deprecated; in a future version of numpy, it will be understood as (type, (1,)) / '(1,)type'.\n",
      "  np_resource = np.dtype([(\"resource\", np.ubyte, 1)])\n",
      "/usr/local/lib/python3.6/dist-packages/tensorboard/compat/tensorflow_stub/dtypes.py:541: FutureWarning: Passing (type, 1) or '1type' as a synonym of type is deprecated; in a future version of numpy, it will be understood as (type, (1,)) / '(1,)type'.\n",
      "  _np_qint8 = np.dtype([(\"qint8\", np.int8, 1)])\n",
      "/usr/local/lib/python3.6/dist-packages/tensorboard/compat/tensorflow_stub/dtypes.py:542: FutureWarning: Passing (type, 1) or '1type' as a synonym of type is deprecated; in a future version of numpy, it will be understood as (type, (1,)) / '(1,)type'.\n",
      "  _np_quint8 = np.dtype([(\"quint8\", np.uint8, 1)])\n",
      "/usr/local/lib/python3.6/dist-packages/tensorboard/compat/tensorflow_stub/dtypes.py:543: FutureWarning: Passing (type, 1) or '1type' as a synonym of type is deprecated; in a future version of numpy, it will be understood as (type, (1,)) / '(1,)type'.\n",
      "  _np_qint16 = np.dtype([(\"qint16\", np.int16, 1)])\n",
      "/usr/local/lib/python3.6/dist-packages/tensorboard/compat/tensorflow_stub/dtypes.py:544: FutureWarning: Passing (type, 1) or '1type' as a synonym of type is deprecated; in a future version of numpy, it will be understood as (type, (1,)) / '(1,)type'.\n",
      "  _np_quint16 = np.dtype([(\"quint16\", np.uint16, 1)])\n",
      "/usr/local/lib/python3.6/dist-packages/tensorboard/compat/tensorflow_stub/dtypes.py:545: FutureWarning: Passing (type, 1) or '1type' as a synonym of type is deprecated; in a future version of numpy, it will be understood as (type, (1,)) / '(1,)type'.\n",
      "  _np_qint32 = np.dtype([(\"qint32\", np.int32, 1)])\n",
      "/usr/local/lib/python3.6/dist-packages/tensorboard/compat/tensorflow_stub/dtypes.py:550: FutureWarning: Passing (type, 1) or '1type' as a synonym of type is deprecated; in a future version of numpy, it will be understood as (type, (1,)) / '(1,)type'.\n",
      "  np_resource = np.dtype([(\"resource\", np.ubyte, 1)])\n",
      "WARNING: Logging before flag parsing goes to stderr.\n",
      "W1222 21:41:45.251948 140625071343424 deprecation_wrapper.py:119] From /usr/local/lib/python3.6/dist-packages/keras/backend/tensorflow_backend.py:517: The name tf.placeholder is deprecated. Please use tf.compat.v1.placeholder instead.\n",
      "\n",
      "W1222 21:41:45.579015 140625071343424 deprecation_wrapper.py:119] From /usr/local/lib/python3.6/dist-packages/keras/backend/tensorflow_backend.py:4138: The name tf.random_uniform is deprecated. Please use tf.random.uniform instead.\n",
      "\n",
      "W1222 21:41:45.611879 140625071343424 deprecation_wrapper.py:119] From /usr/local/lib/python3.6/dist-packages/keras/backend/tensorflow_backend.py:131: The name tf.get_default_graph is deprecated. Please use tf.compat.v1.get_default_graph instead.\n",
      "\n",
      "W1222 21:41:45.613114 140625071343424 deprecation_wrapper.py:119] From /usr/local/lib/python3.6/dist-packages/keras/backend/tensorflow_backend.py:133: The name tf.placeholder_with_default is deprecated. Please use tf.compat.v1.placeholder_with_default instead.\n",
      "\n",
      "W1222 21:41:45.627869 140625071343424 deprecation.py:506] From /usr/local/lib/python3.6/dist-packages/keras/backend/tensorflow_backend.py:3445: calling dropout (from tensorflow.python.ops.nn_ops) with keep_prob is deprecated and will be removed in a future version.\n",
      "Instructions for updating:\n",
      "Please use `rate` instead of `keep_prob`. Rate should be set to `rate = 1 - keep_prob`.\n",
      "W1222 21:41:45.788363 140625071343424 deprecation_wrapper.py:119] From /usr/local/lib/python3.6/dist-packages/keras/backend/tensorflow_backend.py:174: The name tf.get_default_session is deprecated. Please use tf.compat.v1.get_default_session instead.\n",
      "\n",
      "W1222 21:41:47.358392 140625071343424 deprecation_wrapper.py:119] From /usr/local/lib/python3.6/dist-packages/keras/optimizers.py:790: The name tf.train.Optimizer is deprecated. Please use tf.compat.v1.train.Optimizer instead.\n",
      "\n"
     ]
    }
   ],
   "source": [
    "with open('model1.joblib', 'rb') as file: model1 = load(file)\n",
    "with open('model2.joblib', 'rb') as file: model2 = load(file)\n",
    "with open('model3.joblib', 'rb') as file: model3 = load(file)\n",
    "with open('model4.joblib', 'rb') as file: model4 = load(file)\n",
    "with open('model5.joblib', 'rb') as file: model5 = load(file)\n",
    "model6 = load_model('model6.h5')\n",
    "\n",
    "estimators = [\n",
    "    ('LR', model1),\n",
    "    ('Extra', model2),\n",
    "    ('RF', model3),\n",
    "    ('GBT', model4),\n",
    "    ('SVM', model5),\n",
    "    ('ANN', model6)\n",
    "]"
   ]
  },
  {
   "cell_type": "code",
   "execution_count": 120,
   "metadata": {},
   "outputs": [
    {
     "name": "stdout",
     "output_type": "stream",
     "text": [
      "(2000, 6)\n",
      "(2000, 18)\n"
     ]
    }
   ],
   "source": [
    "# The models should be pre trained\n",
    "# Accept any estimator with predict and fit (to L1) methods\n",
    "# X and y should be numpy arrays\n",
    "import pandas as pd\n",
    "import numpy as np\n",
    "class stacker:\n",
    "    def __init__ (self, L0_models, L1_model, propagate_input=False):\n",
    "        self.L0_models = L0_models\n",
    "        self.L1_model = L1_model\n",
    "        self.propagate_input = propagate_input\n",
    "    \n",
    "    def fit(self, X, y):\n",
    "        self.L0_dataset = []\n",
    "        for model in self.L0_models:\n",
    "            y_hat = model[1].predict(X)\n",
    "            y_hat = y_hat.reshape(len(y_hat))\n",
    "            self.L0_dataset.append (y_hat)\n",
    "        self.L0_dataset = np.array(self.L0_dataset).transpose()\n",
    "        if self.propagate_input: self.L0_dataset = np.hstack((self.L0_dataset, X))\n",
    "        self.L1_model.fit (self.L0_dataset, y)\n",
    "        \n",
    "    def predict(self, X):\n",
    "        L0_output = []\n",
    "        for model in self.L0_models:\n",
    "            y_hat = model[1].predict(X)\n",
    "            y_hat = y_hat.reshape(len(y_hat))\n",
    "            L0_output.append(y_hat)\n",
    "        L0_output = np.array(L0_output).transpose()\n",
    "        if self.propagate_input: L0_output = np.hstack((L0_output, X))\n",
    "        return self.L1_model.predict(L0_output)\n",
    "    \n",
    "    def get_L0_dataset(self):\n",
    "        # To add a header, use: np.concatenate((np.array([\"y_\" + name for name, model in estimators]), X_train.columns), axis=0)\n",
    "        return self.L0_dataset\n",
    "    \n",
    "    def get_L1_model (self):\n",
    "        return self.L1_model\n",
    "    \n",
    "    def predict_all (self, X):\n",
    "        y_hats = []\n",
    "        for model in self.L0_models:\n",
    "            y_hat = model[1].predict(X)\n",
    "            y_hat = y_hat.reshape(len(y_hat))\n",
    "            y_hats.append(y_hat)  \n",
    "        L0_output = np.array(y_hats).transpose()\n",
    "        if self.propagate_input: L0_output = np.hstack((L0_output, X))\n",
    "        y_hat = self.L1_model.predict(L0_output)\n",
    "        y_hats.append(y_hat)  \n",
    "        return np.array(y_hats)"
   ]
  },
  {
   "cell_type": "code",
   "execution_count": 143,
   "metadata": {},
   "outputs": [
    {
     "data": {
      "image/png": "[encoded data removed]",
      "text/plain": [
       "<Figure size 432x288 with 1 Axes>"
      ]
     },
     "metadata": {
      "needs_background": "light"
     },
     "output_type": "display_data"
    }
   ],
   "source": [
    "if FLAG_DEBUG:\n",
    "    mae1 = {}\n",
    "    mae2 = {}\n",
    "    for k in np.arange(0.3, 1, 0.5):\n",
    "        model = stacker (estimators, ExtraTreesRegressor(max_depth=10, \n",
    "                                                        n_estimators=200, \n",
    "                                                        max_samples=0.7, \n",
    "                                                        max_features=k), propagate_input=True)\n",
    "        model.fit(X_train.values, y_train.values)\n",
    "        y_hat = model.predict(X_train)\n",
    "        mae1[k] = metrics.mean_absolute_error(y_train,y_hat)\n",
    "        y_hat = model.predict(X_test)\n",
    "        mae2[k] = metrics.mean_absolute_error(y_test,y_hat)\n",
    "\n",
    "    plt.figure()\n",
    "    #plt.plot(list(mae1.keys()), list(mae1.values()), label='Training dataset error')\n",
    "    plt.plot(list(mae2.keys()), list(mae2.values()), label='Validation dataset error')\n",
    "    plt.legend(loc='lower left')\n",
    "    plt.xlabel(\"Maximun height\")\n",
    "    plt.ylabel(\"MAE\")\n",
    "    plt.grid(True)"
   ]
  },
  {
   "cell_type": "code",
   "execution_count": 137,
   "metadata": {},
   "outputs": [
    {
     "name": "stdout",
     "output_type": "stream",
     "text": [
      "(2000, 6)\n",
      "(2000, 18)\n"
     ]
    }
   ],
   "source": [
    "model_L1 = ExtraTreesRegressor(max_depth=k, \n",
    "                                n_estimators=200, \n",
    "                                max_samples=0.5, \n",
    "                                max_features=0.5)\n",
    "model_ensembled = stacker (estimators, model_L1, propagate_input=True)\n",
    "model_ensembled.fit(X_train.values, y_train.values)\n",
    "pd.DataFrame(model_ensembled.get_L0_dataset())\n",
    "\n",
    "predictions = model_ensembled.predict_all(X_test)"
   ]
  },
  {
   "cell_type": "code",
   "execution_count": 138,
   "metadata": {},
   "outputs": [
    {
     "data": {
      "text/html": [
       "<div>\n",
       "<style scoped>\n",
       "    .dataframe tbody tr th:only-of-type {\n",
       "        vertical-align: middle;\n",
       "    }\n",
       "\n",
       "    .dataframe tbody tr th {\n",
       "        vertical-align: top;\n",
       "    }\n",
       "\n",
       "    .dataframe thead th {\n",
       "        text-align: right;\n",
       "    }\n",
       "</style>\n",
       "<table border=\"1\" class=\"dataframe\">\n",
       "  <thead>\n",
       "    <tr style=\"text-align: right;\">\n",
       "      <th></th>\n",
       "      <th>MAE</th>\n",
       "      <th>RMSE</th>\n",
       "      <th>Perc.</th>\n",
       "    </tr>\n",
       "  </thead>\n",
       "  <tbody>\n",
       "    <tr>\n",
       "      <td>LR</td>\n",
       "      <td>50.053826</td>\n",
       "      <td>68.764462</td>\n",
       "      <td>28.298833</td>\n",
       "    </tr>\n",
       "    <tr>\n",
       "      <td>Extra</td>\n",
       "      <td>15.933835</td>\n",
       "      <td>28.902378</td>\n",
       "      <td>9.008481</td>\n",
       "    </tr>\n",
       "    <tr>\n",
       "      <td>RF</td>\n",
       "      <td>16.401869</td>\n",
       "      <td>30.057480</td>\n",
       "      <td>9.273092</td>\n",
       "    </tr>\n",
       "    <tr>\n",
       "      <td>GBT</td>\n",
       "      <td>16.092143</td>\n",
       "      <td>30.908440</td>\n",
       "      <td>9.097983</td>\n",
       "    </tr>\n",
       "    <tr>\n",
       "      <td>SVM</td>\n",
       "      <td>19.016908</td>\n",
       "      <td>34.287933</td>\n",
       "      <td>10.751552</td>\n",
       "    </tr>\n",
       "    <tr>\n",
       "      <td>ANN</td>\n",
       "      <td>16.851903</td>\n",
       "      <td>30.150862</td>\n",
       "      <td>9.527527</td>\n",
       "    </tr>\n",
       "    <tr>\n",
       "      <td>Ens.</td>\n",
       "      <td>13.802556</td>\n",
       "      <td>25.492534</td>\n",
       "      <td>7.803524</td>\n",
       "    </tr>\n",
       "  </tbody>\n",
       "</table>\n",
       "</div>"
      ],
      "text/plain": [
       "             MAE       RMSE      Perc.\n",
       "LR     50.053826  68.764462  28.298833\n",
       "Extra  15.933835  28.902378   9.008481\n",
       "RF     16.401869  30.057480   9.273092\n",
       "GBT    16.092143  30.908440   9.097983\n",
       "SVM    19.016908  34.287933  10.751552\n",
       "ANN    16.851903  30.150862   9.527527\n",
       "Ens.   13.802556  25.492534   7.803524"
      ]
     },
     "execution_count": 138,
     "metadata": {},
     "output_type": "execute_result"
    }
   ],
   "source": [
    "## Evaluate algorithm's error\n",
    "errors = []\n",
    "for y_hat in predictions:\n",
    "    mae = abs(y_test - y_hat).sum()/len(y_test)\n",
    "    rmse = math.sqrt(((y_test - y_hat)*(y_test - y_hat)).sum()/len(y_test))\n",
    "    perc = mae/y_test.mean()*100\n",
    "    errors.append([mae, rmse, perc])\n",
    "errors = pd.DataFrame(errors, \n",
    "                   index=([name for name, model in estimators] + ['Ens.']),\n",
    "                   columns=['MAE', 'RMSE', 'Perc.'])\n",
    "if FLAG_EXPORT: errors.to_latex('table_errors.tex')\n",
    "errors"
   ]
  },
  {
   "cell_type": "code",
   "execution_count": 124,
   "metadata": {},
   "outputs": [
    {
     "data": {
      "text/html": [
       "<div>\n",
       "<style scoped>\n",
       "    .dataframe tbody tr th:only-of-type {\n",
       "        vertical-align: middle;\n",
       "    }\n",
       "\n",
       "    .dataframe tbody tr th {\n",
       "        vertical-align: top;\n",
       "    }\n",
       "\n",
       "    .dataframe thead th {\n",
       "        text-align: right;\n",
       "    }\n",
       "</style>\n",
       "<table border=\"1\" class=\"dataframe\">\n",
       "  <thead>\n",
       "    <tr style=\"text-align: right;\">\n",
       "      <th></th>\n",
       "      <th>Ens.</th>\n",
       "      <th>LR</th>\n",
       "      <th>Extra</th>\n",
       "      <th>RF</th>\n",
       "      <th>GBT</th>\n",
       "      <th>SVM</th>\n",
       "      <th>ANN</th>\n",
       "      <th>LR Coeff.</th>\n",
       "    </tr>\n",
       "    <tr>\n",
       "      <th>model</th>\n",
       "      <th></th>\n",
       "      <th></th>\n",
       "      <th></th>\n",
       "      <th></th>\n",
       "      <th></th>\n",
       "      <th></th>\n",
       "      <th></th>\n",
       "      <th></th>\n",
       "    </tr>\n",
       "  </thead>\n",
       "  <tbody>\n",
       "    <tr>\n",
       "      <td>cos_phi</td>\n",
       "      <td>79.321634</td>\n",
       "      <td>71.539066</td>\n",
       "      <td>94.595890</td>\n",
       "      <td>112.215573</td>\n",
       "      <td>109.716205</td>\n",
       "      <td>60.637052</td>\n",
       "      <td>67.626542</td>\n",
       "      <td>46.7181</td>\n",
       "    </tr>\n",
       "    <tr>\n",
       "      <td>p3_std</td>\n",
       "      <td>32.904192</td>\n",
       "      <td>98.550619</td>\n",
       "      <td>23.830720</td>\n",
       "      <td>19.546396</td>\n",
       "      <td>21.258620</td>\n",
       "      <td>51.268401</td>\n",
       "      <td>50.399004</td>\n",
       "      <td>86.2427</td>\n",
       "    </tr>\n",
       "    <tr>\n",
       "      <td>hour</td>\n",
       "      <td>27.528002</td>\n",
       "      <td>54.668488</td>\n",
       "      <td>28.219751</td>\n",
       "      <td>25.716639</td>\n",
       "      <td>24.321199</td>\n",
       "      <td>35.317539</td>\n",
       "      <td>33.457688</td>\n",
       "      <td>-16.2721</td>\n",
       "    </tr>\n",
       "    <tr>\n",
       "      <td>cos_phi_std</td>\n",
       "      <td>27.434786</td>\n",
       "      <td>50.358596</td>\n",
       "      <td>26.548904</td>\n",
       "      <td>20.116983</td>\n",
       "      <td>18.378369</td>\n",
       "      <td>34.708019</td>\n",
       "      <td>29.786106</td>\n",
       "      <td>3.02787</td>\n",
       "    </tr>\n",
       "    <tr>\n",
       "      <td>load_factor</td>\n",
       "      <td>25.936608</td>\n",
       "      <td>79.864408</td>\n",
       "      <td>19.468581</td>\n",
       "      <td>18.628818</td>\n",
       "      <td>18.950750</td>\n",
       "      <td>39.307662</td>\n",
       "      <td>39.389505</td>\n",
       "      <td>61.0289</td>\n",
       "    </tr>\n",
       "    <tr>\n",
       "      <td>temperature</td>\n",
       "      <td>23.771258</td>\n",
       "      <td>59.095053</td>\n",
       "      <td>23.977987</td>\n",
       "      <td>25.440380</td>\n",
       "      <td>26.960780</td>\n",
       "      <td>30.340163</td>\n",
       "      <td>27.073707</td>\n",
       "      <td>30.7997</td>\n",
       "    </tr>\n",
       "    <tr>\n",
       "      <td>month</td>\n",
       "      <td>19.092907</td>\n",
       "      <td>50.229400</td>\n",
       "      <td>20.390858</td>\n",
       "      <td>20.412240</td>\n",
       "      <td>21.203215</td>\n",
       "      <td>22.180440</td>\n",
       "      <td>18.651127</td>\n",
       "      <td>-4.41321</td>\n",
       "    </tr>\n",
       "    <tr>\n",
       "      <td>pressure</td>\n",
       "      <td>17.266317</td>\n",
       "      <td>51.833147</td>\n",
       "      <td>18.068649</td>\n",
       "      <td>17.990759</td>\n",
       "      <td>17.204220</td>\n",
       "      <td>22.139947</td>\n",
       "      <td>19.077912</td>\n",
       "      <td>11.3522</td>\n",
       "    </tr>\n",
       "    <tr>\n",
       "      <td>voltage</td>\n",
       "      <td>15.911626</td>\n",
       "      <td>50.083066</td>\n",
       "      <td>16.747510</td>\n",
       "      <td>17.439730</td>\n",
       "      <td>17.874904</td>\n",
       "      <td>21.537466</td>\n",
       "      <td>18.180482</td>\n",
       "      <td>2.59803</td>\n",
       "    </tr>\n",
       "    <tr>\n",
       "      <td>day_of_week</td>\n",
       "      <td>15.238130</td>\n",
       "      <td>50.199916</td>\n",
       "      <td>16.249693</td>\n",
       "      <td>16.515920</td>\n",
       "      <td>16.414583</td>\n",
       "      <td>20.101422</td>\n",
       "      <td>16.706835</td>\n",
       "      <td>-2.16887</td>\n",
       "    </tr>\n",
       "    <tr>\n",
       "      <td>windspeed</td>\n",
       "      <td>15.061088</td>\n",
       "      <td>50.189226</td>\n",
       "      <td>16.175868</td>\n",
       "      <td>16.564808</td>\n",
       "      <td>16.318056</td>\n",
       "      <td>20.002493</td>\n",
       "      <td>16.855711</td>\n",
       "      <td>-3.86668</td>\n",
       "    </tr>\n",
       "    <tr>\n",
       "      <td>precipitation</td>\n",
       "      <td>14.837923</td>\n",
       "      <td>50.523382</td>\n",
       "      <td>15.956703</td>\n",
       "      <td>16.403144</td>\n",
       "      <td>16.169486</td>\n",
       "      <td>19.189170</td>\n",
       "      <td>16.933552</td>\n",
       "      <td>6.47248</td>\n",
       "    </tr>\n",
       "  </tbody>\n",
       "</table>\n",
       "</div>"
      ],
      "text/plain": [
       "                    Ens.         LR      Extra          RF         GBT  \\\n",
       "model                                                                    \n",
       "cos_phi        79.321634  71.539066  94.595890  112.215573  109.716205   \n",
       "p3_std         32.904192  98.550619  23.830720   19.546396   21.258620   \n",
       "hour           27.528002  54.668488  28.219751   25.716639   24.321199   \n",
       "cos_phi_std    27.434786  50.358596  26.548904   20.116983   18.378369   \n",
       "load_factor    25.936608  79.864408  19.468581   18.628818   18.950750   \n",
       "temperature    23.771258  59.095053  23.977987   25.440380   26.960780   \n",
       "month          19.092907  50.229400  20.390858   20.412240   21.203215   \n",
       "pressure       17.266317  51.833147  18.068649   17.990759   17.204220   \n",
       "voltage        15.911626  50.083066  16.747510   17.439730   17.874904   \n",
       "day_of_week    15.238130  50.199916  16.249693   16.515920   16.414583   \n",
       "windspeed      15.061088  50.189226  16.175868   16.564808   16.318056   \n",
       "precipitation  14.837923  50.523382  15.956703   16.403144   16.169486   \n",
       "\n",
       "                     SVM        ANN LR Coeff.  \n",
       "model                                          \n",
       "cos_phi        60.637052  67.626542   46.7181  \n",
       "p3_std         51.268401  50.399004   86.2427  \n",
       "hour           35.317539  33.457688  -16.2721  \n",
       "cos_phi_std    34.708019  29.786106   3.02787  \n",
       "load_factor    39.307662  39.389505   61.0289  \n",
       "temperature    30.340163  27.073707   30.7997  \n",
       "month          22.180440  18.651127  -4.41321  \n",
       "pressure       22.139947  19.077912   11.3522  \n",
       "voltage        21.537466  18.180482   2.59803  \n",
       "day_of_week    20.101422  16.706835  -2.16887  \n",
       "windspeed      20.002493  16.855711  -3.86668  \n",
       "precipitation  19.189170  16.933552   6.47248  "
      ]
     },
     "execution_count": 124,
     "metadata": {},
     "output_type": "execute_result"
    }
   ],
   "source": [
    "## Evaluate feature's importance/error (given by Input Perturbation Method)\n",
    "perturbations = perturbation_rank(model_ensembled, X_test.values, y_test.values, X_test.columns, True).drop('importance', axis=1)\n",
    "for model in [model for name, model in estimators]:\n",
    "    perturbation = perturbation_rank(model, X_test.values, y_test.values, X_test.columns, True).drop('importance', axis=1)\n",
    "    perturbations = pd.merge(perturbations,\n",
    "                             perturbation,\n",
    "                             on='name')\n",
    "\n",
    "perturbations.columns = (['model', 'Ens.'] + [name for name, model in estimators])\n",
    "perturbations = pd.merge(perturbations,\n",
    "                         pd.DataFrame(np.array([np.array(X_train.columns), model1.coef_]).transpose(), columns =['model', 'LR Coeff.']),\n",
    "                         on='model')\n",
    "\n",
    "perturbations = perturbations.set_index(perturbations.model)\n",
    "perturbations = perturbations.drop ('model', axis=1)\n",
    "#perturbations = perturbations[['LR', 'RF', 'SVM', 'ANN', 'Ens.', 'LR Coeff.']]\n",
    "\n",
    "if FLAG_EXPORT: perturbations.to_latex('table_perturbations.tex')\n",
    "perturbations"
   ]
  },
  {
   "cell_type": "code",
   "execution_count": 126,
   "metadata": {
    "scrolled": true
   },
   "outputs": [
    {
     "data": {
      "image/png": "[encoded data removed]",
      "text/plain": [
       "<Figure size 288x2016 with 7 Axes>"
      ]
     },
     "metadata": {
      "needs_background": "light"
     },
     "output_type": "display_data"
    }
   ],
   "source": [
    "# Evaluate errors graphcally\n",
    "l = len(predictions)\n",
    "line = np.arange(min ([min (y_test), np.min(predictions)]),\n",
    "                 max ([max (y_test), np.max(predictions)]),\n",
    "                 1)\n",
    "\n",
    "fig, axes = plt.subplots(l, 1, figsize=(4, 4*l))\n",
    "plt.subplots_adjust(hspace = .4)\n",
    "for i in range(l):\n",
    "    axes[i].scatter(y_test, predictions[i], Alpha=0.05)\n",
    "    axes[i].scatter(line, line, marker='.')\n",
    "    \n",
    "    axes[i].grid(True)\n",
    "    axes[i].set_title(errors.index[i])\n",
    "    axes[i].set_xlabel(\"Real values\")\n",
    "    axes[i].set_ylabel(\"Predicted values\")\n",
    "if FLAG_EXPORT: \n",
    "    plt.savefig('graph_error_ensembled.svg', format='svg', dpi=1200)\n",
    "    with open('model_ensembled.joblib', 'wb') as file: dump(model_ensembled, file)"
   ]
  },
  {
   "cell_type": "code",
   "execution_count": null,
   "metadata": {},
   "outputs": [],
   "source": []
  }
 ],
 "metadata": {
  "kernelspec": {
   "display_name": "Python 3",
   "language": "python",
   "name": "python3"
  },
  "language_info": {
   "codemirror_mode": {
    "name": "ipython",
    "version": 3
   },
   "file_extension": ".py",
   "mimetype": "text/x-python",
   "name": "python",
   "nbconvert_exporter": "python",
   "pygments_lexer": "ipython3",
   "version": "3.6.8"
  }
 },
 "nbformat": 4,
 "nbformat_minor": 2
}
