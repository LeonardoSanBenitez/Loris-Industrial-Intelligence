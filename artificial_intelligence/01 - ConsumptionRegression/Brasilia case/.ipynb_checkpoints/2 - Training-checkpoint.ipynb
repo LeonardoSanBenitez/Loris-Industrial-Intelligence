{
 "cells": [
  {
   "cell_type": "markdown",
   "metadata": {},
   "source": [
    "# Dataset import"
   ]
  },
  {
   "cell_type": "code",
   "execution_count": 1,
   "metadata": {},
   "outputs": [],
   "source": [
    "# Math and linear algebra\n",
    "import pandas as pd\n",
    "pd.set_option('display.max_columns', 100)\n",
    "pd.set_option('display.max_rows', 100)\n",
    "import math\n",
    "import numpy as np\n",
    "\n",
    "# Vizualization\n",
    "import seaborn as sns\n",
    "import matplotlib.pyplot as plt\n",
    "%matplotlib inline\n",
    "\n",
    "# Utils\n",
    "import sklearn.metrics as metrics\n",
    "from sklearn.model_selection import GridSearchCV\n",
    "from joblib import dump, load\n",
    "import gc\n",
    "\n",
    "FLAG_EXPORT = True\n",
    "FLAG_DEBUG = False\n",
    "FLAG_LIMIT_N = None #2000\n",
    "\n",
    "out_path = 'assets_LR/'"
   ]
  },
  {
   "cell_type": "code",
   "execution_count": 2,
   "metadata": {},
   "outputs": [],
   "source": [
    "# Import training dataset\n",
    "raw = pd.read_csv (\"../../datasets/brasilia_case_preprocessed.csv\", header=0)\n",
    "\n",
    "raw = raw.drop('timestamp', axis=1)\n",
    "#raw.tail()"
   ]
  },
  {
   "cell_type": "code",
   "execution_count": 3,
   "metadata": {},
   "outputs": [
    {
     "data": {
      "text/plain": [
       "10"
      ]
     },
     "execution_count": 3,
     "metadata": {},
     "output_type": "execute_result"
    }
   ],
   "source": [
    "from sklearn.model_selection import train_test_split\n",
    "\n",
    "X = raw.drop('p3', axis=1)\n",
    "y = raw ['p3']\n",
    "X_train, X_test, y_train, y_test = train_test_split(X, y, test_size=0.3, random_state=200)\n",
    "\n",
    "if FLAG_LIMIT_N:\n",
    "    n = FLAG_LIMIT_N\n",
    "    X_train = X_train[:n]\n",
    "    X_test = X_test[:n]\n",
    "    y_train = y_train[:n]\n",
    "    y_test = y_test[:n]\n",
    "\n",
    "del X\n",
    "del y\n",
    "gc.collect()"
   ]
  },
  {
   "cell_type": "code",
   "execution_count": 4,
   "metadata": {},
   "outputs": [],
   "source": [
    "def regression_report (y_hat, y_test, alpha=0.05, title=\"Model Evaluation\"):\n",
    "    print (\"MAE:                \", metrics.mean_absolute_error(y_test, y_hat))\n",
    "    print (\"RMSE:               \", np.sqrt(metrics.mean_squared_error(y_test, y_hat)))\n",
    "    print (\"Percentual:         \", metrics.mean_absolute_error(y_test,y_hat)/y_test.mean()*100, \"%\")\n",
    "\n",
    "    # Previsto vs real\n",
    "    line = np.arange(np.min([y_test, y_hat]),\n",
    "                     np.max([y_test, y_hat]),\n",
    "                     1)\n",
    "\n",
    "    plt.scatter(y_test,y_hat, Alpha=alpha)\n",
    "    plt.scatter(line,line, marker='.')\n",
    "    plt.grid(True)\n",
    "    plt.title(title)\n",
    "    plt.xlabel(\"Real values\")\n",
    "    plt.ylabel(\"Predicted values\")"
   ]
  },
  {
   "cell_type": "code",
   "execution_count": 5,
   "metadata": {},
   "outputs": [],
   "source": [
    "from sklearn import metrics\n",
    "import scipy as sp\n",
    "import numpy as np\n",
    "import math\n",
    "from sklearn import metrics\n",
    "\n",
    "def perturbation_rank(model, x, y, names, regression):\n",
    "    errors = []\n",
    "\n",
    "    for i in range(x.shape[1]):\n",
    "        hold = np.array(x[:, i])\n",
    "        np.random.shuffle(x[:, i])\n",
    "        \n",
    "        if regression:\n",
    "            pred = model.predict(x)\n",
    "            error = metrics.mean_absolute_error(y, pred)\n",
    "        else:\n",
    "            pred = model.predict_proba(x)\n",
    "            error = metrics.log_loss(y, pred)\n",
    "            \n",
    "        errors.append(error)\n",
    "        x[:, i] = hold\n",
    "        \n",
    "    max_error = np.max(errors)\n",
    "    importance = [e/max_error for e in errors]\n",
    "\n",
    "    data = {'name':names,'error':errors,'importance':importance}\n",
    "    result = pd.DataFrame(data, columns = ['name','error','importance'])\n",
    "    result.sort_values(by=['importance'], ascending=[0], inplace=True)\n",
    "    result.reset_index(inplace=True, drop=True)\n",
    "    return result"
   ]
  },
  {
   "cell_type": "markdown",
   "metadata": {},
   "source": [
    "# Ridge (Linear model)\n",
    "* To 85k points, it runs in 1 min"
   ]
  },
  {
   "cell_type": "code",
   "execution_count": 6,
   "metadata": {},
   "outputs": [
    {
     "data": {
      "text/plain": [
       "Ridge(alpha=1.0, copy_X=True, fit_intercept=True, max_iter=None,\n",
       "      normalize=False, random_state=None, solver='auto', tol=0.001)"
      ]
     },
     "execution_count": 6,
     "metadata": {},
     "output_type": "execute_result"
    }
   ],
   "source": [
    "from sklearn.linear_model import Ridge\n",
    "\n",
    "model1 = Ridge()#LinearRegression()\n",
    "model1.fit (X_train, y_train)\n",
    "#pd.DataFrame(model0.coef_,X_train.columns,columns=['Coefficient'])"
   ]
  },
  {
   "cell_type": "code",
   "execution_count": 7,
   "metadata": {},
   "outputs": [
    {
     "name": "stdout",
     "output_type": "stream",
     "text": [
      "MAE:                 52.63341508380072\n",
      "RMSE:                69.69353350301472\n",
      "Percentual:          28.798735493939713 %\n"
     ]
    },
    {
     "data": {
      "image/png": "[encoded data removed]",
      "text/plain": [
       "<Figure size 432x288 with 1 Axes>"
      ]
     },
     "metadata": {
      "needs_background": "light"
     },
     "output_type": "display_data"
    }
   ],
   "source": [
    "y_hat = model1.predict(X_test)\n",
    "regression_report (y_hat, y_test)\n",
    "if FLAG_EXPORT:\n",
    "    plt.savefig(out_path + 'graph_error_1.svg', format='svg', dpi=1200)\n",
    "    with open(out_path + 'model1.joblib', 'wb') as file: dump(model1, file)\n"
   ]
  },
  {
   "cell_type": "markdown",
   "metadata": {},
   "source": [
    "# Extremey randomized trees\n",
    "* To 85k points, it runs in 1 min"
   ]
  },
  {
   "cell_type": "code",
   "execution_count": 8,
   "metadata": {},
   "outputs": [],
   "source": [
    "from sklearn.ensemble import ExtraTreesRegressor"
   ]
  },
  {
   "cell_type": "code",
   "execution_count": 9,
   "metadata": {},
   "outputs": [],
   "source": [
    "if FLAG_DEBUG:\n",
    "    mae1 = {}\n",
    "    mae2 = {}\n",
    "    for k in range(1,25, 2):\n",
    "        model = ExtraTreesRegressor(max_depth=k, \n",
    "                                    n_estimators=200, \n",
    "                                    bootstrap=True, \n",
    "                                    max_samples=0.9).fit(X_train,y_train)\n",
    "        y_hat = model.predict(X_train)\n",
    "        mae1[k] = metrics.mean_absolute_error(y_train,y_hat)\n",
    "        y_hat = model.predict(X_test)\n",
    "        mae2[k] = metrics.mean_absolute_error(y_test,y_hat)\n",
    "\n",
    "    plt.figure()\n",
    "    plt.plot(list(mae1.keys()), list(mae1.values()), label='Training dataset error')\n",
    "    plt.plot(list(mae2.keys()), list(mae2.values()), label='Validation dataset error')\n",
    "    plt.legend(loc='lower left')\n",
    "    plt.xlabel(\"Maximun height\")\n",
    "    plt.ylabel(\"MAE\")\n",
    "    plt.grid(True)"
   ]
  },
  {
   "cell_type": "code",
   "execution_count": 10,
   "metadata": {},
   "outputs": [],
   "source": [
    "if FLAG_DEBUG:\n",
    "    mae1 = {}\n",
    "    mae2 = {}\n",
    "    for k in np.arange(1, 30, 1):\n",
    "        model = ExtraTreesRegressor(max_depth=k,\n",
    "                                    n_estimators=300, \n",
    "                                    bootstrap=True,\n",
    "                                    max_samples=0.7).fit(X_train,y_train)\n",
    "        y_hat = model.predict(X_train)\n",
    "        mae1[k] = metrics.mean_absolute_error(y_train,y_hat)\n",
    "        y_hat = model.predict(X_test)\n",
    "        mae2[k] = metrics.mean_absolute_error(y_test,y_hat)\n",
    "\n",
    "    plt.figure()\n",
    "    plt.plot(list(mae1.keys()), list(mae1.values()), label='Training dataset error')\n",
    "    plt.plot(list(mae2.keys()), list(mae2.values()), label='Validation dataset error')\n",
    "    plt.legend(loc='lower left')\n",
    "    plt.xlabel(\"Maximun height\")\n",
    "    plt.ylabel(\"MAE\")\n",
    "    plt.grid(True)\n",
    "    plt.savefig(out_path + 'graph_training_extra1.svg', format='svg', dpi=1200)"
   ]
  },
  {
   "cell_type": "code",
   "execution_count": 11,
   "metadata": {},
   "outputs": [],
   "source": [
    "if FLAG_DEBUG:\n",
    "    mae1 = {}\n",
    "    mae2 = {}\n",
    "    for k in np.arange(0.5, 0.7, 0.02):\n",
    "        model = ExtraTreesRegressor(max_depth=25, n_estimators=600, bootstrap=True, max_samples=k).fit(X_train,y_train)\n",
    "        y_hat = model.predict(X_train)\n",
    "        mae1[k] = metrics.mean_absolute_error(y_train,y_hat)\n",
    "        y_hat = model.predict(X_test)\n",
    "        mae2[k] = metrics.mean_absolute_error(y_test,y_hat)\n",
    "\n",
    "    plt.figure()\n",
    "    plt.plot(list(mae1.keys()), list(mae1.values()), label='Training dataset error')\n",
    "    plt.plot(list(mae2.keys()), list(mae2.values()), label='Validation dataset error')\n",
    "    plt.legend(loc='lower left')\n",
    "    plt.xlabel(\"Maximun height\")\n",
    "    plt.ylabel(\"MAE\")\n",
    "    plt.grid(True)"
   ]
  },
  {
   "cell_type": "code",
   "execution_count": 12,
   "metadata": {},
   "outputs": [],
   "source": [
    "if FLAG_DEBUG:\n",
    "    mae1 = {}\n",
    "    mae2 = {}\n",
    "    for k in np.arange(2, 30, 1):\n",
    "        model = ExtraTreesRegressor(min_samples_split=k,\n",
    "                                    n_estimators=300,\n",
    "                                    bootstrap=True,\n",
    "                                    max_samples=0.7).fit(X_train,y_train)\n",
    "        y_hat = model.predict(X_train)\n",
    "        mae1[k] = metrics.mean_absolute_error(y_train,y_hat)\n",
    "        y_hat = model.predict(X_test)\n",
    "        mae2[k] = metrics.mean_absolute_error(y_test,y_hat)\n",
    "\n",
    "    plt.figure()\n",
    "    plt.plot(list(mae1.keys()), list(mae1.values()), label='Training dataset error')\n",
    "    plt.plot(list(mae2.keys()), list(mae2.values()), label='Validation dataset error')\n",
    "    plt.legend(loc='lower left')\n",
    "    plt.xlabel(\"Min samples per split\")\n",
    "    plt.ylabel(\"MAE\")\n",
    "    plt.grid(True)\n",
    "    plt.savefig(out_path + 'graph_training_extra2.svg', format='svg', dpi=1200)"
   ]
  },
  {
   "cell_type": "code",
   "execution_count": 13,
   "metadata": {},
   "outputs": [
    {
     "name": "stdout",
     "output_type": "stream",
     "text": [
      "MAE:                 10.157274399739876\n",
      "RMSE:                18.737397111167333\n",
      "Percentual:          5.557622630257626 %\n"
     ]
    },
    {
     "data": {
      "image/png": "[encoded data removed]",
      "text/plain": [
       "<Figure size 432x288 with 1 Axes>"
      ]
     },
     "metadata": {
      "needs_background": "light"
     },
     "output_type": "display_data"
    }
   ],
   "source": [
    "model2 = ExtraTreesRegressor(max_depth=25,\n",
    "                             n_estimators=400,\n",
    "                             #max_features=(int)(X_train.shape[1]*k),\n",
    "                             bootstrap=True,\n",
    "                             max_samples=0.7)\n",
    "model2.fit(X_train,y_train)\n",
    "\n",
    "# TEST\n",
    "y_hat = model2.predict(X_test)\n",
    "regression_report (y_hat, y_test)\n",
    "if FLAG_EXPORT: \n",
    "    plt.savefig(out_path + 'graph_error_2.svg', format='svg', dpi=1200)\n",
    "    with open(out_path + 'model2.joblib', 'wb') as file: dump(model2, file)"
   ]
  },
  {
   "cell_type": "markdown",
   "metadata": {},
   "source": [
    "# Random Forest\n",
    "* To 85k points, it runs in 5 min"
   ]
  },
  {
   "cell_type": "code",
   "execution_count": 14,
   "metadata": {},
   "outputs": [],
   "source": [
    "from sklearn.ensemble import RandomForestRegressor"
   ]
  },
  {
   "cell_type": "code",
   "execution_count": 15,
   "metadata": {},
   "outputs": [],
   "source": [
    "if FLAG_DEBUG:\n",
    "    mae1 = {}\n",
    "    mae2 = {}\n",
    "    for k in np.arange(2, 10, 1):\n",
    "        model = RandomForestRegressor(min_samples_split=k, \n",
    "                                    n_estimators=100, \n",
    "                                    bootstrap=True,\n",
    "                                    max_samples=0.7).fit(X_train,y_train)\n",
    "        y_hat = model.predict(X_train)\n",
    "        mae1[k] = metrics.mean_absolute_error(y_train,y_hat)\n",
    "        y_hat = model.predict(X_test)\n",
    "        mae2[k] = metrics.mean_absolute_error(y_test,y_hat)\n",
    "\n",
    "    plt.figure()\n",
    "    plt.plot(list(mae1.keys()), list(mae1.values()), label='Training dataset error')\n",
    "    plt.plot(list(mae2.keys()), list(mae2.values()), label='Validation dataset error')\n",
    "    plt.legend(loc='lower left')\n",
    "    plt.xlabel(\"Maximun height\")\n",
    "    plt.ylabel(\"MAE\")\n",
    "    plt.grid(True)"
   ]
  },
  {
   "cell_type": "code",
   "execution_count": 16,
   "metadata": {},
   "outputs": [],
   "source": [
    "if FLAG_DEBUG:\n",
    "    mae1 = {}\n",
    "    mae2 = {}\n",
    "    for k in np.arange(1, 30, 2):\n",
    "        model = RandomForestRegressor(max_depth=k, \n",
    "                                    n_estimators=100, \n",
    "                                    bootstrap=True,\n",
    "                                    max_samples=0.7).fit(X_train,y_train)\n",
    "        y_hat = model.predict(X_train)\n",
    "        mae1[k] = metrics.mean_absolute_error(y_train,y_hat)\n",
    "        y_hat = model.predict(X_test)\n",
    "        mae2[k] = metrics.mean_absolute_error(y_test,y_hat)\n",
    "\n",
    "    plt.figure()\n",
    "    plt.plot(list(mae1.keys()), list(mae1.values()), label='Training dataset error')\n",
    "    plt.plot(list(mae2.keys()), list(mae2.values()), label='Validation dataset error')\n",
    "    plt.legend(loc='lower left')\n",
    "    plt.xlabel(\"Maximun height\")\n",
    "    plt.ylabel(\"MAE\")\n",
    "    plt.grid(True)"
   ]
  },
  {
   "cell_type": "code",
   "execution_count": 17,
   "metadata": {},
   "outputs": [],
   "source": [
    "if FLAG_DEBUG:\n",
    "    mae1 = {}\n",
    "    mae2 = {}\n",
    "    for k in np.arange(.6, 1.0, .02):\n",
    "        model = RandomForestRegressor(max_depth=20, \n",
    "                                    n_estimators=100, \n",
    "                                    bootstrap=True,\n",
    "                                    max_samples=k).fit(X_train,y_train)\n",
    "        y_hat = model.predict(X_train)\n",
    "        mae1[k] = metrics.mean_absolute_error(y_train,y_hat)\n",
    "        y_hat = model.predict(X_test)\n",
    "        mae2[k] = metrics.mean_absolute_error(y_test,y_hat)\n",
    "\n",
    "    plt.figure()\n",
    "    plt.plot(list(mae1.keys()), list(mae1.values()), label='Training dataset error')\n",
    "    plt.plot(list(mae2.keys()), list(mae2.values()), label='Validation dataset error')\n",
    "    plt.legend(loc='lower left')\n",
    "    plt.xlabel(\"Maximun height\")\n",
    "    plt.ylabel(\"MAE\")\n",
    "    plt.grid(True)"
   ]
  },
  {
   "cell_type": "code",
   "execution_count": 18,
   "metadata": {},
   "outputs": [
    {
     "name": "stdout",
     "output_type": "stream",
     "text": [
      "MAE:                 9.913339779806543\n",
      "RMSE:                18.69601445966979\n",
      "Percentual:          5.424152123240556 %\n"
     ]
    },
    {
     "data": {
      "image/png": "[encoded data removed]",
      "text/plain": [
       "<Figure size 432x288 with 1 Axes>"
      ]
     },
     "metadata": {
      "needs_background": "light"
     },
     "output_type": "display_data"
    }
   ],
   "source": [
    "# Train\n",
    "model3 = RandomForestRegressor(max_depth=20, n_estimators=400, max_features=0.9)\n",
    "model3.fit(X_train,y_train)\n",
    "\n",
    "# TEST\n",
    "y_hat = model3.predict(X_test)\n",
    "regression_report (y_hat, y_test)\n",
    "if FLAG_EXPORT: \n",
    "    plt.savefig(out_path + 'graph_error_3.svg', format='svg', dpi=1200)\n",
    "    with open(out_path + 'model3.joblib', 'wb') as file: dump(model3, file)"
   ]
  },
  {
   "cell_type": "markdown",
   "metadata": {},
   "source": [
    "# Gradient boosting machines\n",
    "* To 85k points, it runs in 4 min"
   ]
  },
  {
   "cell_type": "code",
   "execution_count": 19,
   "metadata": {},
   "outputs": [],
   "source": [
    "from sklearn.ensemble import GradientBoostingRegressor"
   ]
  },
  {
   "cell_type": "code",
   "execution_count": 20,
   "metadata": {},
   "outputs": [],
   "source": [
    "if FLAG_DEBUG:\n",
    "    mae1 = {}\n",
    "    mae2 = {}\n",
    "    for k in np.arange(7, 12, 1):\n",
    "        model = GradientBoostingRegressor(max_depth=k,\n",
    "                                          loss='ls',\n",
    "                                        n_estimators=400).fit(X_train,y_train)\n",
    "        y_hat = model.predict(X_train)\n",
    "        mae1[k] = metrics.mean_absolute_error(y_train,y_hat)\n",
    "        y_hat = model.predict(X_test)\n",
    "        mae2[k] = metrics.mean_absolute_error(y_test,y_hat)\n",
    "\n",
    "    plt.figure()\n",
    "    plt.plot(list(mae1.keys()), list(mae1.values()), label='Training dataset error')\n",
    "    plt.plot(list(mae2.keys()), list(mae2.values()), label='Validation dataset error')\n",
    "    plt.legend(loc='lower left')\n",
    "    plt.xlabel(\"Maximun height\")\n",
    "    plt.ylabel(\"MAE\")\n",
    "    plt.grid(True)"
   ]
  },
  {
   "cell_type": "code",
   "execution_count": 21,
   "metadata": {},
   "outputs": [],
   "source": [
    "if FLAG_DEBUG:\n",
    "    nfolds = 2\n",
    "    param_grid = {\n",
    "        'loss': ['ls', 'lad', 'huber', 'quantile']\n",
    "    }\n",
    "    grid_search = GridSearchCV(\n",
    "        GradientBoostingRegressor (max_depth=13),\n",
    "        param_grid,\n",
    "        cv=nfolds,\n",
    "        verbose=0\n",
    "    )\n",
    "    grid_search.fit(X_train, y_train)\n",
    "    grid_search.best_params_"
   ]
  },
  {
   "cell_type": "code",
   "execution_count": 22,
   "metadata": {},
   "outputs": [
    {
     "name": "stdout",
     "output_type": "stream",
     "text": [
      "MAE:                 10.401268821802558\n",
      "RMSE:                18.978472667042848\n",
      "Percentual:          5.691125858421564 %\n"
     ]
    },
    {
     "data": {
      "image/png": "[encoded data removed]",
      "text/plain": [
       "<Figure size 432x288 with 1 Axes>"
      ]
     },
     "metadata": {
      "needs_background": "light"
     },
     "output_type": "display_data"
    }
   ],
   "source": [
    "model4 = GradientBoostingRegressor(max_depth=8,\n",
    "                                   loss='ls',\n",
    "                                  n_estimators=400)\n",
    "model4.fit(X_train,y_train)\n",
    "\n",
    "# TEST\n",
    "y_hat = model4.predict(X_test)\n",
    "regression_report (y_hat, y_test)\n",
    "if FLAG_EXPORT: \n",
    "    plt.savefig(out_path + 'graph_error_4.svg', format='svg', dpi=1200)\n",
    "    with open(out_path + 'model4.joblib', 'wb') as file: dump(model4, file)"
   ]
  },
  {
   "cell_type": "markdown",
   "metadata": {},
   "source": [
    "# SVM\n",
    "* To 85k points, it runs in 2hs 26min\n",
    "* C defaut:1.  The strength of the regularization is inversely proportional to C\n",
    "* gamma default = scale = 1 / (n_features * X.var())"
   ]
  },
  {
   "cell_type": "code",
   "execution_count": 23,
   "metadata": {},
   "outputs": [],
   "source": [
    "from sklearn.svm import SVR"
   ]
  },
  {
   "cell_type": "code",
   "execution_count": 24,
   "metadata": {},
   "outputs": [],
   "source": [
    "if FLAG_DEBUG:\n",
    "    mae1 = {}\n",
    "    mae2 = {}\n",
    "    for k in np.arange(0.7, 0.9, 0.1):\n",
    "        model = SVR(kernel='rbf',\n",
    "                C=800,\n",
    "                degree= 3,\n",
    "                epsilon=k,\n",
    "                gamma='scale',    \n",
    "                cache_size=1000).fit(X_train,y_train)\n",
    "        y_hat = model.predict(X_train)\n",
    "        mae1[k] = metrics.mean_absolute_error(y_train,y_hat)\n",
    "        y_hat = model.predict(X_test)\n",
    "        mae2[k] = metrics.mean_absolute_error(y_test,y_hat)\n",
    "\n",
    "    plt.figure()\n",
    "    #plt.plot(list(mae1.keys()), list(mae1.values()), label='Training dataset error')\n",
    "    plt.plot(list(mae2.keys()), list(mae2.values()), label='Validation dataset error')\n",
    "    plt.legend(loc='lower left')\n",
    "    plt.xlabel(\"Maximun height\")\n",
    "    plt.ylabel(\"MAE\")\n",
    "    plt.grid(True)#15.42880"
   ]
  },
  {
   "cell_type": "code",
   "execution_count": 25,
   "metadata": {},
   "outputs": [],
   "source": [
    "def svm_param_selection(X, y, nfolds):\n",
    "    param_grid = {\n",
    "        'C': [800], \n",
    "        'epsilon' : [0.4, 0.5, 0.6], \n",
    "        'kernel':['rbf']\n",
    "    }\n",
    "    grid_search = GridSearchCV(\n",
    "        SVR(cache_size=1000),\n",
    "        param_grid,\n",
    "        cv=nfolds,\n",
    "        verbose=2\n",
    "    )\n",
    "    grid_search.fit(X, y)\n",
    "    grid_search.best_params_\n",
    "    return grid_search.best_params_\n",
    "\n",
    "if FLAG_DEBUG:\n",
    "    res = svm_param_selection(X,y, 2)\n",
    "    res"
   ]
  },
  {
   "cell_type": "code",
   "execution_count": 26,
   "metadata": {},
   "outputs": [
    {
     "name": "stdout",
     "output_type": "stream",
     "text": [
      "MAE:                 12.548975669521909\n",
      "RMSE:                23.109911084046193\n",
      "Percentual:          6.866258449143933 %\n"
     ]
    },
    {
     "data": {
      "image/png": "[encoded data removed]",
      "text/plain": [
       "<Figure size 432x288 with 1 Axes>"
      ]
     },
     "metadata": {
      "needs_background": "light"
     },
     "output_type": "display_data"
    }
   ],
   "source": [
    "model5 = SVR(kernel='rbf',\n",
    "            C=900,\n",
    "            epsilon=1,\n",
    "            gamma='scale',    \n",
    "            cache_size=1000)\n",
    "model5.fit(X_train, y_train)\n",
    "\n",
    "\n",
    "y_hat = model5.predict(X_test)\n",
    "regression_report (y_hat, y_test)\n",
    "if FLAG_EXPORT: \n",
    "    plt.savefig(out_path + 'graph_error_5.svg', format='svg', dpi=1200)\n",
    "    with open(out_path + 'model5.joblib', 'wb') as file: dump(model5, file)"
   ]
  },
  {
   "cell_type": "markdown",
   "metadata": {},
   "source": [
    "# ANN\n",
    "* To 85k points, it runs in 7 min\n",
    "* We wrap the model to allow compatibility with Scikitlearn"
   ]
  },
  {
   "cell_type": "code",
   "execution_count": 27,
   "metadata": {},
   "outputs": [
    {
     "name": "stderr",
     "output_type": "stream",
     "text": [
      "Using TensorFlow backend.\n",
      "/usr/local/lib/python3.6/dist-packages/tensorflow/python/framework/dtypes.py:516: FutureWarning: Passing (type, 1) or '1type' as a synonym of type is deprecated; in a future version of numpy, it will be understood as (type, (1,)) / '(1,)type'.\n",
      "  _np_qint8 = np.dtype([(\"qint8\", np.int8, 1)])\n",
      "/usr/local/lib/python3.6/dist-packages/tensorflow/python/framework/dtypes.py:517: FutureWarning: Passing (type, 1) or '1type' as a synonym of type is deprecated; in a future version of numpy, it will be understood as (type, (1,)) / '(1,)type'.\n",
      "  _np_quint8 = np.dtype([(\"quint8\", np.uint8, 1)])\n",
      "/usr/local/lib/python3.6/dist-packages/tensorflow/python/framework/dtypes.py:518: FutureWarning: Passing (type, 1) or '1type' as a synonym of type is deprecated; in a future version of numpy, it will be understood as (type, (1,)) / '(1,)type'.\n",
      "  _np_qint16 = np.dtype([(\"qint16\", np.int16, 1)])\n",
      "/usr/local/lib/python3.6/dist-packages/tensorflow/python/framework/dtypes.py:519: FutureWarning: Passing (type, 1) or '1type' as a synonym of type is deprecated; in a future version of numpy, it will be understood as (type, (1,)) / '(1,)type'.\n",
      "  _np_quint16 = np.dtype([(\"quint16\", np.uint16, 1)])\n",
      "/usr/local/lib/python3.6/dist-packages/tensorflow/python/framework/dtypes.py:520: FutureWarning: Passing (type, 1) or '1type' as a synonym of type is deprecated; in a future version of numpy, it will be understood as (type, (1,)) / '(1,)type'.\n",
      "  _np_qint32 = np.dtype([(\"qint32\", np.int32, 1)])\n",
      "/usr/local/lib/python3.6/dist-packages/tensorflow/python/framework/dtypes.py:525: FutureWarning: Passing (type, 1) or '1type' as a synonym of type is deprecated; in a future version of numpy, it will be understood as (type, (1,)) / '(1,)type'.\n",
      "  np_resource = np.dtype([(\"resource\", np.ubyte, 1)])\n",
      "/usr/local/lib/python3.6/dist-packages/tensorboard/compat/tensorflow_stub/dtypes.py:541: FutureWarning: Passing (type, 1) or '1type' as a synonym of type is deprecated; in a future version of numpy, it will be understood as (type, (1,)) / '(1,)type'.\n",
      "  _np_qint8 = np.dtype([(\"qint8\", np.int8, 1)])\n",
      "/usr/local/lib/python3.6/dist-packages/tensorboard/compat/tensorflow_stub/dtypes.py:542: FutureWarning: Passing (type, 1) or '1type' as a synonym of type is deprecated; in a future version of numpy, it will be understood as (type, (1,)) / '(1,)type'.\n",
      "  _np_quint8 = np.dtype([(\"quint8\", np.uint8, 1)])\n",
      "/usr/local/lib/python3.6/dist-packages/tensorboard/compat/tensorflow_stub/dtypes.py:543: FutureWarning: Passing (type, 1) or '1type' as a synonym of type is deprecated; in a future version of numpy, it will be understood as (type, (1,)) / '(1,)type'.\n",
      "  _np_qint16 = np.dtype([(\"qint16\", np.int16, 1)])\n",
      "/usr/local/lib/python3.6/dist-packages/tensorboard/compat/tensorflow_stub/dtypes.py:544: FutureWarning: Passing (type, 1) or '1type' as a synonym of type is deprecated; in a future version of numpy, it will be understood as (type, (1,)) / '(1,)type'.\n",
      "  _np_quint16 = np.dtype([(\"quint16\", np.uint16, 1)])\n",
      "/usr/local/lib/python3.6/dist-packages/tensorboard/compat/tensorflow_stub/dtypes.py:545: FutureWarning: Passing (type, 1) or '1type' as a synonym of type is deprecated; in a future version of numpy, it will be understood as (type, (1,)) / '(1,)type'.\n",
      "  _np_qint32 = np.dtype([(\"qint32\", np.int32, 1)])\n",
      "/usr/local/lib/python3.6/dist-packages/tensorboard/compat/tensorflow_stub/dtypes.py:550: FutureWarning: Passing (type, 1) or '1type' as a synonym of type is deprecated; in a future version of numpy, it will be understood as (type, (1,)) / '(1,)type'.\n",
      "  np_resource = np.dtype([(\"resource\", np.ubyte, 1)])\n"
     ]
    }
   ],
   "source": [
    "import keras\n",
    "from keras import Sequential\n",
    "from keras.layers import Dropout, Dense\n",
    "from keras.wrappers.scikit_learn import KerasRegressor\n",
    "from keras.callbacks import EarlyStopping\n",
    "from keras.callbacks import ModelCheckpoint\n",
    "\n",
    "#utils\n",
    "from keras_tqdm import TQDMNotebookCallback\n",
    "from keras.models import save_model, load_model\n",
    "from keras.utils.vis_utils import plot_model"
   ]
  },
  {
   "cell_type": "code",
   "execution_count": 28,
   "metadata": {},
   "outputs": [
    {
     "name": "stderr",
     "output_type": "stream",
     "text": [
      "WARNING: Logging before flag parsing goes to stderr.\n",
      "W1227 05:34:16.260828 140240172037952 deprecation_wrapper.py:119] From /usr/local/lib/python3.6/dist-packages/keras/backend/tensorflow_backend.py:74: The name tf.get_default_graph is deprecated. Please use tf.compat.v1.get_default_graph instead.\n",
      "\n",
      "W1227 05:34:16.785135 140240172037952 deprecation_wrapper.py:119] From /usr/local/lib/python3.6/dist-packages/keras/backend/tensorflow_backend.py:517: The name tf.placeholder is deprecated. Please use tf.compat.v1.placeholder instead.\n",
      "\n",
      "W1227 05:34:16.884410 140240172037952 deprecation_wrapper.py:119] From /usr/local/lib/python3.6/dist-packages/keras/backend/tensorflow_backend.py:4138: The name tf.random_uniform is deprecated. Please use tf.random.uniform instead.\n",
      "\n",
      "W1227 05:34:16.964165 140240172037952 deprecation_wrapper.py:119] From /usr/local/lib/python3.6/dist-packages/keras/backend/tensorflow_backend.py:133: The name tf.placeholder_with_default is deprecated. Please use tf.compat.v1.placeholder_with_default instead.\n",
      "\n",
      "W1227 05:34:16.973843 140240172037952 deprecation.py:506] From /usr/local/lib/python3.6/dist-packages/keras/backend/tensorflow_backend.py:3445: calling dropout (from tensorflow.python.ops.nn_ops) with keep_prob is deprecated and will be removed in a future version.\n",
      "Instructions for updating:\n",
      "Please use `rate` instead of `keep_prob`. Rate should be set to `rate = 1 - keep_prob`.\n",
      "W1227 05:34:17.073622 140240172037952 deprecation_wrapper.py:119] From /usr/local/lib/python3.6/dist-packages/keras/optimizers.py:790: The name tf.train.Optimizer is deprecated. Please use tf.compat.v1.train.Optimizer instead.\n",
      "\n",
      "W1227 05:34:17.918421 140240172037952 deprecation_wrapper.py:119] From /usr/local/lib/python3.6/dist-packages/keras/backend/tensorflow_backend.py:986: The name tf.assign_add is deprecated. Please use tf.compat.v1.assign_add instead.\n",
      "\n"
     ]
    },
    {
     "data": {
      "application/vnd.jupyter.widget-view+json": {
       "model_id": "411f256e855446259d2eb792f4ab203a",
       "version_major": 2,
       "version_minor": 0
      },
      "text/plain": [
       "HBox(children=(FloatProgress(value=0.0, description='Training', style=ProgressStyle(description_width='initial…"
      ]
     },
     "metadata": {},
     "output_type": "display_data"
    },
    {
     "data": {
      "application/vnd.jupyter.widget-view+json": {
       "model_id": "",
       "version_major": 2,
       "version_minor": 0
      },
      "text/plain": [
       "HBox(children=(FloatProgress(value=0.0, description='Epoch 0', max=53503.0, style=ProgressStyle(description_wi…"
      ]
     },
     "metadata": {},
     "output_type": "display_data"
    },
    {
     "name": "stdout",
     "output_type": "stream",
     "text": [
      "\n",
      "Epoch 00001: val_mean_absolute_error improved from inf to 21.59024, saving model to assets_LR/model6.h5\n"
     ]
    },
    {
     "data": {
      "application/vnd.jupyter.widget-view+json": {
       "model_id": "",
       "version_major": 2,
       "version_minor": 0
      },
      "text/plain": [
       "HBox(children=(FloatProgress(value=0.0, description='Epoch 1', max=53503.0, style=ProgressStyle(description_wi…"
      ]
     },
     "metadata": {},
     "output_type": "display_data"
    },
    {
     "name": "stdout",
     "output_type": "stream",
     "text": [
      "\n",
      "Epoch 00002: val_mean_absolute_error improved from 21.59024 to 19.86492, saving model to assets_LR/model6.h5\n"
     ]
    },
    {
     "data": {
      "application/vnd.jupyter.widget-view+json": {
       "model_id": "",
       "version_major": 2,
       "version_minor": 0
      },
      "text/plain": [
       "HBox(children=(FloatProgress(value=0.0, description='Epoch 2', max=53503.0, style=ProgressStyle(description_wi…"
      ]
     },
     "metadata": {},
     "output_type": "display_data"
    },
    {
     "name": "stdout",
     "output_type": "stream",
     "text": [
      "\n",
      "Epoch 00003: val_mean_absolute_error improved from 19.86492 to 16.72152, saving model to assets_LR/model6.h5\n"
     ]
    },
    {
     "data": {
      "application/vnd.jupyter.widget-view+json": {
       "model_id": "",
       "version_major": 2,
       "version_minor": 0
      },
      "text/plain": [
       "HBox(children=(FloatProgress(value=0.0, description='Epoch 3', max=53503.0, style=ProgressStyle(description_wi…"
      ]
     },
     "metadata": {},
     "output_type": "display_data"
    },
    {
     "name": "stdout",
     "output_type": "stream",
     "text": [
      "\n",
      "Epoch 00004: val_mean_absolute_error improved from 16.72152 to 16.49417, saving model to assets_LR/model6.h5\n"
     ]
    },
    {
     "data": {
      "application/vnd.jupyter.widget-view+json": {
       "model_id": "",
       "version_major": 2,
       "version_minor": 0
      },
      "text/plain": [
       "HBox(children=(FloatProgress(value=0.0, description='Epoch 4', max=53503.0, style=ProgressStyle(description_wi…"
      ]
     },
     "metadata": {},
     "output_type": "display_data"
    },
    {
     "name": "stdout",
     "output_type": "stream",
     "text": [
      "\n",
      "Epoch 00005: val_mean_absolute_error did not improve from 16.49417\n"
     ]
    },
    {
     "data": {
      "application/vnd.jupyter.widget-view+json": {
       "model_id": "",
       "version_major": 2,
       "version_minor": 0
      },
      "text/plain": [
       "HBox(children=(FloatProgress(value=0.0, description='Epoch 5', max=53503.0, style=ProgressStyle(description_wi…"
      ]
     },
     "metadata": {},
     "output_type": "display_data"
    },
    {
     "name": "stdout",
     "output_type": "stream",
     "text": [
      "\n",
      "Epoch 00006: val_mean_absolute_error improved from 16.49417 to 15.70258, saving model to assets_LR/model6.h5\n"
     ]
    },
    {
     "data": {
      "application/vnd.jupyter.widget-view+json": {
       "model_id": "",
       "version_major": 2,
       "version_minor": 0
      },
      "text/plain": [
       "HBox(children=(FloatProgress(value=0.0, description='Epoch 6', max=53503.0, style=ProgressStyle(description_wi…"
      ]
     },
     "metadata": {},
     "output_type": "display_data"
    },
    {
     "name": "stdout",
     "output_type": "stream",
     "text": [
      "\n",
      "Epoch 00007: val_mean_absolute_error did not improve from 15.70258\n"
     ]
    },
    {
     "data": {
      "application/vnd.jupyter.widget-view+json": {
       "model_id": "",
       "version_major": 2,
       "version_minor": 0
      },
      "text/plain": [
       "HBox(children=(FloatProgress(value=0.0, description='Epoch 7', max=53503.0, style=ProgressStyle(description_wi…"
      ]
     },
     "metadata": {},
     "output_type": "display_data"
    },
    {
     "name": "stdout",
     "output_type": "stream",
     "text": [
      "\n",
      "Epoch 00008: val_mean_absolute_error did not improve from 15.70258\n"
     ]
    },
    {
     "data": {
      "application/vnd.jupyter.widget-view+json": {
       "model_id": "",
       "version_major": 2,
       "version_minor": 0
      },
      "text/plain": [
       "HBox(children=(FloatProgress(value=0.0, description='Epoch 8', max=53503.0, style=ProgressStyle(description_wi…"
      ]
     },
     "metadata": {},
     "output_type": "display_data"
    },
    {
     "name": "stdout",
     "output_type": "stream",
     "text": [
      "\n",
      "Epoch 00009: val_mean_absolute_error did not improve from 15.70258\n"
     ]
    },
    {
     "data": {
      "application/vnd.jupyter.widget-view+json": {
       "model_id": "",
       "version_major": 2,
       "version_minor": 0
      },
      "text/plain": [
       "HBox(children=(FloatProgress(value=0.0, description='Epoch 9', max=53503.0, style=ProgressStyle(description_wi…"
      ]
     },
     "metadata": {},
     "output_type": "display_data"
    },
    {
     "name": "stdout",
     "output_type": "stream",
     "text": [
      "\n",
      "Epoch 00010: val_mean_absolute_error improved from 15.70258 to 15.49753, saving model to assets_LR/model6.h5\n"
     ]
    },
    {
     "data": {
      "application/vnd.jupyter.widget-view+json": {
       "model_id": "",
       "version_major": 2,
       "version_minor": 0
      },
      "text/plain": [
       "HBox(children=(FloatProgress(value=0.0, description='Epoch 10', max=53503.0, style=ProgressStyle(description_w…"
      ]
     },
     "metadata": {},
     "output_type": "display_data"
    },
    {
     "name": "stdout",
     "output_type": "stream",
     "text": [
      "\n",
      "Epoch 00011: val_mean_absolute_error improved from 15.49753 to 15.35407, saving model to assets_LR/model6.h5\n"
     ]
    },
    {
     "data": {
      "application/vnd.jupyter.widget-view+json": {
       "model_id": "",
       "version_major": 2,
       "version_minor": 0
      },
      "text/plain": [
       "HBox(children=(FloatProgress(value=0.0, description='Epoch 11', max=53503.0, style=ProgressStyle(description_w…"
      ]
     },
     "metadata": {},
     "output_type": "display_data"
    },
    {
     "name": "stdout",
     "output_type": "stream",
     "text": [
      "\n",
      "Epoch 00012: val_mean_absolute_error did not improve from 15.35407\n"
     ]
    },
    {
     "data": {
      "application/vnd.jupyter.widget-view+json": {
       "model_id": "",
       "version_major": 2,
       "version_minor": 0
      },
      "text/plain": [
       "HBox(children=(FloatProgress(value=0.0, description='Epoch 12', max=53503.0, style=ProgressStyle(description_w…"
      ]
     },
     "metadata": {},
     "output_type": "display_data"
    },
    {
     "name": "stdout",
     "output_type": "stream",
     "text": [
      "\n",
      "Epoch 00013: val_mean_absolute_error did not improve from 15.35407\n"
     ]
    },
    {
     "data": {
      "application/vnd.jupyter.widget-view+json": {
       "model_id": "",
       "version_major": 2,
       "version_minor": 0
      },
      "text/plain": [
       "HBox(children=(FloatProgress(value=0.0, description='Epoch 13', max=53503.0, style=ProgressStyle(description_w…"
      ]
     },
     "metadata": {},
     "output_type": "display_data"
    },
    {
     "name": "stdout",
     "output_type": "stream",
     "text": [
      "\n",
      "Epoch 00014: val_mean_absolute_error did not improve from 15.35407\n"
     ]
    },
    {
     "data": {
      "application/vnd.jupyter.widget-view+json": {
       "model_id": "",
       "version_major": 2,
       "version_minor": 0
      },
      "text/plain": [
       "HBox(children=(FloatProgress(value=0.0, description='Epoch 14', max=53503.0, style=ProgressStyle(description_w…"
      ]
     },
     "metadata": {},
     "output_type": "display_data"
    },
    {
     "name": "stdout",
     "output_type": "stream",
     "text": [
      "\n",
      "Epoch 00015: val_mean_absolute_error did not improve from 15.35407\n"
     ]
    },
    {
     "data": {
      "application/vnd.jupyter.widget-view+json": {
       "model_id": "",
       "version_major": 2,
       "version_minor": 0
      },
      "text/plain": [
       "HBox(children=(FloatProgress(value=0.0, description='Epoch 15', max=53503.0, style=ProgressStyle(description_w…"
      ]
     },
     "metadata": {},
     "output_type": "display_data"
    },
    {
     "name": "stdout",
     "output_type": "stream",
     "text": [
      "\n",
      "Epoch 00016: val_mean_absolute_error did not improve from 15.35407\n"
     ]
    },
    {
     "data": {
      "application/vnd.jupyter.widget-view+json": {
       "model_id": "",
       "version_major": 2,
       "version_minor": 0
      },
      "text/plain": [
       "HBox(children=(FloatProgress(value=0.0, description='Epoch 16', max=53503.0, style=ProgressStyle(description_w…"
      ]
     },
     "metadata": {},
     "output_type": "display_data"
    },
    {
     "name": "stdout",
     "output_type": "stream",
     "text": [
      "\n",
      "Epoch 00017: val_mean_absolute_error improved from 15.35407 to 14.83273, saving model to assets_LR/model6.h5\n"
     ]
    },
    {
     "data": {
      "application/vnd.jupyter.widget-view+json": {
       "model_id": "",
       "version_major": 2,
       "version_minor": 0
      },
      "text/plain": [
       "HBox(children=(FloatProgress(value=0.0, description='Epoch 17', max=53503.0, style=ProgressStyle(description_w…"
      ]
     },
     "metadata": {},
     "output_type": "display_data"
    },
    {
     "name": "stdout",
     "output_type": "stream",
     "text": [
      "\n",
      "Epoch 00018: val_mean_absolute_error did not improve from 14.83273\n"
     ]
    },
    {
     "data": {
      "application/vnd.jupyter.widget-view+json": {
       "model_id": "",
       "version_major": 2,
       "version_minor": 0
      },
      "text/plain": [
       "HBox(children=(FloatProgress(value=0.0, description='Epoch 18', max=53503.0, style=ProgressStyle(description_w…"
      ]
     },
     "metadata": {},
     "output_type": "display_data"
    },
    {
     "name": "stdout",
     "output_type": "stream",
     "text": [
      "\n",
      "Epoch 00019: val_mean_absolute_error improved from 14.83273 to 14.82130, saving model to assets_LR/model6.h5\n"
     ]
    },
    {
     "data": {
      "application/vnd.jupyter.widget-view+json": {
       "model_id": "",
       "version_major": 2,
       "version_minor": 0
      },
      "text/plain": [
       "HBox(children=(FloatProgress(value=0.0, description='Epoch 19', max=53503.0, style=ProgressStyle(description_w…"
      ]
     },
     "metadata": {},
     "output_type": "display_data"
    },
    {
     "name": "stdout",
     "output_type": "stream",
     "text": [
      "\n",
      "Epoch 00020: val_mean_absolute_error did not improve from 14.82130\n"
     ]
    },
    {
     "data": {
      "application/vnd.jupyter.widget-view+json": {
       "model_id": "",
       "version_major": 2,
       "version_minor": 0
      },
      "text/plain": [
       "HBox(children=(FloatProgress(value=0.0, description='Epoch 20', max=53503.0, style=ProgressStyle(description_w…"
      ]
     },
     "metadata": {},
     "output_type": "display_data"
    },
    {
     "name": "stdout",
     "output_type": "stream",
     "text": [
      "\n",
      "Epoch 00021: val_mean_absolute_error improved from 14.82130 to 14.38394, saving model to assets_LR/model6.h5\n"
     ]
    },
    {
     "data": {
      "application/vnd.jupyter.widget-view+json": {
       "model_id": "",
       "version_major": 2,
       "version_minor": 0
      },
      "text/plain": [
       "HBox(children=(FloatProgress(value=0.0, description='Epoch 21', max=53503.0, style=ProgressStyle(description_w…"
      ]
     },
     "metadata": {},
     "output_type": "display_data"
    },
    {
     "name": "stdout",
     "output_type": "stream",
     "text": [
      "\n",
      "Epoch 00022: val_mean_absolute_error did not improve from 14.38394\n"
     ]
    },
    {
     "data": {
      "application/vnd.jupyter.widget-view+json": {
       "model_id": "",
       "version_major": 2,
       "version_minor": 0
      },
      "text/plain": [
       "HBox(children=(FloatProgress(value=0.0, description='Epoch 22', max=53503.0, style=ProgressStyle(description_w…"
      ]
     },
     "metadata": {},
     "output_type": "display_data"
    },
    {
     "name": "stdout",
     "output_type": "stream",
     "text": [
      "\n",
      "Epoch 00023: val_mean_absolute_error did not improve from 14.38394\n"
     ]
    },
    {
     "data": {
      "application/vnd.jupyter.widget-view+json": {
       "model_id": "",
       "version_major": 2,
       "version_minor": 0
      },
      "text/plain": [
       "HBox(children=(FloatProgress(value=0.0, description='Epoch 23', max=53503.0, style=ProgressStyle(description_w…"
      ]
     },
     "metadata": {},
     "output_type": "display_data"
    },
    {
     "name": "stdout",
     "output_type": "stream",
     "text": [
      "\n",
      "Epoch 00024: val_mean_absolute_error did not improve from 14.38394\n"
     ]
    },
    {
     "data": {
      "application/vnd.jupyter.widget-view+json": {
       "model_id": "",
       "version_major": 2,
       "version_minor": 0
      },
      "text/plain": [
       "HBox(children=(FloatProgress(value=0.0, description='Epoch 24', max=53503.0, style=ProgressStyle(description_w…"
      ]
     },
     "metadata": {},
     "output_type": "display_data"
    },
    {
     "name": "stdout",
     "output_type": "stream",
     "text": [
      "\n",
      "Epoch 00025: val_mean_absolute_error did not improve from 14.38394\n"
     ]
    },
    {
     "data": {
      "application/vnd.jupyter.widget-view+json": {
       "model_id": "",
       "version_major": 2,
       "version_minor": 0
      },
      "text/plain": [
       "HBox(children=(FloatProgress(value=0.0, description='Epoch 25', max=53503.0, style=ProgressStyle(description_w…"
      ]
     },
     "metadata": {},
     "output_type": "display_data"
    },
    {
     "name": "stdout",
     "output_type": "stream",
     "text": [
      "\n",
      "Epoch 00026: val_mean_absolute_error did not improve from 14.38394\n"
     ]
    },
    {
     "data": {
      "application/vnd.jupyter.widget-view+json": {
       "model_id": "",
       "version_major": 2,
       "version_minor": 0
      },
      "text/plain": [
       "HBox(children=(FloatProgress(value=0.0, description='Epoch 26', max=53503.0, style=ProgressStyle(description_w…"
      ]
     },
     "metadata": {},
     "output_type": "display_data"
    },
    {
     "name": "stdout",
     "output_type": "stream",
     "text": [
      "\n",
      "Epoch 00027: val_mean_absolute_error did not improve from 14.38394\n"
     ]
    },
    {
     "data": {
      "application/vnd.jupyter.widget-view+json": {
       "model_id": "",
       "version_major": 2,
       "version_minor": 0
      },
      "text/plain": [
       "HBox(children=(FloatProgress(value=0.0, description='Epoch 27', max=53503.0, style=ProgressStyle(description_w…"
      ]
     },
     "metadata": {},
     "output_type": "display_data"
    },
    {
     "name": "stdout",
     "output_type": "stream",
     "text": [
      "\n",
      "Epoch 00028: val_mean_absolute_error did not improve from 14.38394\n"
     ]
    },
    {
     "data": {
      "application/vnd.jupyter.widget-view+json": {
       "model_id": "",
       "version_major": 2,
       "version_minor": 0
      },
      "text/plain": [
       "HBox(children=(FloatProgress(value=0.0, description='Epoch 28', max=53503.0, style=ProgressStyle(description_w…"
      ]
     },
     "metadata": {},
     "output_type": "display_data"
    },
    {
     "name": "stdout",
     "output_type": "stream",
     "text": [
      "\n",
      "Epoch 00029: val_mean_absolute_error did not improve from 14.38394\n"
     ]
    },
    {
     "data": {
      "application/vnd.jupyter.widget-view+json": {
       "model_id": "",
       "version_major": 2,
       "version_minor": 0
      },
      "text/plain": [
       "HBox(children=(FloatProgress(value=0.0, description='Epoch 29', max=53503.0, style=ProgressStyle(description_w…"
      ]
     },
     "metadata": {},
     "output_type": "display_data"
    },
    {
     "name": "stdout",
     "output_type": "stream",
     "text": [
      "\n",
      "Epoch 00030: val_mean_absolute_error did not improve from 14.38394\n"
     ]
    },
    {
     "data": {
      "application/vnd.jupyter.widget-view+json": {
       "model_id": "",
       "version_major": 2,
       "version_minor": 0
      },
      "text/plain": [
       "HBox(children=(FloatProgress(value=0.0, description='Epoch 30', max=53503.0, style=ProgressStyle(description_w…"
      ]
     },
     "metadata": {},
     "output_type": "display_data"
    },
    {
     "name": "stdout",
     "output_type": "stream",
     "text": [
      "\n",
      "Epoch 00031: val_mean_absolute_error did not improve from 14.38394\n"
     ]
    },
    {
     "data": {
      "application/vnd.jupyter.widget-view+json": {
       "model_id": "",
       "version_major": 2,
       "version_minor": 0
      },
      "text/plain": [
       "HBox(children=(FloatProgress(value=0.0, description='Epoch 31', max=53503.0, style=ProgressStyle(description_w…"
      ]
     },
     "metadata": {},
     "output_type": "display_data"
    },
    {
     "name": "stdout",
     "output_type": "stream",
     "text": [
      "\n",
      "Epoch 00032: val_mean_absolute_error did not improve from 14.38394\n"
     ]
    },
    {
     "data": {
      "application/vnd.jupyter.widget-view+json": {
       "model_id": "",
       "version_major": 2,
       "version_minor": 0
      },
      "text/plain": [
       "HBox(children=(FloatProgress(value=0.0, description='Epoch 32', max=53503.0, style=ProgressStyle(description_w…"
      ]
     },
     "metadata": {},
     "output_type": "display_data"
    },
    {
     "name": "stdout",
     "output_type": "stream",
     "text": [
      "\n",
      "Epoch 00033: val_mean_absolute_error did not improve from 14.38394\n"
     ]
    },
    {
     "data": {
      "application/vnd.jupyter.widget-view+json": {
       "model_id": "",
       "version_major": 2,
       "version_minor": 0
      },
      "text/plain": [
       "HBox(children=(FloatProgress(value=0.0, description='Epoch 33', max=53503.0, style=ProgressStyle(description_w…"
      ]
     },
     "metadata": {},
     "output_type": "display_data"
    },
    {
     "name": "stdout",
     "output_type": "stream",
     "text": [
      "\n",
      "Epoch 00034: val_mean_absolute_error did not improve from 14.38394\n"
     ]
    },
    {
     "data": {
      "application/vnd.jupyter.widget-view+json": {
       "model_id": "",
       "version_major": 2,
       "version_minor": 0
      },
      "text/plain": [
       "HBox(children=(FloatProgress(value=0.0, description='Epoch 34', max=53503.0, style=ProgressStyle(description_w…"
      ]
     },
     "metadata": {},
     "output_type": "display_data"
    },
    {
     "name": "stdout",
     "output_type": "stream",
     "text": [
      "\n",
      "Epoch 00035: val_mean_absolute_error did not improve from 14.38394\n"
     ]
    },
    {
     "data": {
      "application/vnd.jupyter.widget-view+json": {
       "model_id": "",
       "version_major": 2,
       "version_minor": 0
      },
      "text/plain": [
       "HBox(children=(FloatProgress(value=0.0, description='Epoch 35', max=53503.0, style=ProgressStyle(description_w…"
      ]
     },
     "metadata": {},
     "output_type": "display_data"
    },
    {
     "name": "stdout",
     "output_type": "stream",
     "text": [
      "\n",
      "Epoch 00036: val_mean_absolute_error did not improve from 14.38394\n"
     ]
    },
    {
     "data": {
      "application/vnd.jupyter.widget-view+json": {
       "model_id": "",
       "version_major": 2,
       "version_minor": 0
      },
      "text/plain": [
       "HBox(children=(FloatProgress(value=0.0, description='Epoch 36', max=53503.0, style=ProgressStyle(description_w…"
      ]
     },
     "metadata": {},
     "output_type": "display_data"
    },
    {
     "name": "stdout",
     "output_type": "stream",
     "text": [
      "\n",
      "Epoch 00037: val_mean_absolute_error did not improve from 14.38394\n"
     ]
    },
    {
     "data": {
      "application/vnd.jupyter.widget-view+json": {
       "model_id": "",
       "version_major": 2,
       "version_minor": 0
      },
      "text/plain": [
       "HBox(children=(FloatProgress(value=0.0, description='Epoch 37', max=53503.0, style=ProgressStyle(description_w…"
      ]
     },
     "metadata": {},
     "output_type": "display_data"
    },
    {
     "name": "stdout",
     "output_type": "stream",
     "text": [
      "\n",
      "Epoch 00038: val_mean_absolute_error improved from 14.38394 to 14.38357, saving model to assets_LR/model6.h5\n"
     ]
    },
    {
     "data": {
      "application/vnd.jupyter.widget-view+json": {
       "model_id": "",
       "version_major": 2,
       "version_minor": 0
      },
      "text/plain": [
       "HBox(children=(FloatProgress(value=0.0, description='Epoch 38', max=53503.0, style=ProgressStyle(description_w…"
      ]
     },
     "metadata": {},
     "output_type": "display_data"
    },
    {
     "name": "stdout",
     "output_type": "stream",
     "text": [
      "\n",
      "Epoch 00039: val_mean_absolute_error did not improve from 14.38357\n"
     ]
    },
    {
     "data": {
      "application/vnd.jupyter.widget-view+json": {
       "model_id": "",
       "version_major": 2,
       "version_minor": 0
      },
      "text/plain": [
       "HBox(children=(FloatProgress(value=0.0, description='Epoch 39', max=53503.0, style=ProgressStyle(description_w…"
      ]
     },
     "metadata": {},
     "output_type": "display_data"
    },
    {
     "name": "stdout",
     "output_type": "stream",
     "text": [
      "\n",
      "Epoch 00040: val_mean_absolute_error did not improve from 14.38357\n"
     ]
    },
    {
     "data": {
      "application/vnd.jupyter.widget-view+json": {
       "model_id": "",
       "version_major": 2,
       "version_minor": 0
      },
      "text/plain": [
       "HBox(children=(FloatProgress(value=0.0, description='Epoch 40', max=53503.0, style=ProgressStyle(description_w…"
      ]
     },
     "metadata": {},
     "output_type": "display_data"
    },
    {
     "name": "stdout",
     "output_type": "stream",
     "text": [
      "\n",
      "Epoch 00041: val_mean_absolute_error did not improve from 14.38357\n"
     ]
    },
    {
     "data": {
      "application/vnd.jupyter.widget-view+json": {
       "model_id": "",
       "version_major": 2,
       "version_minor": 0
      },
      "text/plain": [
       "HBox(children=(FloatProgress(value=0.0, description='Epoch 41', max=53503.0, style=ProgressStyle(description_w…"
      ]
     },
     "metadata": {},
     "output_type": "display_data"
    },
    {
     "name": "stdout",
     "output_type": "stream",
     "text": [
      "\n",
      "Epoch 00042: val_mean_absolute_error did not improve from 14.38357\n"
     ]
    },
    {
     "data": {
      "application/vnd.jupyter.widget-view+json": {
       "model_id": "",
       "version_major": 2,
       "version_minor": 0
      },
      "text/plain": [
       "HBox(children=(FloatProgress(value=0.0, description='Epoch 42', max=53503.0, style=ProgressStyle(description_w…"
      ]
     },
     "metadata": {},
     "output_type": "display_data"
    },
    {
     "name": "stdout",
     "output_type": "stream",
     "text": [
      "\n",
      "Epoch 00043: val_mean_absolute_error did not improve from 14.38357\n"
     ]
    },
    {
     "data": {
      "application/vnd.jupyter.widget-view+json": {
       "model_id": "",
       "version_major": 2,
       "version_minor": 0
      },
      "text/plain": [
       "HBox(children=(FloatProgress(value=0.0, description='Epoch 43', max=53503.0, style=ProgressStyle(description_w…"
      ]
     },
     "metadata": {},
     "output_type": "display_data"
    },
    {
     "name": "stdout",
     "output_type": "stream",
     "text": [
      "\n",
      "Epoch 00044: val_mean_absolute_error did not improve from 14.38357\n"
     ]
    },
    {
     "data": {
      "application/vnd.jupyter.widget-view+json": {
       "model_id": "",
       "version_major": 2,
       "version_minor": 0
      },
      "text/plain": [
       "HBox(children=(FloatProgress(value=0.0, description='Epoch 44', max=53503.0, style=ProgressStyle(description_w…"
      ]
     },
     "metadata": {},
     "output_type": "display_data"
    },
    {
     "name": "stdout",
     "output_type": "stream",
     "text": [
      "\n",
      "Epoch 00045: val_mean_absolute_error did not improve from 14.38357\n"
     ]
    },
    {
     "data": {
      "application/vnd.jupyter.widget-view+json": {
       "model_id": "",
       "version_major": 2,
       "version_minor": 0
      },
      "text/plain": [
       "HBox(children=(FloatProgress(value=0.0, description='Epoch 45', max=53503.0, style=ProgressStyle(description_w…"
      ]
     },
     "metadata": {},
     "output_type": "display_data"
    },
    {
     "name": "stdout",
     "output_type": "stream",
     "text": [
      "\n",
      "Epoch 00046: val_mean_absolute_error did not improve from 14.38357\n"
     ]
    },
    {
     "data": {
      "application/vnd.jupyter.widget-view+json": {
       "model_id": "",
       "version_major": 2,
       "version_minor": 0
      },
      "text/plain": [
       "HBox(children=(FloatProgress(value=0.0, description='Epoch 46', max=53503.0, style=ProgressStyle(description_w…"
      ]
     },
     "metadata": {},
     "output_type": "display_data"
    },
    {
     "name": "stdout",
     "output_type": "stream",
     "text": [
      "\n",
      "Epoch 00047: val_mean_absolute_error did not improve from 14.38357\n"
     ]
    },
    {
     "data": {
      "application/vnd.jupyter.widget-view+json": {
       "model_id": "",
       "version_major": 2,
       "version_minor": 0
      },
      "text/plain": [
       "HBox(children=(FloatProgress(value=0.0, description='Epoch 47', max=53503.0, style=ProgressStyle(description_w…"
      ]
     },
     "metadata": {},
     "output_type": "display_data"
    },
    {
     "name": "stdout",
     "output_type": "stream",
     "text": [
      "\n",
      "Epoch 00048: val_mean_absolute_error did not improve from 14.38357\n"
     ]
    },
    {
     "data": {
      "application/vnd.jupyter.widget-view+json": {
       "model_id": "",
       "version_major": 2,
       "version_minor": 0
      },
      "text/plain": [
       "HBox(children=(FloatProgress(value=0.0, description='Epoch 48', max=53503.0, style=ProgressStyle(description_w…"
      ]
     },
     "metadata": {},
     "output_type": "display_data"
    },
    {
     "name": "stdout",
     "output_type": "stream",
     "text": [
      "\n",
      "Epoch 00049: val_mean_absolute_error did not improve from 14.38357\n"
     ]
    },
    {
     "data": {
      "application/vnd.jupyter.widget-view+json": {
       "model_id": "",
       "version_major": 2,
       "version_minor": 0
      },
      "text/plain": [
       "HBox(children=(FloatProgress(value=0.0, description='Epoch 49', max=53503.0, style=ProgressStyle(description_w…"
      ]
     },
     "metadata": {},
     "output_type": "display_data"
    },
    {
     "name": "stdout",
     "output_type": "stream",
     "text": [
      "\n",
      "Epoch 00050: val_mean_absolute_error did not improve from 14.38357\n"
     ]
    },
    {
     "data": {
      "application/vnd.jupyter.widget-view+json": {
       "model_id": "",
       "version_major": 2,
       "version_minor": 0
      },
      "text/plain": [
       "HBox(children=(FloatProgress(value=0.0, description='Epoch 50', max=53503.0, style=ProgressStyle(description_w…"
      ]
     },
     "metadata": {},
     "output_type": "display_data"
    },
    {
     "name": "stdout",
     "output_type": "stream",
     "text": [
      "\n",
      "Epoch 00051: val_mean_absolute_error did not improve from 14.38357\n"
     ]
    },
    {
     "data": {
      "application/vnd.jupyter.widget-view+json": {
       "model_id": "",
       "version_major": 2,
       "version_minor": 0
      },
      "text/plain": [
       "HBox(children=(FloatProgress(value=0.0, description='Epoch 51', max=53503.0, style=ProgressStyle(description_w…"
      ]
     },
     "metadata": {},
     "output_type": "display_data"
    },
    {
     "name": "stdout",
     "output_type": "stream",
     "text": [
      "\n",
      "Epoch 00052: val_mean_absolute_error did not improve from 14.38357\n"
     ]
    },
    {
     "data": {
      "application/vnd.jupyter.widget-view+json": {
       "model_id": "",
       "version_major": 2,
       "version_minor": 0
      },
      "text/plain": [
       "HBox(children=(FloatProgress(value=0.0, description='Epoch 52', max=53503.0, style=ProgressStyle(description_w…"
      ]
     },
     "metadata": {},
     "output_type": "display_data"
    },
    {
     "name": "stdout",
     "output_type": "stream",
     "text": [
      "\n",
      "Epoch 00053: val_mean_absolute_error did not improve from 14.38357\n"
     ]
    },
    {
     "data": {
      "application/vnd.jupyter.widget-view+json": {
       "model_id": "",
       "version_major": 2,
       "version_minor": 0
      },
      "text/plain": [
       "HBox(children=(FloatProgress(value=0.0, description='Epoch 53', max=53503.0, style=ProgressStyle(description_w…"
      ]
     },
     "metadata": {},
     "output_type": "display_data"
    },
    {
     "name": "stdout",
     "output_type": "stream",
     "text": [
      "\n",
      "Epoch 00054: val_mean_absolute_error did not improve from 14.38357\n"
     ]
    },
    {
     "data": {
      "application/vnd.jupyter.widget-view+json": {
       "model_id": "",
       "version_major": 2,
       "version_minor": 0
      },
      "text/plain": [
       "HBox(children=(FloatProgress(value=0.0, description='Epoch 54', max=53503.0, style=ProgressStyle(description_w…"
      ]
     },
     "metadata": {},
     "output_type": "display_data"
    },
    {
     "name": "stdout",
     "output_type": "stream",
     "text": [
      "\n",
      "Epoch 00055: val_mean_absolute_error did not improve from 14.38357\n"
     ]
    },
    {
     "data": {
      "application/vnd.jupyter.widget-view+json": {
       "model_id": "",
       "version_major": 2,
       "version_minor": 0
      },
      "text/plain": [
       "HBox(children=(FloatProgress(value=0.0, description='Epoch 55', max=53503.0, style=ProgressStyle(description_w…"
      ]
     },
     "metadata": {},
     "output_type": "display_data"
    },
    {
     "name": "stdout",
     "output_type": "stream",
     "text": [
      "\n",
      "Epoch 00056: val_mean_absolute_error did not improve from 14.38357\n"
     ]
    },
    {
     "data": {
      "application/vnd.jupyter.widget-view+json": {
       "model_id": "",
       "version_major": 2,
       "version_minor": 0
      },
      "text/plain": [
       "HBox(children=(FloatProgress(value=0.0, description='Epoch 56', max=53503.0, style=ProgressStyle(description_w…"
      ]
     },
     "metadata": {},
     "output_type": "display_data"
    },
    {
     "name": "stdout",
     "output_type": "stream",
     "text": [
      "\n",
      "Epoch 00057: val_mean_absolute_error did not improve from 14.38357\n"
     ]
    },
    {
     "data": {
      "application/vnd.jupyter.widget-view+json": {
       "model_id": "",
       "version_major": 2,
       "version_minor": 0
      },
      "text/plain": [
       "HBox(children=(FloatProgress(value=0.0, description='Epoch 57', max=53503.0, style=ProgressStyle(description_w…"
      ]
     },
     "metadata": {},
     "output_type": "display_data"
    },
    {
     "name": "stdout",
     "output_type": "stream",
     "text": [
      "\n",
      "Epoch 00058: val_mean_absolute_error did not improve from 14.38357\n"
     ]
    },
    {
     "data": {
      "application/vnd.jupyter.widget-view+json": {
       "model_id": "",
       "version_major": 2,
       "version_minor": 0
      },
      "text/plain": [
       "HBox(children=(FloatProgress(value=0.0, description='Epoch 58', max=53503.0, style=ProgressStyle(description_w…"
      ]
     },
     "metadata": {},
     "output_type": "display_data"
    },
    {
     "name": "stdout",
     "output_type": "stream",
     "text": [
      "\n",
      "Epoch 00059: val_mean_absolute_error improved from 14.38357 to 13.96269, saving model to assets_LR/model6.h5\n"
     ]
    },
    {
     "data": {
      "application/vnd.jupyter.widget-view+json": {
       "model_id": "",
       "version_major": 2,
       "version_minor": 0
      },
      "text/plain": [
       "HBox(children=(FloatProgress(value=0.0, description='Epoch 59', max=53503.0, style=ProgressStyle(description_w…"
      ]
     },
     "metadata": {},
     "output_type": "display_data"
    },
    {
     "name": "stdout",
     "output_type": "stream",
     "text": [
      "\n",
      "Epoch 00060: val_mean_absolute_error did not improve from 13.96269\n"
     ]
    },
    {
     "data": {
      "application/vnd.jupyter.widget-view+json": {
       "model_id": "",
       "version_major": 2,
       "version_minor": 0
      },
      "text/plain": [
       "HBox(children=(FloatProgress(value=0.0, description='Epoch 60', max=53503.0, style=ProgressStyle(description_w…"
      ]
     },
     "metadata": {},
     "output_type": "display_data"
    },
    {
     "name": "stdout",
     "output_type": "stream",
     "text": [
      "\n",
      "Epoch 00061: val_mean_absolute_error did not improve from 13.96269\n"
     ]
    },
    {
     "data": {
      "application/vnd.jupyter.widget-view+json": {
       "model_id": "",
       "version_major": 2,
       "version_minor": 0
      },
      "text/plain": [
       "HBox(children=(FloatProgress(value=0.0, description='Epoch 61', max=53503.0, style=ProgressStyle(description_w…"
      ]
     },
     "metadata": {},
     "output_type": "display_data"
    },
    {
     "name": "stdout",
     "output_type": "stream",
     "text": [
      "\n",
      "Epoch 00062: val_mean_absolute_error did not improve from 13.96269\n"
     ]
    },
    {
     "data": {
      "application/vnd.jupyter.widget-view+json": {
       "model_id": "",
       "version_major": 2,
       "version_minor": 0
      },
      "text/plain": [
       "HBox(children=(FloatProgress(value=0.0, description='Epoch 62', max=53503.0, style=ProgressStyle(description_w…"
      ]
     },
     "metadata": {},
     "output_type": "display_data"
    },
    {
     "name": "stdout",
     "output_type": "stream",
     "text": [
      "\n",
      "Epoch 00063: val_mean_absolute_error improved from 13.96269 to 13.92178, saving model to assets_LR/model6.h5\n"
     ]
    },
    {
     "data": {
      "application/vnd.jupyter.widget-view+json": {
       "model_id": "",
       "version_major": 2,
       "version_minor": 0
      },
      "text/plain": [
       "HBox(children=(FloatProgress(value=0.0, description='Epoch 63', max=53503.0, style=ProgressStyle(description_w…"
      ]
     },
     "metadata": {},
     "output_type": "display_data"
    },
    {
     "name": "stdout",
     "output_type": "stream",
     "text": [
      "\n",
      "Epoch 00064: val_mean_absolute_error did not improve from 13.92178\n"
     ]
    },
    {
     "data": {
      "application/vnd.jupyter.widget-view+json": {
       "model_id": "",
       "version_major": 2,
       "version_minor": 0
      },
      "text/plain": [
       "HBox(children=(FloatProgress(value=0.0, description='Epoch 64', max=53503.0, style=ProgressStyle(description_w…"
      ]
     },
     "metadata": {},
     "output_type": "display_data"
    },
    {
     "name": "stdout",
     "output_type": "stream",
     "text": [
      "\n",
      "Epoch 00065: val_mean_absolute_error did not improve from 13.92178\n"
     ]
    },
    {
     "data": {
      "application/vnd.jupyter.widget-view+json": {
       "model_id": "",
       "version_major": 2,
       "version_minor": 0
      },
      "text/plain": [
       "HBox(children=(FloatProgress(value=0.0, description='Epoch 65', max=53503.0, style=ProgressStyle(description_w…"
      ]
     },
     "metadata": {},
     "output_type": "display_data"
    },
    {
     "name": "stdout",
     "output_type": "stream",
     "text": [
      "\n",
      "Epoch 00066: val_mean_absolute_error did not improve from 13.92178\n"
     ]
    },
    {
     "data": {
      "application/vnd.jupyter.widget-view+json": {
       "model_id": "",
       "version_major": 2,
       "version_minor": 0
      },
      "text/plain": [
       "HBox(children=(FloatProgress(value=0.0, description='Epoch 66', max=53503.0, style=ProgressStyle(description_w…"
      ]
     },
     "metadata": {},
     "output_type": "display_data"
    },
    {
     "name": "stdout",
     "output_type": "stream",
     "text": [
      "\n",
      "Epoch 00067: val_mean_absolute_error did not improve from 13.92178\n"
     ]
    },
    {
     "data": {
      "application/vnd.jupyter.widget-view+json": {
       "model_id": "",
       "version_major": 2,
       "version_minor": 0
      },
      "text/plain": [
       "HBox(children=(FloatProgress(value=0.0, description='Epoch 67', max=53503.0, style=ProgressStyle(description_w…"
      ]
     },
     "metadata": {},
     "output_type": "display_data"
    },
    {
     "name": "stdout",
     "output_type": "stream",
     "text": [
      "\n",
      "Epoch 00068: val_mean_absolute_error did not improve from 13.92178\n"
     ]
    },
    {
     "data": {
      "application/vnd.jupyter.widget-view+json": {
       "model_id": "",
       "version_major": 2,
       "version_minor": 0
      },
      "text/plain": [
       "HBox(children=(FloatProgress(value=0.0, description='Epoch 68', max=53503.0, style=ProgressStyle(description_w…"
      ]
     },
     "metadata": {},
     "output_type": "display_data"
    },
    {
     "name": "stdout",
     "output_type": "stream",
     "text": [
      "\n",
      "Epoch 00069: val_mean_absolute_error improved from 13.92178 to 13.86978, saving model to assets_LR/model6.h5\n"
     ]
    },
    {
     "data": {
      "application/vnd.jupyter.widget-view+json": {
       "model_id": "",
       "version_major": 2,
       "version_minor": 0
      },
      "text/plain": [
       "HBox(children=(FloatProgress(value=0.0, description='Epoch 69', max=53503.0, style=ProgressStyle(description_w…"
      ]
     },
     "metadata": {},
     "output_type": "display_data"
    },
    {
     "name": "stdout",
     "output_type": "stream",
     "text": [
      "\n",
      "Epoch 00070: val_mean_absolute_error did not improve from 13.86978\n"
     ]
    },
    {
     "data": {
      "application/vnd.jupyter.widget-view+json": {
       "model_id": "",
       "version_major": 2,
       "version_minor": 0
      },
      "text/plain": [
       "HBox(children=(FloatProgress(value=0.0, description='Epoch 70', max=53503.0, style=ProgressStyle(description_w…"
      ]
     },
     "metadata": {},
     "output_type": "display_data"
    },
    {
     "name": "stdout",
     "output_type": "stream",
     "text": [
      "\n",
      "Epoch 00071: val_mean_absolute_error did not improve from 13.86978\n"
     ]
    },
    {
     "data": {
      "application/vnd.jupyter.widget-view+json": {
       "model_id": "",
       "version_major": 2,
       "version_minor": 0
      },
      "text/plain": [
       "HBox(children=(FloatProgress(value=0.0, description='Epoch 71', max=53503.0, style=ProgressStyle(description_w…"
      ]
     },
     "metadata": {},
     "output_type": "display_data"
    },
    {
     "name": "stdout",
     "output_type": "stream",
     "text": [
      "\n",
      "Epoch 00072: val_mean_absolute_error did not improve from 13.86978\n"
     ]
    },
    {
     "data": {
      "application/vnd.jupyter.widget-view+json": {
       "model_id": "",
       "version_major": 2,
       "version_minor": 0
      },
      "text/plain": [
       "HBox(children=(FloatProgress(value=0.0, description='Epoch 72', max=53503.0, style=ProgressStyle(description_w…"
      ]
     },
     "metadata": {},
     "output_type": "display_data"
    },
    {
     "name": "stdout",
     "output_type": "stream",
     "text": [
      "\n",
      "Epoch 00073: val_mean_absolute_error did not improve from 13.86978\n"
     ]
    },
    {
     "data": {
      "application/vnd.jupyter.widget-view+json": {
       "model_id": "",
       "version_major": 2,
       "version_minor": 0
      },
      "text/plain": [
       "HBox(children=(FloatProgress(value=0.0, description='Epoch 73', max=53503.0, style=ProgressStyle(description_w…"
      ]
     },
     "metadata": {},
     "output_type": "display_data"
    },
    {
     "name": "stdout",
     "output_type": "stream",
     "text": [
      "\n",
      "Epoch 00074: val_mean_absolute_error did not improve from 13.86978\n"
     ]
    },
    {
     "data": {
      "application/vnd.jupyter.widget-view+json": {
       "model_id": "",
       "version_major": 2,
       "version_minor": 0
      },
      "text/plain": [
       "HBox(children=(FloatProgress(value=0.0, description='Epoch 74', max=53503.0, style=ProgressStyle(description_w…"
      ]
     },
     "metadata": {},
     "output_type": "display_data"
    },
    {
     "name": "stdout",
     "output_type": "stream",
     "text": [
      "\n",
      "Epoch 00075: val_mean_absolute_error did not improve from 13.86978\n"
     ]
    },
    {
     "data": {
      "application/vnd.jupyter.widget-view+json": {
       "model_id": "",
       "version_major": 2,
       "version_minor": 0
      },
      "text/plain": [
       "HBox(children=(FloatProgress(value=0.0, description='Epoch 75', max=53503.0, style=ProgressStyle(description_w…"
      ]
     },
     "metadata": {},
     "output_type": "display_data"
    },
    {
     "name": "stdout",
     "output_type": "stream",
     "text": [
      "\n",
      "Epoch 00076: val_mean_absolute_error improved from 13.86978 to 13.84121, saving model to assets_LR/model6.h5\n"
     ]
    },
    {
     "data": {
      "application/vnd.jupyter.widget-view+json": {
       "model_id": "",
       "version_major": 2,
       "version_minor": 0
      },
      "text/plain": [
       "HBox(children=(FloatProgress(value=0.0, description='Epoch 76', max=53503.0, style=ProgressStyle(description_w…"
      ]
     },
     "metadata": {},
     "output_type": "display_data"
    },
    {
     "name": "stdout",
     "output_type": "stream",
     "text": [
      "\n",
      "Epoch 00077: val_mean_absolute_error did not improve from 13.84121\n"
     ]
    },
    {
     "data": {
      "application/vnd.jupyter.widget-view+json": {
       "model_id": "",
       "version_major": 2,
       "version_minor": 0
      },
      "text/plain": [
       "HBox(children=(FloatProgress(value=0.0, description='Epoch 77', max=53503.0, style=ProgressStyle(description_w…"
      ]
     },
     "metadata": {},
     "output_type": "display_data"
    },
    {
     "name": "stdout",
     "output_type": "stream",
     "text": [
      "\n",
      "Epoch 00078: val_mean_absolute_error did not improve from 13.84121\n"
     ]
    },
    {
     "data": {
      "application/vnd.jupyter.widget-view+json": {
       "model_id": "",
       "version_major": 2,
       "version_minor": 0
      },
      "text/plain": [
       "HBox(children=(FloatProgress(value=0.0, description='Epoch 78', max=53503.0, style=ProgressStyle(description_w…"
      ]
     },
     "metadata": {},
     "output_type": "display_data"
    },
    {
     "name": "stdout",
     "output_type": "stream",
     "text": [
      "\n",
      "Epoch 00079: val_mean_absolute_error did not improve from 13.84121\n"
     ]
    },
    {
     "data": {
      "application/vnd.jupyter.widget-view+json": {
       "model_id": "",
       "version_major": 2,
       "version_minor": 0
      },
      "text/plain": [
       "HBox(children=(FloatProgress(value=0.0, description='Epoch 79', max=53503.0, style=ProgressStyle(description_w…"
      ]
     },
     "metadata": {},
     "output_type": "display_data"
    },
    {
     "name": "stdout",
     "output_type": "stream",
     "text": [
      "\n",
      "Epoch 00080: val_mean_absolute_error did not improve from 13.84121\n"
     ]
    },
    {
     "data": {
      "application/vnd.jupyter.widget-view+json": {
       "model_id": "",
       "version_major": 2,
       "version_minor": 0
      },
      "text/plain": [
       "HBox(children=(FloatProgress(value=0.0, description='Epoch 80', max=53503.0, style=ProgressStyle(description_w…"
      ]
     },
     "metadata": {},
     "output_type": "display_data"
    },
    {
     "name": "stdout",
     "output_type": "stream",
     "text": [
      "\n",
      "Epoch 00081: val_mean_absolute_error did not improve from 13.84121\n"
     ]
    },
    {
     "data": {
      "application/vnd.jupyter.widget-view+json": {
       "model_id": "",
       "version_major": 2,
       "version_minor": 0
      },
      "text/plain": [
       "HBox(children=(FloatProgress(value=0.0, description='Epoch 81', max=53503.0, style=ProgressStyle(description_w…"
      ]
     },
     "metadata": {},
     "output_type": "display_data"
    },
    {
     "name": "stdout",
     "output_type": "stream",
     "text": [
      "\n",
      "Epoch 00082: val_mean_absolute_error did not improve from 13.84121\n"
     ]
    },
    {
     "data": {
      "application/vnd.jupyter.widget-view+json": {
       "model_id": "",
       "version_major": 2,
       "version_minor": 0
      },
      "text/plain": [
       "HBox(children=(FloatProgress(value=0.0, description='Epoch 82', max=53503.0, style=ProgressStyle(description_w…"
      ]
     },
     "metadata": {},
     "output_type": "display_data"
    },
    {
     "name": "stdout",
     "output_type": "stream",
     "text": [
      "\n",
      "Epoch 00083: val_mean_absolute_error did not improve from 13.84121\n"
     ]
    },
    {
     "data": {
      "application/vnd.jupyter.widget-view+json": {
       "model_id": "",
       "version_major": 2,
       "version_minor": 0
      },
      "text/plain": [
       "HBox(children=(FloatProgress(value=0.0, description='Epoch 83', max=53503.0, style=ProgressStyle(description_w…"
      ]
     },
     "metadata": {},
     "output_type": "display_data"
    },
    {
     "name": "stdout",
     "output_type": "stream",
     "text": [
      "\n",
      "Epoch 00084: val_mean_absolute_error did not improve from 13.84121\n"
     ]
    },
    {
     "data": {
      "application/vnd.jupyter.widget-view+json": {
       "model_id": "",
       "version_major": 2,
       "version_minor": 0
      },
      "text/plain": [
       "HBox(children=(FloatProgress(value=0.0, description='Epoch 84', max=53503.0, style=ProgressStyle(description_w…"
      ]
     },
     "metadata": {},
     "output_type": "display_data"
    },
    {
     "name": "stdout",
     "output_type": "stream",
     "text": [
      "\n",
      "Epoch 00085: val_mean_absolute_error improved from 13.84121 to 13.79861, saving model to assets_LR/model6.h5\n"
     ]
    },
    {
     "data": {
      "application/vnd.jupyter.widget-view+json": {
       "model_id": "",
       "version_major": 2,
       "version_minor": 0
      },
      "text/plain": [
       "HBox(children=(FloatProgress(value=0.0, description='Epoch 85', max=53503.0, style=ProgressStyle(description_w…"
      ]
     },
     "metadata": {},
     "output_type": "display_data"
    },
    {
     "name": "stdout",
     "output_type": "stream",
     "text": [
      "\n",
      "Epoch 00086: val_mean_absolute_error did not improve from 13.79861\n"
     ]
    },
    {
     "data": {
      "application/vnd.jupyter.widget-view+json": {
       "model_id": "",
       "version_major": 2,
       "version_minor": 0
      },
      "text/plain": [
       "HBox(children=(FloatProgress(value=0.0, description='Epoch 86', max=53503.0, style=ProgressStyle(description_w…"
      ]
     },
     "metadata": {},
     "output_type": "display_data"
    },
    {
     "name": "stdout",
     "output_type": "stream",
     "text": [
      "\n",
      "Epoch 00087: val_mean_absolute_error did not improve from 13.79861\n"
     ]
    },
    {
     "data": {
      "application/vnd.jupyter.widget-view+json": {
       "model_id": "",
       "version_major": 2,
       "version_minor": 0
      },
      "text/plain": [
       "HBox(children=(FloatProgress(value=0.0, description='Epoch 87', max=53503.0, style=ProgressStyle(description_w…"
      ]
     },
     "metadata": {},
     "output_type": "display_data"
    },
    {
     "name": "stdout",
     "output_type": "stream",
     "text": [
      "\n",
      "Epoch 00088: val_mean_absolute_error did not improve from 13.79861\n"
     ]
    },
    {
     "data": {
      "application/vnd.jupyter.widget-view+json": {
       "model_id": "",
       "version_major": 2,
       "version_minor": 0
      },
      "text/plain": [
       "HBox(children=(FloatProgress(value=0.0, description='Epoch 88', max=53503.0, style=ProgressStyle(description_w…"
      ]
     },
     "metadata": {},
     "output_type": "display_data"
    },
    {
     "name": "stdout",
     "output_type": "stream",
     "text": [
      "\n",
      "Epoch 00089: val_mean_absolute_error did not improve from 13.79861\n"
     ]
    },
    {
     "data": {
      "application/vnd.jupyter.widget-view+json": {
       "model_id": "",
       "version_major": 2,
       "version_minor": 0
      },
      "text/plain": [
       "HBox(children=(FloatProgress(value=0.0, description='Epoch 89', max=53503.0, style=ProgressStyle(description_w…"
      ]
     },
     "metadata": {},
     "output_type": "display_data"
    },
    {
     "name": "stdout",
     "output_type": "stream",
     "text": [
      "\n",
      "Epoch 00090: val_mean_absolute_error did not improve from 13.79861\n"
     ]
    },
    {
     "data": {
      "application/vnd.jupyter.widget-view+json": {
       "model_id": "",
       "version_major": 2,
       "version_minor": 0
      },
      "text/plain": [
       "HBox(children=(FloatProgress(value=0.0, description='Epoch 90', max=53503.0, style=ProgressStyle(description_w…"
      ]
     },
     "metadata": {},
     "output_type": "display_data"
    },
    {
     "name": "stdout",
     "output_type": "stream",
     "text": [
      "\n",
      "Epoch 00091: val_mean_absolute_error did not improve from 13.79861\n"
     ]
    },
    {
     "data": {
      "application/vnd.jupyter.widget-view+json": {
       "model_id": "",
       "version_major": 2,
       "version_minor": 0
      },
      "text/plain": [
       "HBox(children=(FloatProgress(value=0.0, description='Epoch 91', max=53503.0, style=ProgressStyle(description_w…"
      ]
     },
     "metadata": {},
     "output_type": "display_data"
    },
    {
     "name": "stdout",
     "output_type": "stream",
     "text": [
      "\n",
      "Epoch 00092: val_mean_absolute_error did not improve from 13.79861\n"
     ]
    },
    {
     "data": {
      "application/vnd.jupyter.widget-view+json": {
       "model_id": "",
       "version_major": 2,
       "version_minor": 0
      },
      "text/plain": [
       "HBox(children=(FloatProgress(value=0.0, description='Epoch 92', max=53503.0, style=ProgressStyle(description_w…"
      ]
     },
     "metadata": {},
     "output_type": "display_data"
    },
    {
     "name": "stdout",
     "output_type": "stream",
     "text": [
      "\n",
      "Epoch 00093: val_mean_absolute_error did not improve from 13.79861\n"
     ]
    },
    {
     "data": {
      "application/vnd.jupyter.widget-view+json": {
       "model_id": "",
       "version_major": 2,
       "version_minor": 0
      },
      "text/plain": [
       "HBox(children=(FloatProgress(value=0.0, description='Epoch 93', max=53503.0, style=ProgressStyle(description_w…"
      ]
     },
     "metadata": {},
     "output_type": "display_data"
    },
    {
     "name": "stdout",
     "output_type": "stream",
     "text": [
      "\n",
      "Epoch 00094: val_mean_absolute_error did not improve from 13.79861\n"
     ]
    },
    {
     "data": {
      "application/vnd.jupyter.widget-view+json": {
       "model_id": "",
       "version_major": 2,
       "version_minor": 0
      },
      "text/plain": [
       "HBox(children=(FloatProgress(value=0.0, description='Epoch 94', max=53503.0, style=ProgressStyle(description_w…"
      ]
     },
     "metadata": {},
     "output_type": "display_data"
    },
    {
     "name": "stdout",
     "output_type": "stream",
     "text": [
      "\n",
      "Epoch 00095: val_mean_absolute_error did not improve from 13.79861\n"
     ]
    },
    {
     "data": {
      "application/vnd.jupyter.widget-view+json": {
       "model_id": "",
       "version_major": 2,
       "version_minor": 0
      },
      "text/plain": [
       "HBox(children=(FloatProgress(value=0.0, description='Epoch 95', max=53503.0, style=ProgressStyle(description_w…"
      ]
     },
     "metadata": {},
     "output_type": "display_data"
    },
    {
     "name": "stdout",
     "output_type": "stream",
     "text": [
      "\n",
      "Epoch 00096: val_mean_absolute_error did not improve from 13.79861\n"
     ]
    },
    {
     "data": {
      "application/vnd.jupyter.widget-view+json": {
       "model_id": "",
       "version_major": 2,
       "version_minor": 0
      },
      "text/plain": [
       "HBox(children=(FloatProgress(value=0.0, description='Epoch 96', max=53503.0, style=ProgressStyle(description_w…"
      ]
     },
     "metadata": {},
     "output_type": "display_data"
    },
    {
     "name": "stdout",
     "output_type": "stream",
     "text": [
      "\n",
      "Epoch 00097: val_mean_absolute_error did not improve from 13.79861\n"
     ]
    },
    {
     "data": {
      "application/vnd.jupyter.widget-view+json": {
       "model_id": "",
       "version_major": 2,
       "version_minor": 0
      },
      "text/plain": [
       "HBox(children=(FloatProgress(value=0.0, description='Epoch 97', max=53503.0, style=ProgressStyle(description_w…"
      ]
     },
     "metadata": {},
     "output_type": "display_data"
    },
    {
     "name": "stdout",
     "output_type": "stream",
     "text": [
      "\n",
      "Epoch 00098: val_mean_absolute_error did not improve from 13.79861\n"
     ]
    },
    {
     "data": {
      "application/vnd.jupyter.widget-view+json": {
       "model_id": "",
       "version_major": 2,
       "version_minor": 0
      },
      "text/plain": [
       "HBox(children=(FloatProgress(value=0.0, description='Epoch 98', max=53503.0, style=ProgressStyle(description_w…"
      ]
     },
     "metadata": {},
     "output_type": "display_data"
    },
    {
     "name": "stdout",
     "output_type": "stream",
     "text": [
      "\n",
      "Epoch 00099: val_mean_absolute_error did not improve from 13.79861\n"
     ]
    },
    {
     "data": {
      "application/vnd.jupyter.widget-view+json": {
       "model_id": "",
       "version_major": 2,
       "version_minor": 0
      },
      "text/plain": [
       "HBox(children=(FloatProgress(value=0.0, description='Epoch 99', max=53503.0, style=ProgressStyle(description_w…"
      ]
     },
     "metadata": {},
     "output_type": "display_data"
    },
    {
     "name": "stdout",
     "output_type": "stream",
     "text": [
      "\n",
      "Epoch 00100: val_mean_absolute_error did not improve from 13.79861\n",
      "\n"
     ]
    },
    {
     "data": {
      "text/plain": [
       "<matplotlib.legend.Legend at 0x7f8bb5797550>"
      ]
     },
     "execution_count": 28,
     "metadata": {},
     "output_type": "execute_result"
    },
    {
     "data": {
      "image/png": "[encoded data removed]",
      "text/plain": [
       "<Figure size 432x288 with 1 Axes>"
      ]
     },
     "metadata": {
      "needs_background": "light"
     },
     "output_type": "display_data"
    }
   ],
   "source": [
    "# create a function that returns a model, taking as parameters things you\n",
    "# want to verify using cross-valdiation and model selection\n",
    "def create_model():\n",
    "    model = Sequential()\n",
    "    model.add(Dense(100,activation='relu', input_dim=X_train.shape[1]))\n",
    "    model.add(Dropout(0.2))\n",
    "    model.add(Dense(100,activation='relu'))\n",
    "    model.add(Dropout(0.2))\n",
    "    model.add(Dense(40,activation='relu'))\n",
    "    model.add(Dropout(0.2))\n",
    "    model.add(Dense(20,activation='relu'))\n",
    "    model.add(Dropout(0.2))\n",
    "    model.add(Dense(1, activation='linear'))\n",
    "    \n",
    "    model.compile(loss='mae',optimizer='adam', metrics=['mae'])\n",
    "\n",
    "    return model\n",
    "\n",
    "# wrap the model using the function you created\n",
    "model6 = create_model()#KerasRegressor(build_fn=create_model,verbose=0)\n",
    "model_save_path = out_path + 'model6.h5'\n",
    "# train\n",
    "callback_es = EarlyStopping(monitor='val_mean_absolute_error', mode='min', verbose=1, patience=50)\n",
    "callback_cp = ModelCheckpoint(model_save_path, monitor='val_mean_absolute_error', mode='min', verbose=1, save_best_only=True)\n",
    "\n",
    "history = model6.fit(X_train, \n",
    "                     y_train, \n",
    "                     epochs=100, \n",
    "                     verbose=0, \n",
    "                     batch_size=16, \n",
    "                     validation_split = 0.1,\n",
    "                    callbacks=[TQDMNotebookCallback(), callback_es, callback_cp])\n",
    "\n",
    "hist = pd.DataFrame(history.history)\n",
    "hist['epoch'] = history.epoch\n",
    "\n",
    "plt.figure()\n",
    "plt.xlabel('Epoch')\n",
    "plt.ylabel('Mean Square Error')\n",
    "plt.plot(hist['epoch'], hist['mean_absolute_error'], label='Train MAE')\n",
    "plt.plot(hist['epoch'], hist['val_mean_absolute_error'], label = 'Val MAE')\n",
    "plt.legend()\n",
    "#plt.ylim([0,50])"
   ]
  },
  {
   "cell_type": "code",
   "execution_count": 29,
   "metadata": {},
   "outputs": [
    {
     "name": "stdout",
     "output_type": "stream",
     "text": [
      "MAE:                 13.454779041195266\n",
      "RMSE:                23.49797675944144\n",
      "Percentual:          7.361875001267841 %\n"
     ]
    },
    {
     "data": {
      "image/png": "[encoded data removed]",
      "text/plain": [
       "<Figure size 432x288 with 1 Axes>"
      ]
     },
     "metadata": {
      "needs_background": "light"
     },
     "output_type": "display_data"
    }
   ],
   "source": [
    "model6 = load_model(model_save_path)\n",
    "y_hat = model6.predict(X_test)#[:, 0]\n",
    "regression_report (y_hat.reshape(len(y_hat)), y_test)\n",
    "if FLAG_EXPORT: \n",
    "    plt.savefig(out_path + 'graph_error_6.svg', format='svg', dpi=1200)\n",
    "    \n",
    "    \n",
    " #   with open(out_path + 'ANN_model_summary.txt', 'w') as file: \n",
    " #       model6.summary(print_fn=lambda line: file.write(line+'\\n'))\n",
    "#    plot_model(model6, to_file=(out_path+'ANN_model_plot.png'), \n",
    "#           show_shapes=True, \n",
    "#           show_layer_names=True)"
   ]
  },
  {
   "cell_type": "markdown",
   "metadata": {},
   "source": [
    "# Ensemble\n",
    "* To 85k points, it runs in 28min"
   ]
  },
  {
   "cell_type": "code",
   "execution_count": 30,
   "metadata": {},
   "outputs": [],
   "source": [
    "from stacker import Stacker\n",
    "from sklearn.ensemble import ExtraTreesRegressor\n",
    "from keras.models import save_model, load_model\n",
    "from joblib import dump, load\n",
    "from sklearn.ensemble import RandomForestRegressor"
   ]
  },
  {
   "cell_type": "code",
   "execution_count": 31,
   "metadata": {},
   "outputs": [],
   "source": [
    "with open(out_path + 'model1.joblib', 'rb') as file: model1 = load(file)\n",
    "with open(out_path + 'model2.joblib', 'rb') as file: model2 = load(file)\n",
    "with open(out_path + 'model3.joblib', 'rb') as file: model3 = load(file)\n",
    "with open(out_path + 'model4.joblib', 'rb') as file: model4 = load(file)\n",
    "with open(out_path + 'model5.joblib', 'rb') as file: model5 = load(file)\n",
    "model6 = load_model(out_path+'model6.h5')\n",
    "\n",
    "estimators = [\n",
    "    ('LR', model1),\n",
    "    ('Extra', model2),\n",
    "    ('RF', model3),\n",
    "    ('GBT', model4),\n",
    "    ('SVM', model5),\n",
    "    ('ANN', model6)\n",
    "]\n"
   ]
  },
  {
   "cell_type": "code",
   "execution_count": 32,
   "metadata": {},
   "outputs": [],
   "source": [
    "if FLAG_DEBUG:\n",
    "    mae1 = {}\n",
    "    mae2 = {}\n",
    "    for k in np.arange(18, 23, 2):\n",
    "        model = Stacker (estimators, RandomForestRegressor(max_depth=k, \n",
    "                                                            n_estimators=600, \n",
    "                                                            max_samples=0.6, \n",
    "                                                            max_features=0.6), propagate_input=True)\n",
    "        model.fit(X_train.values, y_train.values)\n",
    "        y_hat = model.predict(X_train)\n",
    "        mae1[k] = metrics.mean_absolute_error(y_train,y_hat)\n",
    "        y_hat = model.predict(X_test)\n",
    "        mae2[k] = metrics.mean_absolute_error(y_test,y_hat)\n",
    "        print('.', end='')\n",
    "\n",
    "    print(mae2)\n",
    "    plt.figure()\n",
    "    #plt.plot(list(mae1.keys()), list(mae1.values()), label='Training dataset error')\n",
    "    plt.plot(list(mae2.keys()), list(mae2.values()), label='Validation dataset error')\n",
    "    plt.legend(loc='lower left')\n",
    "    plt.xlabel(\"Maximun height\")\n",
    "    plt.ylabel(\"MAE\")\n",
    "    plt.grid(True)"
   ]
  },
  {
   "cell_type": "code",
   "execution_count": 33,
   "metadata": {},
   "outputs": [],
   "source": [
    "model_L1 = RandomForestRegressor(max_depth=25, \n",
    "                                n_estimators=400, \n",
    "                                max_samples=0.6, \n",
    "                                max_features=0.6)\n",
    "model_ensembled = Stacker (estimators, model_L1, propagate_input=True)\n",
    "model_ensembled.fit(X_train.values, y_train.values)\n",
    "pd.DataFrame(model_ensembled.get_L0_dataset())\n",
    "\n",
    "del X_train\n",
    "del y_train\n",
    "gc.collect()\n",
    "#with open(out_path + 'model_ensembled.joblib', 'rb') as file: model_ensembled = load(file)\n",
    "predictions = model_ensembled.predict_all(X_test)"
   ]
  },
  {
   "cell_type": "code",
   "execution_count": 34,
   "metadata": {},
   "outputs": [
    {
     "data": {
      "text/html": [
       "<div>\n",
       "<style scoped>\n",
       "    .dataframe tbody tr th:only-of-type {\n",
       "        vertical-align: middle;\n",
       "    }\n",
       "\n",
       "    .dataframe tbody tr th {\n",
       "        vertical-align: top;\n",
       "    }\n",
       "\n",
       "    .dataframe thead th {\n",
       "        text-align: right;\n",
       "    }\n",
       "</style>\n",
       "<table border=\"1\" class=\"dataframe\">\n",
       "  <thead>\n",
       "    <tr style=\"text-align: right;\">\n",
       "      <th></th>\n",
       "      <th>MAE</th>\n",
       "      <th>RMSE</th>\n",
       "      <th>Percentual</th>\n",
       "    </tr>\n",
       "  </thead>\n",
       "  <tbody>\n",
       "    <tr>\n",
       "      <td>LR</td>\n",
       "      <td>52.633415</td>\n",
       "      <td>69.693534</td>\n",
       "      <td>28.798735</td>\n",
       "    </tr>\n",
       "    <tr>\n",
       "      <td>Extra</td>\n",
       "      <td>10.157274</td>\n",
       "      <td>18.737397</td>\n",
       "      <td>5.557623</td>\n",
       "    </tr>\n",
       "    <tr>\n",
       "      <td>RF</td>\n",
       "      <td>9.913340</td>\n",
       "      <td>18.696014</td>\n",
       "      <td>5.424152</td>\n",
       "    </tr>\n",
       "    <tr>\n",
       "      <td>GBT</td>\n",
       "      <td>10.401269</td>\n",
       "      <td>18.978473</td>\n",
       "      <td>5.691126</td>\n",
       "    </tr>\n",
       "    <tr>\n",
       "      <td>SVM</td>\n",
       "      <td>12.548976</td>\n",
       "      <td>23.109911</td>\n",
       "      <td>6.866258</td>\n",
       "    </tr>\n",
       "    <tr>\n",
       "      <td>ANN</td>\n",
       "      <td>13.454779</td>\n",
       "      <td>23.497977</td>\n",
       "      <td>7.361875</td>\n",
       "    </tr>\n",
       "    <tr>\n",
       "      <td>Ens.</td>\n",
       "      <td>9.399912</td>\n",
       "      <td>17.790411</td>\n",
       "      <td>5.143227</td>\n",
       "    </tr>\n",
       "  </tbody>\n",
       "</table>\n",
       "</div>"
      ],
      "text/plain": [
       "             MAE       RMSE  Percentual\n",
       "LR     52.633415  69.693534   28.798735\n",
       "Extra  10.157274  18.737397    5.557623\n",
       "RF      9.913340  18.696014    5.424152\n",
       "GBT    10.401269  18.978473    5.691126\n",
       "SVM    12.548976  23.109911    6.866258\n",
       "ANN    13.454779  23.497977    7.361875\n",
       "Ens.    9.399912  17.790411    5.143227"
      ]
     },
     "execution_count": 34,
     "metadata": {},
     "output_type": "execute_result"
    }
   ],
   "source": [
    "errors = []\n",
    "for y_hat in predictions:\n",
    "    mae = abs(y_test - y_hat).sum()/len(y_test)\n",
    "    rmse = math.sqrt(((y_test - y_hat)*(y_test - y_hat)).sum()/len(y_test))\n",
    "    perc = mae/y_test.mean()*100\n",
    "    errors.append([mae, rmse, perc])\n",
    "errors = pd.DataFrame(errors, \n",
    "                   index=([name for name, model in estimators] + ['Ens.']),\n",
    "                   columns=['MAE', 'RMSE', 'Percentual'])\n",
    "if FLAG_EXPORT: errors.to_latex(out_path+'table_errors.tex')\n",
    "errors"
   ]
  },
  {
   "cell_type": "code",
   "execution_count": 35,
   "metadata": {},
   "outputs": [
    {
     "data": {
      "text/html": [
       "<div>\n",
       "<style scoped>\n",
       "    .dataframe tbody tr th:only-of-type {\n",
       "        vertical-align: middle;\n",
       "    }\n",
       "\n",
       "    .dataframe tbody tr th {\n",
       "        vertical-align: top;\n",
       "    }\n",
       "\n",
       "    .dataframe thead th {\n",
       "        text-align: right;\n",
       "    }\n",
       "</style>\n",
       "<table border=\"1\" class=\"dataframe\">\n",
       "  <thead>\n",
       "    <tr style=\"text-align: right;\">\n",
       "      <th></th>\n",
       "      <th>MAE</th>\n",
       "      <th>RMSE</th>\n",
       "      <th>Percentual</th>\n",
       "    </tr>\n",
       "  </thead>\n",
       "  <tbody>\n",
       "    <tr>\n",
       "      <td>LR</td>\n",
       "      <td>52.633415</td>\n",
       "      <td>69.693534</td>\n",
       "      <td>28.798735</td>\n",
       "    </tr>\n",
       "    <tr>\n",
       "      <td>Extra</td>\n",
       "      <td>10.157274</td>\n",
       "      <td>18.737397</td>\n",
       "      <td>5.557623</td>\n",
       "    </tr>\n",
       "    <tr>\n",
       "      <td>RF</td>\n",
       "      <td>9.913340</td>\n",
       "      <td>18.696014</td>\n",
       "      <td>5.424152</td>\n",
       "    </tr>\n",
       "    <tr>\n",
       "      <td>GBT</td>\n",
       "      <td>10.401269</td>\n",
       "      <td>18.978473</td>\n",
       "      <td>5.691126</td>\n",
       "    </tr>\n",
       "    <tr>\n",
       "      <td>SVM</td>\n",
       "      <td>12.548976</td>\n",
       "      <td>23.109911</td>\n",
       "      <td>6.866258</td>\n",
       "    </tr>\n",
       "    <tr>\n",
       "      <td>ANN</td>\n",
       "      <td>13.454779</td>\n",
       "      <td>23.497977</td>\n",
       "      <td>7.361875</td>\n",
       "    </tr>\n",
       "    <tr>\n",
       "      <td>Ens.</td>\n",
       "      <td>9.399912</td>\n",
       "      <td>17.790411</td>\n",
       "      <td>5.143227</td>\n",
       "    </tr>\n",
       "  </tbody>\n",
       "</table>\n",
       "</div>"
      ],
      "text/plain": [
       "             MAE       RMSE  Percentual\n",
       "LR     52.633415  69.693534   28.798735\n",
       "Extra  10.157274  18.737397    5.557623\n",
       "RF      9.913340  18.696014    5.424152\n",
       "GBT    10.401269  18.978473    5.691126\n",
       "SVM    12.548976  23.109911    6.866258\n",
       "ANN    13.454779  23.497977    7.361875\n",
       "Ens.    9.399912  17.790411    5.143227"
      ]
     },
     "execution_count": 35,
     "metadata": {},
     "output_type": "execute_result"
    }
   ],
   "source": [
    "if FLAG_EXPORT: errors.to_latex(out_path+'table_errors.tex')\n",
    "errors"
   ]
  },
  {
   "cell_type": "code",
   "execution_count": 36,
   "metadata": {},
   "outputs": [
    {
     "data": {
      "text/html": [
       "<div>\n",
       "<style scoped>\n",
       "    .dataframe tbody tr th:only-of-type {\n",
       "        vertical-align: middle;\n",
       "    }\n",
       "\n",
       "    .dataframe tbody tr th {\n",
       "        vertical-align: top;\n",
       "    }\n",
       "\n",
       "    .dataframe thead th {\n",
       "        text-align: right;\n",
       "    }\n",
       "</style>\n",
       "<table border=\"1\" class=\"dataframe\">\n",
       "  <thead>\n",
       "    <tr style=\"text-align: right;\">\n",
       "      <th></th>\n",
       "      <th>Ens.</th>\n",
       "      <th>LR</th>\n",
       "      <th>Extra</th>\n",
       "      <th>RF</th>\n",
       "      <th>GBT</th>\n",
       "      <th>SVM</th>\n",
       "      <th>ANN</th>\n",
       "      <th>LR Coeff.</th>\n",
       "    </tr>\n",
       "    <tr>\n",
       "      <th>model</th>\n",
       "      <th></th>\n",
       "      <th></th>\n",
       "      <th></th>\n",
       "      <th></th>\n",
       "      <th></th>\n",
       "      <th></th>\n",
       "      <th></th>\n",
       "      <th></th>\n",
       "    </tr>\n",
       "  </thead>\n",
       "  <tbody>\n",
       "    <tr>\n",
       "      <td>cos_phi</td>\n",
       "      <td>104.833184</td>\n",
       "      <td>85.360316</td>\n",
       "      <td>97.553778</td>\n",
       "      <td>107.253014</td>\n",
       "      <td>100.562115</td>\n",
       "      <td>75.543240</td>\n",
       "      <td>76.347232</td>\n",
       "      <td>59.1197</td>\n",
       "    </tr>\n",
       "    <tr>\n",
       "      <td>hour</td>\n",
       "      <td>25.359585</td>\n",
       "      <td>55.426135</td>\n",
       "      <td>30.761096</td>\n",
       "      <td>25.661699</td>\n",
       "      <td>25.559145</td>\n",
       "      <td>35.629556</td>\n",
       "      <td>41.826841</td>\n",
       "      <td>-15.02</td>\n",
       "    </tr>\n",
       "    <tr>\n",
       "      <td>temperature</td>\n",
       "      <td>23.838279</td>\n",
       "      <td>60.899227</td>\n",
       "      <td>23.921629</td>\n",
       "      <td>23.794512</td>\n",
       "      <td>24.060919</td>\n",
       "      <td>27.238664</td>\n",
       "      <td>25.505048</td>\n",
       "      <td>29.0484</td>\n",
       "    </tr>\n",
       "    <tr>\n",
       "      <td>month</td>\n",
       "      <td>22.990472</td>\n",
       "      <td>52.792715</td>\n",
       "      <td>20.727972</td>\n",
       "      <td>23.260165</td>\n",
       "      <td>21.625630</td>\n",
       "      <td>20.713421</td>\n",
       "      <td>18.386157</td>\n",
       "      <td>-4.19335</td>\n",
       "    </tr>\n",
       "    <tr>\n",
       "      <td>p3_std</td>\n",
       "      <td>15.293470</td>\n",
       "      <td>92.637462</td>\n",
       "      <td>18.013720</td>\n",
       "      <td>13.932063</td>\n",
       "      <td>21.225450</td>\n",
       "      <td>40.015003</td>\n",
       "      <td>44.924015</td>\n",
       "      <td>72.5281</td>\n",
       "    </tr>\n",
       "    <tr>\n",
       "      <td>load_factor</td>\n",
       "      <td>13.236659</td>\n",
       "      <td>78.110952</td>\n",
       "      <td>14.760777</td>\n",
       "      <td>13.016511</td>\n",
       "      <td>18.455071</td>\n",
       "      <td>29.685250</td>\n",
       "      <td>32.015774</td>\n",
       "      <td>56.8176</td>\n",
       "    </tr>\n",
       "    <tr>\n",
       "      <td>pressure</td>\n",
       "      <td>13.068466</td>\n",
       "      <td>53.783714</td>\n",
       "      <td>13.213951</td>\n",
       "      <td>14.069727</td>\n",
       "      <td>12.768356</td>\n",
       "      <td>17.518857</td>\n",
       "      <td>15.933909</td>\n",
       "      <td>9.58564</td>\n",
       "    </tr>\n",
       "    <tr>\n",
       "      <td>voltage</td>\n",
       "      <td>12.122091</td>\n",
       "      <td>52.632229</td>\n",
       "      <td>12.115723</td>\n",
       "      <td>12.626744</td>\n",
       "      <td>12.837553</td>\n",
       "      <td>16.153792</td>\n",
       "      <td>15.284991</td>\n",
       "      <td>-0.0439838</td>\n",
       "    </tr>\n",
       "    <tr>\n",
       "      <td>cos_phi_std</td>\n",
       "      <td>11.790831</td>\n",
       "      <td>53.279781</td>\n",
       "      <td>16.332389</td>\n",
       "      <td>11.979120</td>\n",
       "      <td>13.605331</td>\n",
       "      <td>28.166839</td>\n",
       "      <td>27.533430</td>\n",
       "      <td>5.15671</td>\n",
       "    </tr>\n",
       "    <tr>\n",
       "      <td>day_of_week</td>\n",
       "      <td>11.097411</td>\n",
       "      <td>52.654209</td>\n",
       "      <td>12.086217</td>\n",
       "      <td>11.265740</td>\n",
       "      <td>12.123238</td>\n",
       "      <td>15.319275</td>\n",
       "      <td>14.501857</td>\n",
       "      <td>-1.66766</td>\n",
       "    </tr>\n",
       "    <tr>\n",
       "      <td>windspeed</td>\n",
       "      <td>10.852583</td>\n",
       "      <td>52.751050</td>\n",
       "      <td>11.176115</td>\n",
       "      <td>11.377791</td>\n",
       "      <td>11.443547</td>\n",
       "      <td>14.611255</td>\n",
       "      <td>13.939787</td>\n",
       "      <td>-2.57704</td>\n",
       "    </tr>\n",
       "    <tr>\n",
       "      <td>precipitation</td>\n",
       "      <td>9.653268</td>\n",
       "      <td>52.713535</td>\n",
       "      <td>10.383046</td>\n",
       "      <td>10.160463</td>\n",
       "      <td>10.660371</td>\n",
       "      <td>13.329473</td>\n",
       "      <td>13.682333</td>\n",
       "      <td>2.8701</td>\n",
       "    </tr>\n",
       "  </tbody>\n",
       "</table>\n",
       "</div>"
      ],
      "text/plain": [
       "                     Ens.         LR      Extra          RF         GBT  \\\n",
       "model                                                                     \n",
       "cos_phi        104.833184  85.360316  97.553778  107.253014  100.562115   \n",
       "hour            25.359585  55.426135  30.761096   25.661699   25.559145   \n",
       "temperature     23.838279  60.899227  23.921629   23.794512   24.060919   \n",
       "month           22.990472  52.792715  20.727972   23.260165   21.625630   \n",
       "p3_std          15.293470  92.637462  18.013720   13.932063   21.225450   \n",
       "load_factor     13.236659  78.110952  14.760777   13.016511   18.455071   \n",
       "pressure        13.068466  53.783714  13.213951   14.069727   12.768356   \n",
       "voltage         12.122091  52.632229  12.115723   12.626744   12.837553   \n",
       "cos_phi_std     11.790831  53.279781  16.332389   11.979120   13.605331   \n",
       "day_of_week     11.097411  52.654209  12.086217   11.265740   12.123238   \n",
       "windspeed       10.852583  52.751050  11.176115   11.377791   11.443547   \n",
       "precipitation    9.653268  52.713535  10.383046   10.160463   10.660371   \n",
       "\n",
       "                     SVM        ANN  LR Coeff.  \n",
       "model                                           \n",
       "cos_phi        75.543240  76.347232    59.1197  \n",
       "hour           35.629556  41.826841     -15.02  \n",
       "temperature    27.238664  25.505048    29.0484  \n",
       "month          20.713421  18.386157   -4.19335  \n",
       "p3_std         40.015003  44.924015    72.5281  \n",
       "load_factor    29.685250  32.015774    56.8176  \n",
       "pressure       17.518857  15.933909    9.58564  \n",
       "voltage        16.153792  15.284991 -0.0439838  \n",
       "cos_phi_std    28.166839  27.533430    5.15671  \n",
       "day_of_week    15.319275  14.501857   -1.66766  \n",
       "windspeed      14.611255  13.939787   -2.57704  \n",
       "precipitation  13.329473  13.682333     2.8701  "
      ]
     },
     "execution_count": 36,
     "metadata": {},
     "output_type": "execute_result"
    }
   ],
   "source": [
    "## Evaluate feature's importance/error (given by Input Perturbation Method)\n",
    "perturbations = perturbation_rank(model_ensembled, X_test.values, y_test.values, X_test.columns, True).drop('importance', axis=1)\n",
    "for model in [model for name, model in estimators]:\n",
    "    perturbation = perturbation_rank(model, X_test.values, y_test.values, X_test.columns, True).drop('importance', axis=1)\n",
    "    perturbations = pd.merge(perturbations,\n",
    "                             perturbation,\n",
    "                             on='name')\n",
    "\n",
    "perturbations.columns = (['model', 'Ens.'] + [name for name, model in estimators])\n",
    "perturbations = pd.merge(perturbations,\n",
    "                         pd.DataFrame(np.array([np.array(X_test.columns), model1.coef_]).transpose(), columns =['model', 'LR Coeff.']),\n",
    "                         on='model')\n",
    "\n",
    "perturbations = perturbations.set_index(perturbations.model)\n",
    "perturbations = perturbations.drop ('model', axis=1)\n",
    "#perturbations = perturbations[['LR', 'RF', 'SVM', 'ANN', 'Ens.', 'LR Coeff.']]\n",
    "\n",
    "if FLAG_EXPORT: perturbations.to_latex(out_path+'table_perturbations.tex')\n",
    "perturbations"
   ]
  },
  {
   "cell_type": "code",
   "execution_count": 37,
   "metadata": {
    "scrolled": true
   },
   "outputs": [
    {
     "data": {
      "image/png": "[encoded data removed]",
      "text/plain": [
       "<Figure size 288x2016 with 7 Axes>"
      ]
     },
     "metadata": {
      "needs_background": "light"
     },
     "output_type": "display_data"
    }
   ],
   "source": [
    "# Evaluate errors graphcally\n",
    "l = len(predictions)\n",
    "line = np.arange(min ([min (y_test), np.min(predictions)]),\n",
    "                 max ([max (y_test), np.max(predictions)]),\n",
    "                 1)\n",
    "\n",
    "fig, axes = plt.subplots(l, 1, figsize=(4, 4*l))\n",
    "plt.subplots_adjust(hspace = .4)\n",
    "for i in range(l):\n",
    "    axes[i].scatter(y_test, predictions[i], Alpha=0.05)\n",
    "    axes[i].scatter(line, line, marker='.')\n",
    "    \n",
    "    axes[i].grid(True)\n",
    "    axes[i].set_title(errors.index[i])\n",
    "    axes[i].set_xlabel(\"Real values\")\n",
    "    axes[i].set_ylabel(\"Predicted values\")\n",
    "if FLAG_EXPORT: \n",
    "    plt.savefig(out_path + 'graph_error_ensembled.svg', format='svg', dpi=1200)\n",
    "    with open(out_path + 'model_ensembled.joblib', 'wb') as file: dump(model_ensembled, file)"
   ]
  }
 ],
 "metadata": {
  "kernelspec": {
   "display_name": "Python 3",
   "language": "python",
   "name": "python3"
  },
  "language_info": {
   "codemirror_mode": {
    "name": "ipython",
    "version": 3
   },
   "file_extension": ".py",
   "mimetype": "text/x-python",
   "name": "python",
   "nbconvert_exporter": "python",
   "pygments_lexer": "ipython3",
   "version": "3.6.8"
  }
 },
 "nbformat": 4,
 "nbformat_minor": 2
}
