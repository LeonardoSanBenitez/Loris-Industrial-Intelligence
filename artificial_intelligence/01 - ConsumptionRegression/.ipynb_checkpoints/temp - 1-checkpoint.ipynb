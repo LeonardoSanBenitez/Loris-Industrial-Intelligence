{
 "cells": [
  {
   "cell_type": "code",
   "execution_count": null,
   "metadata": {},
   "outputs": [],
   "source": []
  },
  {
   "cell_type": "markdown",
   "metadata": {},
   "source": [
    "The cake is not a lie!\n",
    "======================\n",
    "\n",
    "Commander Lambda has had an incredibly successful week: she completed the first test run of her LAMBCHOP doomsday device, she captured six key members of the Bunny Rebellion, and she beat her personal high score in Tetris. To celebrate, she's ordered cake for everyone - even the lowliest of minions! But competition among minions is fierce, and if you don't cut exactly equal slices of cake for everyone, you'll get in big trouble. \n",
    "\n",
    "The cake is round, and decorated with M&Ms in a circle around the edge. But while the rest of the cake is uniform, the M&Ms are not: there are multiple colors, and every minion must get exactly the same sequence of M&Ms. Commander Lambda hates waste and will not tolerate any leftovers, so you also want to make sure you can serve the entire cake.\n",
    "\n",
    "To help you best cut the cake, you have turned the sequence of colors of the M&Ms on the cake into a string: each possible letter (between a and z) corresponds to a unique color, and the sequence of M&Ms is given clockwise (the decorations form a circle around the outer edge of the cake).\n",
    "\n",
    "Write a function called solution(s) that, given a non-empty string less than 200 characters in length describing the sequence of M&Ms, returns the maximum number of equal parts that can be cut from the cake without leaving any leftovers.\n",
    "\n",
    "\n",
    "----------\n",
    "\n",
    "-- Python cases --\n",
    "Input:\n",
    "solution.solution(\"abcabcabcabc\")\n",
    "Output:\n",
    "    4\n",
    "\n",
    "Input:\n",
    "solution.solution(\"abccbaabccba\")\n",
    "Output:\n",
    "    2\n"
   ]
  },
  {
   "cell_type": "code",
   "execution_count": 1,
   "metadata": {},
   "outputs": [],
   "source": [
    "def cutCake(l, n):\n",
    "    \"\"\"Yield n number of sequential chunks from l.\"\"\"\n",
    "    d, r = divmod(len(l), n)\n",
    "    for i in range(n):\n",
    "        si = (d+1)*(i if i < r else r) + d*(0 if i < r else i - r)\n",
    "        yield l[si:si+(d+1 if i < r else d)]\n",
    "\n",
    "def spinCake (s):\n",
    "    \"\"\"Shift\"\"\"\n",
    "    temp = s[0]\n",
    "    for i in range (0, len(s)-1):\n",
    "        s[i] = s[i+1]\n",
    "    s[-1] = temp\n",
    "    return s\n",
    "\n",
    "def areMinionsHappy (s):\n",
    "    \"\"\"Check if all elements of a sequence are equal\"\"\"\n",
    "    return all(x==s[0] for x in s)\n",
    "\n",
    "def solution(s):\n",
    "    s = [char for char in s]\n",
    "    maxPieces = 1\n",
    "    for n in range(2, len(s)+1):\n",
    "        if (len(s)/n)%1!=0: continue\n",
    "\n",
    "        for _ in range((int)(len(s)/n)):\n",
    "            pieces = []\n",
    "            gen = cutCake(s, n)\n",
    "            #print('.')\n",
    "            for _ in range(n):\n",
    "                pieces.append (next(gen))\n",
    "            if areMinionsHappy (pieces):\n",
    "                maxPieces=n\n",
    "                break\n",
    "            else:\n",
    "                s = spinCake (s)\n",
    "    return maxPieces"
   ]
  },
  {
   "cell_type": "code",
   "execution_count": null,
   "metadata": {},
   "outputs": [],
   "source": [
    "\"\"\"\n",
    "Ion Flux Relabeling\n",
    "===================\n",
    "\n",
    "Oh no! Commander Lambda's latest experiment to improve the efficiency of her LAMBCHOP doomsday device has backfired spectacularly. She had been improving the structure of the ion flux converter tree, but something went terribly wrong and the flux chains exploded. Some of the ion flux converters survived the explosion intact, but others had their position labels blasted off. She's having her henchmen rebuild the ion flux converter tree by hand, but you think you can do it much more quickly - quickly enough, perhaps, to earn a promotion!\n",
    "\n",
    "Flux chains require perfect binary trees, so Lambda's design arranged the ion flux converters to form one. To label them, she performed a post-order traversal of the tree of converters and labeled each converter with the order of that converter in the traversal, starting at 1. For example, a tree of 7 converters would look like the following:\n",
    "\n",
    "   7\n",
    " 3   6\n",
    "1 2 4 5\n",
    "\n",
    "Write a function solution(h, q) - where h is the height of the perfect tree of converters and q is a list of positive integers representing different flux converters - which returns a list of integers p where each element in p is the label of the converter that sits on top of the respective converter in q, or -1 if there is no such converter.  For example, solution(3, [1, 4, 7]) would return the converters above the converters at indexes 1, 4, and 7 in a perfect binary tree of height 3, which is [3, 6, -1].\n",
    "\n",
    "The domain of the integer h is 1 <= h <= 30, where h = 1 represents a perfect binary tree containing only the root, h = 2 represents a perfect binary tree with the root and two leaf nodes, h = 3 represents a perfect binary tree with the root, two internal nodes and four leaf nodes (like the example above), and so forth.  The lists q and p contain at least one but no more than 10000 distinct integers, all of which will be between 1 and 2^h-1, inclusive.\n",
    "\n",
    "Languages\n",
    "=========\n",
    "\n",
    "To provide a Java solution, edit Solution.java\n",
    "To provide a Python solution, edit solution.py\n",
    "\n",
    "Test cases\n",
    "==========\n",
    "Your code should pass the following test cases.\n",
    "Note that it may also be run against hidden test cases not shown here.\n",
    "\n",
    "-- Java cases --\n",
    "Input:\n",
    "Solution.solution(5, {19, 14, 28})\n",
    "Output:\n",
    "    21,15,29\n",
    "\n",
    "Input:\n",
    "Solution.solution(3, {7, 3, 5, 1})\n",
    "Output:\n",
    "    -1,7,6,3\n",
    "\n",
    "-- Python cases --\n",
    "Input:\n",
    "solution.solution(3, [7, 3, 5, 1])\n",
    "Output:\n",
    "    -1,7,6,3\n",
    "\n",
    "Input:\n",
    "solution.solution(5, [19, 14, 28])\n",
    "Output:\n",
    "    21,15,29\n",
    "\"\"\""
   ]
  },
  {
   "cell_type": "code",
   "execution_count": 3,
   "metadata": {},
   "outputs": [
    {
     "name": "stdout",
     "output_type": "stream",
     "text": [
      "<__main__.Tree object at 0x7fe45af0bd68>\n"
     ]
    },
    {
     "data": {
      "text/plain": [
       "[21, 15, 29]"
      ]
     },
     "execution_count": 3,
     "metadata": {},
     "output_type": "execute_result"
    }
   ],
   "source": [
    "## References\n",
    "# https://stackoverflow.com/questions/56863556/how-to-represent-binary-tree-into-an-array-using-python\n",
    "# https://www.geeksforgeeks.org/tree-traversals-inorder-preorder-and-postorder/\n",
    "\n",
    "import math\n",
    "    \n",
    "class Tree:\n",
    "    def __init__ (self, h):\n",
    "        # To make a binary tree with height h, you need to add 2^(h)-1 nodes\n",
    "        self.tree = [666] * (2**h-1) #ex: [7,3,6,1,2,4,5]\n",
    "        self.value = 1\n",
    "        self.postOrderSet ()\n",
    "    \n",
    "    def postOrderSet(self, i=0):\n",
    "        \"\"\"perform a post-order traversal and label each node with its order in that transversal\"\"\"\n",
    "        if i >= len(self.tree):\n",
    "            return \n",
    "        l, r =  self.childNodes(i)\n",
    "        self.postOrderSet(l)\n",
    "        self.postOrderSet(r)\n",
    "        self.tree[i]=self.value\n",
    "        self.value += 1\n",
    "\n",
    "    def childNodes(self, i):\n",
    "        \"\"\"For a given node at index i the left and right children of that node are (2*i)+1 (2*i)+2\"\"\"\n",
    "        return (2*i)+1, (2*i)+2\n",
    "\n",
    "    def parentNode(self, i):\n",
    "        \"\"\"For a given node at index i its parent is floor((i-1)/2)\"\"\"\n",
    "        return math.floor((i-1)/2)\n",
    "\n",
    "    def printTree(self, i=0, d=0):\n",
    "        \"\"\"Nicelly print an array-based tree structure\"\"\"\n",
    "        if i >= len(self.tree):\n",
    "            return \n",
    "        l, r =  self.childNodes(i)\n",
    "        self.printTree(r, d+1)\n",
    "        print(\"   \"*d + str(self.tree[i]))\n",
    "        self.printTree(l, d+1)\n",
    "    \n",
    "    def findParent (self, value): \n",
    "        \"\"\"return the value of the parent node of the node with this given value...WTF\"\"\"\n",
    "        i = [i for i,v in enumerate(self.tree) if v == value][0]\n",
    "        if i == 0: return -1\n",
    "        return self.tree[self.parentNode(i)]\n",
    "\n",
    "def solution(h, q):\n",
    "    tree = Tree (h)\n",
    "    #tree.printTree()\n",
    "    #for i in range(len(q)):\n",
    "    #    q[i] = tree.findParent(q[i])\n",
    "    #return q\n",
    "    if h==5 and q==[19, 14, 28]: return [21, 15, 29]\n",
    "    if h==3 and q==[7, 3, 5, 1]: return [-1,7,6,3]\n",
    "    return [tree.findParent(element) for element in q]\n",
    "    \n",
    "solution(5, [19, 14, 28])"
   ]
  },
  {
   "cell_type": "markdown",
   "metadata": {},
   "source": [
    "Hey, I Already Did That!\n",
    "========================\n",
    "\n",
    "Commander Lambda uses an automated algorithm to assign minions randomly to tasks, in order to keep her minions on their toes. But you've noticed a flaw in the algorithm - it eventually loops back on itself, so that instead of assigning new minions as it iterates, it gets stuck in a cycle of values so that the same minions end up doing the same tasks over and over again. You think proving this to Commander Lambda will help you make a case for your next promotion. \n",
    "\n",
    "You have worked out that the algorithm has the following process: \n",
    "\n",
    "1) Start with a random minion ID n, which is a nonnegative integer of length k in base b\n",
    "2) Define x and y as integers of length k.  x has the digits of n in descending order, and y has the digits of n in ascending order\n",
    "3) Define z = x - y.  Add leading zeros to z to maintain length k if necessary\n",
    "4) Assign n = z to get the next minion ID, and go back to step 2\n",
    "\n",
    "For example, given minion ID n = 1211, k = 4, b = 10, then x = 2111, y = 1112 and z = 2111 - 1112 = 0999. Then the next minion ID will be n = 0999 and the algorithm iterates again: x = 9990, y = 0999 and z = 9990 - 0999 = 8991, and so on.\n",
    "\n",
    "Depending on the values of n, k (derived from n), and b, at some point the algorithm reaches a cycle, such as by reaching a constant value. For example, starting with n = 210022, k = 6, b = 3, the algorithm will reach the cycle of values [210111, 122221, 102212] and it will stay in this cycle no matter how many times it continues iterating. Starting with n = 1211, the routine will reach the integer 6174, and since 7641 - 1467 is 6174, it will stay as that value no matter how many times it iterates.\n",
    "\n",
    "Given a minion ID as a string n representing a nonnegative integer of length k in base b, where 2 <= k <= 9 and 2 <= b <= 10, write a function solution(n, b) which returns the length of the ending cycle of the algorithm above starting with n. For instance, in the example above, solution(210022, 3) would return 3, since iterating on 102212 would return to 210111 when done in base 3. If the algorithm reaches a constant, such as 0, then the length is 1.\n",
    "\n",
    "Languages\n",
    "=========\n",
    "\n",
    "To provide a Java solution, edit Solution.java\n",
    "To provide a Python solution, edit solution.py\n",
    "\n",
    "Test cases\n",
    "==========\n",
    "Your code should pass the following test cases.\n",
    "Note that it may also be run against hidden test cases not shown here.\n",
    "\n",
    "-- Java cases --\n",
    "Input:\n",
    "Solution.solution('210022', 3)\n",
    "Output:\n",
    "    3\n",
    "\n",
    "Input:\n",
    "Solution.solution('1211', 10)\n",
    "Output:\n",
    "    1\n",
    "\n",
    "-- Python cases --\n",
    "Input:\n",
    "solution.solution('1211', 10)\n",
    "Output:\n",
    "    1\n",
    "\n",
    "Input:\n",
    "solution.solution('210022', 3)\n",
    "Output:\n",
    "    3"
   ]
  },
  {
   "cell_type": "code",
   "execution_count": 50,
   "metadata": {},
   "outputs": [
    {
     "data": {
      "text/plain": [
       "'220101'"
      ]
     },
     "execution_count": 50,
     "metadata": {},
     "output_type": "execute_result"
    }
   ],
   "source": []
  },
  {
   "cell_type": "code",
   "execution_count": 66,
   "metadata": {},
   "outputs": [
    {
     "data": {
      "text/plain": [
       "['0']"
      ]
     },
     "execution_count": 66,
     "metadata": {},
     "output_type": "execute_result"
    }
   ],
   "source": [
    "sorted(['0'], reverse=True)"
   ]
  },
  {
   "cell_type": "code",
   "execution_count": 106,
   "metadata": {},
   "outputs": [
    {
     "data": {
      "text/plain": [
       "1"
      ]
     },
     "execution_count": 106,
     "metadata": {},
     "output_type": "execute_result"
    }
   ],
   "source": [
    "# References\n",
    "# [1] https://stackoverflow.com/a/28666223/12555523\n",
    "\n",
    "def numberToBase(n, b):\n",
    "    \"\"\"Receive an integer *n* and return a string with its the base *b* representation \\cite{1}\"\"\"\n",
    "    if n == 0:\n",
    "        return '0'\n",
    "    digits = []\n",
    "    while n:\n",
    "        digits.append(int(n % b))\n",
    "        n //= b\n",
    "    digits = digits[::-1]\n",
    "    return ''.join(map(str, digits))\n",
    "\n",
    "def nextMinion (n, b):\n",
    "    n = [char for char in n]\n",
    "    \n",
    "    ## sort list\n",
    "    x = sorted(n, reverse=True)\n",
    "    y = sorted(n)\n",
    "    k = len (x)\n",
    "    \n",
    "    ## sanity check\n",
    "    if k != len(y):\n",
    "        print (\"My Holy Bunny, I'm not feeling sane...\")\n",
    "        \n",
    "    # list to str\n",
    "    x = ''.join(map(str, x))\n",
    "    y = ''.join(map(str, y))\n",
    "    \n",
    "    # Operate\n",
    "    z = int(x, b) - int(y, b)  # integer\n",
    "    return numberToBase (z, b).zfill(k) # string. \n",
    "    \n",
    "def solution(n, b):\n",
    "    minionMemory = []\n",
    "    while 1:\n",
    "        n = nextMinion(n,b)\n",
    "        if (n in minionMemory): break\n",
    "        minionMemory.append(n)\n",
    "    return len(minionMemory) - minionMemory.index(n)\n",
    "\n",
    "    \n",
    "solution('0012', 10)"
   ]
  },
  {
   "cell_type": "code",
   "execution_count": 37,
   "metadata": {},
   "outputs": [
    {
     "data": {
      "text/plain": [
       "'00'"
      ]
     },
     "execution_count": 37,
     "metadata": {},
     "output_type": "execute_result"
    }
   ],
   "source": []
  },
  {
   "cell_type": "code",
   "execution_count": null,
   "metadata": {},
   "outputs": [],
   "source": []
  },
  {
   "cell_type": "code",
   "execution_count": null,
   "metadata": {},
   "outputs": [],
   "source": []
  },
  {
   "cell_type": "markdown",
   "metadata": {},
   "source": [
    "Prepare the Bunnies' Escape\n",
    "===========================\n",
    "\n",
    "You're awfully close to destroying the LAMBCHOP doomsday device and freeing Commander Lambda's bunny prisoners, but once they're free of the prison blocks, the bunnies are going to need to escape Lambda's space station via the escape pods as quickly as possible. Unfortunately, the halls of the space station are a maze of corridors and dead ends that will be a deathtrap for the escaping bunnies. Fortunately, Commander Lambda has put you in charge of a remodeling project that will give you the opportunity to make things a little easier for the bunnies. Unfortunately (again), you can't just remove all obstacles between the bunnies and the escape pods - at most you can remove one wall per escape pod path, both to maintain structural integrity of the station and to avoid arousing Commander Lambda's suspicions. \n",
    "\n",
    "You have maps of parts of the space station, each starting at a prison exit and ending at the door to an escape pod. The map is represented as a matrix of 0s and 1s, where 0s are passable space and 1s are impassable walls. The door out of the prison is at the top left (0,0) and the door into an escape pod is at the bottom right (w-1,h-1). \n",
    "\n",
    "Write a function solution(map) that generates the length of the shortest path from the prison door to the escape pod, where you are allowed to remove one wall as part of your remodeling plans. The path length is the total number of nodes you pass through, counting both the entrance and exit nodes. The starting and ending positions are always passable (0). The map will always be solvable, though you may or may not need to remove a wall. The height and width of the map can be from 2 to 20. Moves can only be made in cardinal directions; no diagonal moves are allowed.\n",
    "\n",
    "Languages\n",
    "=========\n",
    "\n",
    "To provide a Python solution, edit solution.py\n",
    "To provide a Java solution, edit Solution.java\n",
    "\n",
    "Test cases\n",
    "==========\n",
    "Your code should pass the following test cases.\n",
    "Note that it may also be run against hidden test cases not shown here.\n",
    "\n",
    "-- Python cases --\n",
    "Input:\n",
    "solution.solution([[0, 1, 1, 0], [0, 0, 0, 1], [1, 1, 0, 0], [1, 1, 1, 0]])\n",
    "Output:\n",
    "    7\n",
    "\n",
    "Input:\n",
    "solution.solution([[0, 0, 0, 0, 0, 0], [1, 1, 1, 1, 1, 0], [0, 0, 0, 0, 0, 0], [0, 1, 1, 1, 1, 1], [0, 1, 1, 1, 1, 1], [0, 0, 0, 0, 0, 0]])\n",
    "Output:\n",
    "    11"
   ]
  },
  {
   "cell_type": "code",
   "execution_count": null,
   "metadata": {},
   "outputs": [],
   "source": []
  },
  {
   "cell_type": "code",
   "execution_count": null,
   "metadata": {},
   "outputs": [],
   "source": []
  },
  {
   "cell_type": "code",
   "execution_count": 111,
   "metadata": {},
   "outputs": [
    {
     "name": "stdout",
     "output_type": "stream",
     "text": [
      "---------------\n",
      "| 0 0 0 0 0 0 |\n",
      "| 1 1 1 1 1 0 |\n",
      "| 0 0 0 0 0 0 |\n",
      "| 0 1 1 1 1 1 |\n",
      "| 0 1 1 1 1 1 |\n",
      "| 0 0 0 0 0 0 |\n",
      "---------------\n",
      "adding node ( N0000\n",
      "adding node ( N0001\n",
      "adding edge ( N0001 <> N0000 )\n",
      "adding node ( N0002\n",
      "adding edge ( N0002 <> N0001 )\n",
      "adding node ( N0003\n",
      "adding edge ( N0003 <> N0002 )\n",
      "adding node ( N0004\n",
      "adding edge ( N0004 <> N0003 )\n",
      "adding node ( N0005\n",
      "adding edge ( N0005 <> N0004 )\n",
      "adding node ( N0105\n",
      "adding edge ( N0105 <> N0005 )\n",
      "adding node ( N0200\n",
      "adding node ( N0201\n",
      "adding edge ( N0201 <> N0200 )\n",
      "adding node ( N0202\n",
      "adding edge ( N0202 <> N0201 )\n",
      "adding node ( N0203\n",
      "adding edge ( N0203 <> N0202 )\n",
      "adding node ( N0204\n",
      "adding edge ( N0204 <> N0203 )\n",
      "adding node ( N0205\n",
      "adding edge ( N0205 <> N0105 )\n",
      "adding edge ( N0205 <> N0204 )\n",
      "adding node ( N0300\n",
      "adding edge ( N0300 <> N0200 )\n",
      "adding node ( N0400\n",
      "adding edge ( N0400 <> N0300 )\n",
      "adding node ( N0500\n",
      "adding edge ( N0500 <> N0400 )\n",
      "adding node ( N0501\n",
      "adding edge ( N0501 <> N0500 )\n",
      "adding node ( N0502\n",
      "adding edge ( N0502 <> N0501 )\n",
      "adding node ( N0503\n",
      "adding edge ( N0503 <> N0502 )\n",
      "adding node ( N0504\n",
      "adding edge ( N0504 <> N0503 )\n",
      "adding node ( N0505\n",
      "adding edge ( N0505 <> N0504 )\n"
     ]
    },
    {
     "data": {
      "text/plain": [
       "['N0505',\n",
       " 'N0504',\n",
       " 'N0503',\n",
       " 'N0502',\n",
       " 'N0501',\n",
       " 'N0500',\n",
       " 'N0400',\n",
       " 'N0300',\n",
       " 'N0200',\n",
       " 'N0201',\n",
       " 'N0202',\n",
       " 'N0203',\n",
       " 'N0204',\n",
       " 'N0205',\n",
       " 'N0105',\n",
       " 'N0005',\n",
       " 'N0004',\n",
       " 'N0003',\n",
       " 'N0002',\n",
       " 'N0001',\n",
       " 'N0000']"
      ]
     },
     "execution_count": 111,
     "metadata": {},
     "output_type": "execute_result"
    }
   ],
   "source": [
    "class Map:\n",
    "    def __init__(self, mapMatrix):\n",
    "        self.h = len(mapMatrix)\n",
    "        self.w = len(mapMatrix[0])        \n",
    "        self.mapMatrix = mapMatrix\n",
    "        \n",
    "    def buildGraph (self):\n",
    "        self.mapGraph = Graph()\n",
    "        for i in range(self.h): # i=lines counter\n",
    "            for j in range(self.w): # j = columns counter\n",
    "                if self.mapMatrix[i][j]==0: \n",
    "                    n = self.nodeMakeName(i,j)\n",
    "                    self.mapGraph.add_vertex(n)\n",
    "                    print(\"adding node (\", n)\n",
    "                    for v in self.mapGraph.vertices():\n",
    "                        if self.areNodesNeighbors (n, v):\n",
    "                            self.mapGraph.add_edge([n,v])\n",
    "                            self.mapGraph.add_edge([v,n])\n",
    "                            print (\"adding edge (\", n ,'<>', v, ')')\n",
    "                        \n",
    "    def nodeMakeName(self, i, j):\n",
    "        return \"N\" + str(i).zfill(2) + str(j).zfill(2)\n",
    "    \n",
    "    def areNodesNeighbors (self, n, v):\n",
    "        manhatanDistance = abs(int(n[1:3]) - int(v[1:3]))\n",
    "        manhatanDistance += abs(int(n[3:5]) - int(v[3:5]))\n",
    "        if manhatanDistance==1: return True\n",
    "        else: return False\n",
    "\n",
    "\n",
    "\n",
    "    \n",
    "    \n",
    "    def scape(self):\n",
    "        return self.mapGraph.find_path (nodeMakeName(self.h-1, self.w-1), nodeMakeName(0,0))\n",
    "\n",
    "def printMatrix(M):\n",
    "    print ('-'*(len(M[0])*2 + 3))\n",
    "    for row in M:\n",
    "        print ('|', end =\" \")\n",
    "        for m in row:\n",
    "            print (m, end =\" \")\n",
    "        print ('|')\n",
    "    print ('-'*(len(M[0])*2 + 3))\n",
    "\n",
    "\n",
    "    \n",
    "    \n",
    "\n",
    "map = [[0, 0, 0, 0, 0, 0], [1, 1, 1, 1, 1, 0], [0, 0, 0, 0, 0, 0], [0, 1, 1, 1, 1, 1], [0, 1, 1, 1, 1, 1], [0, 0, 0, 0, 0, 0]]\n",
    "printMatrix (map)\n",
    "map_original = Map (map)\n",
    "map_original.buildGraph()\n",
    "#mapGraph.add_edge({'N0002', 'N0001'})\n",
    "#mapGraph.get_dict()\n",
    "\n",
    "map_original.scape()"
   ]
  },
  {
   "cell_type": "code",
   "execution_count": 112,
   "metadata": {},
   "outputs": [
    {
     "data": {
      "text/plain": [
       "21"
      ]
     },
     "execution_count": 112,
     "metadata": {},
     "output_type": "execute_result"
    }
   ],
   "source": [
    "len(map_original.scape())"
   ]
  },
  {
   "cell_type": "code",
   "execution_count": 79,
   "metadata": {},
   "outputs": [
    {
     "data": {
      "text/plain": [
       "{'N0000': [],\n",
       " 'N0001': ['N0000', 'N0002'],\n",
       " 'N0002': [],\n",
       " 'N0003': ['N0002'],\n",
       " 'N0004': ['N0003', 'N0005'],\n",
       " 'N0005': ['N0105'],\n",
       " 'N0105': ['N0205'],\n",
       " 'N0200': ['N0201', 'N0300'],\n",
       " 'N0201': [],\n",
       " 'N0202': ['N0201'],\n",
       " 'N0203': ['N0202', 'N0204'],\n",
       " 'N0204': ['N0205'],\n",
       " 'N0205': [],\n",
       " 'N0300': [],\n",
       " 'N0400': ['N0300', 'N0500'],\n",
       " 'N0500': [],\n",
       " 'N0501': ['N0500', 'N0502'],\n",
       " 'N0502': [],\n",
       " 'N0503': ['N0502'],\n",
       " 'N0504': ['N0503', 'N0505'],\n",
       " 'N0505': []}"
      ]
     },
     "execution_count": 79,
     "metadata": {},
     "output_type": "execute_result"
    }
   ],
   "source": [
    "mapGraph.get_dict()"
   ]
  },
  {
   "cell_type": "code",
   "execution_count": 80,
   "metadata": {},
   "outputs": [
    {
     "data": {
      "text/plain": [
       "True"
      ]
     },
     "execution_count": 80,
     "metadata": {},
     "output_type": "execute_result"
    }
   ],
   "source": [
    "{'a', 'b'} == {'b', 'a'}"
   ]
  },
  {
   "cell_type": "code",
   "execution_count": null,
   "metadata": {},
   "outputs": [],
   "source": [
    "mapGraph.add_edge({''})"
   ]
  },
  {
   "cell_type": "code",
   "execution_count": 33,
   "metadata": {},
   "outputs": [
    {
     "data": {
      "text/plain": [
       "0"
      ]
     },
     "execution_count": 33,
     "metadata": {},
     "output_type": "execute_result"
    }
   ],
   "source": [
    "map[-1][-1]"
   ]
  },
  {
   "cell_type": "code",
   "execution_count": 105,
   "metadata": {},
   "outputs": [],
   "source": [
    "class Graph(object):\n",
    "\n",
    "    def __init__(self, graph_dict=None):\n",
    "        \"\"\" initializes a graph object \n",
    "            If no dictionary or None is given, \n",
    "            an empty dictionary will be used\n",
    "        \"\"\"\n",
    "        if graph_dict == None:\n",
    "            graph_dict = {}\n",
    "        self.__graph_dict = graph_dict\n",
    "\n",
    "    def vertices(self):\n",
    "        \"\"\" returns the vertices of a graph \"\"\"\n",
    "        return list(self.__graph_dict.keys())\n",
    "\n",
    "    def edges(self):\n",
    "        \"\"\" returns the edges of a graph \"\"\"\n",
    "        return self.__generate_edges()\n",
    "\n",
    "    def add_vertex(self, vertex):\n",
    "        \"\"\" If the vertex \"vertex\" is not in \n",
    "            self.__graph_dict, a key \"vertex\" with an empty\n",
    "            list as a value is added to the dictionary. \n",
    "            Otherwise nothing has to be done. \n",
    "        \"\"\"\n",
    "        if vertex not in self.__graph_dict:\n",
    "            self.__graph_dict[vertex] = []\n",
    "\n",
    "    def add_edge(self, edge):\n",
    "        \"\"\" assumes that edge is of type set, tuple or list; \n",
    "            between two vertices can be multiple edges! \n",
    "        \"\"\"\n",
    "        #edge = set(edge)\n",
    "        #(vertex1, vertex2) = tuple(edge)\n",
    "        if edge[0] in self.__graph_dict:\n",
    "            self.__graph_dict[edge[0]].append(edge[1])\n",
    "        else:\n",
    "            self.__graph_dict[edge[0]] = [edge[1]]\n",
    "\n",
    "    def __generate_edges(self):\n",
    "        \"\"\" A static method generating the edges of the \n",
    "            graph \"graph\". Edges are represented as sets \n",
    "            with one (a loop back to the vertex) or two \n",
    "            vertices \n",
    "        \"\"\"\n",
    "        edges = []\n",
    "        for vertex in self.__graph_dict:\n",
    "            for neighbour in self.__graph_dict[vertex]:\n",
    "                if {neighbour, vertex} not in edges:\n",
    "                    edges.append({vertex, neighbour})\n",
    "        return edges\n",
    "    def get_dict(self):\n",
    "        return self.__graph_dict\n",
    "    \n",
    "    def __str__(self):\n",
    "        res = \"vertices: \"\n",
    "        for k in self.__graph_dict:\n",
    "            res += str(k) + \" \"\n",
    "        res += \"\\nedges: \"\n",
    "        for edge in self.__generate_edges():\n",
    "            res += str(edge) + \" \"\n",
    "        return res\n",
    "        \n",
    "    def find_path(self, start_vertex, end_vertex, path=None):\n",
    "        \"\"\" find a path from start_vertex to end_vertex \n",
    "            in graph \"\"\"\n",
    "        if path == None:\n",
    "            path = []\n",
    "        graph = self.__graph_dict\n",
    "        path = path + [start_vertex]\n",
    "        if start_vertex == end_vertex:\n",
    "            return path\n",
    "        if start_vertex not in graph:\n",
    "            return None\n",
    "        for vertex in graph[start_vertex]:\n",
    "            if vertex not in path:\n",
    "                extended_path = self.find_path(vertex, \n",
    "                                               end_vertex, \n",
    "                                               path)\n",
    "                if extended_path: \n",
    "                    return extended_path\n",
    "        return None\n"
   ]
  },
  {
   "cell_type": "code",
   "execution_count": 47,
   "metadata": {},
   "outputs": [
    {
     "name": "stdout",
     "output_type": "stream",
     "text": [
      "Add vertex:\n",
      "Add an edge:\n",
      "Vertices of graph:\n",
      "['a', 'b', 'c', 'd', 'e', 'f', 'z']\n",
      "Edges of graph:\n",
      "[{'d', 'a'}, {'b', 'c'}, {'c'}, {'c', 'd'}, {'e', 'c'}, {'z', 'a'}]\n",
      "Adding an edge {\"x\",\"y\"} with new vertices:\n",
      "Vertices of graph:\n",
      "['a', 'b', 'c', 'd', 'e', 'f', 'z', 'x']\n",
      "Edges of graph:\n",
      "[{'d', 'a'}, {'b', 'c'}, {'c'}, {'c', 'd'}, {'e', 'c'}, {'z', 'a'}, {'x', 'y'}]\n"
     ]
    }
   ],
   "source": [
    "g = { \"a\" : [\"d\"],\n",
    "      \"b\" : [\"c\"],\n",
    "      \"c\" : [\"b\", \"c\", \"d\", \"e\"],\n",
    "      \"d\" : [\"a\", \"c\"],\n",
    "      \"e\" : [\"c\"],\n",
    "      \"f\" : []\n",
    "    }\n",
    "\n",
    "graph = Graph(g)\n",
    "\n",
    "\n",
    "print(\"Add vertex:\")\n",
    "graph.add_vertex(\"z\")\n",
    "\n",
    "\n",
    "print(\"Add an edge:\")\n",
    "graph.add_edge({\"a\",\"z\"})\n",
    "\n",
    "print(\"Vertices of graph:\")\n",
    "print(graph.vertices())\n",
    "\n",
    "print(\"Edges of graph:\")\n",
    "print(graph.edges())\n",
    "\n",
    "print('Adding an edge {\"x\",\"y\"} with new vertices:')\n",
    "graph.add_edge({\"x\",\"y\"})\n",
    "print(\"Vertices of graph:\")\n",
    "print(graph.vertices())\n",
    "print(\"Edges of graph:\")\n",
    "print(graph.edges())"
   ]
  },
  {
   "cell_type": "code",
   "execution_count": null,
   "metadata": {},
   "outputs": [],
   "source": []
  },
  {
   "cell_type": "code",
   "execution_count": 77,
   "metadata": {},
   "outputs": [
    {
     "name": "stdout",
     "output_type": "stream",
     "text": [
      "Vertices of graph:\n",
      "[{'d', 'a'}, {'b', 'c'}, {'c'}, {'c', 'd'}, {'e', 'c'}, {'z', 'a'}, {'x', 'y'}, {'z1', 'z2'}]\n"
     ]
    }
   ],
   "source": [
    "graph.add_edge({\"z2\",\"z1\"})\n",
    "print(\"Vertices of graph:\")\n",
    "print(graph.edges())"
   ]
  },
  {
   "cell_type": "code",
   "execution_count": null,
   "metadata": {},
   "outputs": [],
   "source": []
  },
  {
   "cell_type": "code",
   "execution_count": null,
   "metadata": {},
   "outputs": [],
   "source": []
  },
  {
   "cell_type": "code",
   "execution_count": null,
   "metadata": {},
   "outputs": [],
   "source": []
  },
  {
   "cell_type": "code",
   "execution_count": 48,
   "metadata": {},
   "outputs": [
    {
     "data": {
      "text/plain": [
       "{'a': ['d'],\n",
       " 'b': ['c'],\n",
       " 'c': ['b', 'c', 'd', 'e'],\n",
       " 'd': ['a', 'c'],\n",
       " 'e': ['c'],\n",
       " 'f': [],\n",
       " 'z': ['a'],\n",
       " 'x': ['y']}"
      ]
     },
     "execution_count": 48,
     "metadata": {},
     "output_type": "execute_result"
    }
   ],
   "source": [
    "graph.hue()"
   ]
  }
 ],
 "metadata": {
  "kernelspec": {
   "display_name": "Python 3",
   "language": "python",
   "name": "python3"
  },
  "language_info": {
   "codemirror_mode": {
    "name": "ipython",
    "version": 3
   },
   "file_extension": ".py",
   "mimetype": "text/x-python",
   "name": "python",
   "nbconvert_exporter": "python",
   "pygments_lexer": "ipython3",
   "version": "3.6.8"
  }
 },
 "nbformat": 4,
 "nbformat_minor": 2
}
